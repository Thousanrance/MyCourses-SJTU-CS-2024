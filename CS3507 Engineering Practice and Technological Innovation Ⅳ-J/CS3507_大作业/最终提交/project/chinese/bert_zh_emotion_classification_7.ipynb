{
  "cells": [
    {
      "cell_type": "code",
      "execution_count": 39,
      "metadata": {
        "id": "cU5IdKK4_YDB"
      },
      "outputs": [],
      "source": [
        "import torch\n",
        "import pandas as pd\n",
        "from tqdm import tqdm\n",
        "from torch.utils.data import Dataset\n",
        "from transformers import BertTokenizer, BertForMaskedLM\n",
        "from transformers import pipeline\n",
        "from transformers import DataCollatorForLanguageModeling\n",
        "from transformers import Trainer, TrainingArguments"
      ]
    },
    {
      "cell_type": "code",
      "execution_count": 40,
      "metadata": {},
      "outputs": [],
      "source": [
        "# 提示词\n",
        "question = \"请分析给定文本的情感，并从以下选项中选择一个：乐，哀，怒，爱，惊，惧，恶。\\n文本如下：\"\n",
        "answer = \"\\n答案是：\""
      ]
    },
    {
      "cell_type": "code",
      "execution_count": 41,
      "metadata": {},
      "outputs": [
        {
          "name": "stdout",
          "output_type": "stream",
          "text": [
            "请分析给定文本的情感，并从以下选项中选择一个：乐，哀，怒，爱，惊，惧，恶。\n",
            "文本如下：“你知道多伦多附近有什么吗？哈哈有破布耶……真的书上写的你听哦……你家那块破布是世界上最大的破布，哈哈，骗你的啦它是说尼加拉瓜瀑布是世界上最大的瀑布啦……哈哈哈”“爸爸，她的头发耶！我们大扫除椅子都要翻上来我看到木头缝里有头发……一定是xx以前夹到的，你说是不是？”[生病]\n",
            "答案是：哀\n"
          ]
        }
      ],
      "source": [
        "# 数据导入\n",
        "data = pd.read_csv(\"refresh_data\\OCEMOTION_refresh.csv\")\n",
        "texts = data['Text'].tolist()\n",
        "emotions = data['Emotion'].tolist()\n",
        "\n",
        "# 数据集规模\n",
        "train_num = 1000\n",
        "\n",
        "# 数据整理\n",
        "usable_data = []\n",
        "for i in range(train_num):\n",
        "    full_text = question + texts[i] + answer + emotions[i]\n",
        "    usable_data.append(full_text)\n",
        "\n",
        "print(usable_data[0])"
      ]
    },
    {
      "cell_type": "code",
      "execution_count": 43,
      "metadata": {},
      "outputs": [
        {
          "name": "stderr",
          "output_type": "stream",
          "text": [
            "Some weights of the model checkpoint at bert_zh were not used when initializing BertForMaskedLM: ['bert.pooler.dense.bias', 'bert.pooler.dense.weight', 'cls.seq_relationship.bias', 'cls.seq_relationship.weight']\n",
            "- This IS expected if you are initializing BertForMaskedLM from the checkpoint of a model trained on another task or with another architecture (e.g. initializing a BertForSequenceClassification model from a BertForPreTraining model).\n",
            "- This IS NOT expected if you are initializing BertForMaskedLM from the checkpoint of a model that you expect to be exactly identical (initializing a BertForSequenceClassification model from a BertForSequenceClassification model).\n",
            "  0%|          | 0/100 [00:00<?, ?it/s]Some weights of the model checkpoint at bert_zh were not used when initializing BertForMaskedLM: ['bert.pooler.dense.bias', 'bert.pooler.dense.weight', 'cls.seq_relationship.bias', 'cls.seq_relationship.weight']\n",
            "- This IS expected if you are initializing BertForMaskedLM from the checkpoint of a model trained on another task or with another architecture (e.g. initializing a BertForSequenceClassification model from a BertForPreTraining model).\n",
            "- This IS NOT expected if you are initializing BertForMaskedLM from the checkpoint of a model that you expect to be exactly identical (initializing a BertForSequenceClassification model from a BertForSequenceClassification model).\n",
            "  1%|          | 1/100 [00:01<02:09,  1.31s/it]"
          ]
        },
        {
          "name": "stdout",
          "output_type": "stream",
          "text": [
            "请分析给定文本的情感，并从以下选项中选择一个：乐，哀，怒，爱，惊，惧，恶。\n",
            "文本如下：“你知道多伦多附近有什么吗？哈哈有破布耶……真的书上写的你听哦……你家那块破布是世界上最大的破布，哈哈，骗你的啦它是说尼加拉瓜瀑布是世界上最大的瀑布啦……哈哈哈”“爸爸，她的头发耶！我们大扫除椅子都要翻上来我看到木头缝里有头发……一定是xx以前夹到的，你说是不是？”[生病]\n",
            "答案是：。\n",
            "正确答案是: 哀\n"
          ]
        },
        {
          "name": "stderr",
          "output_type": "stream",
          "text": [
            "Some weights of the model checkpoint at bert_zh were not used when initializing BertForMaskedLM: ['bert.pooler.dense.bias', 'bert.pooler.dense.weight', 'cls.seq_relationship.bias', 'cls.seq_relationship.weight']\n",
            "- This IS expected if you are initializing BertForMaskedLM from the checkpoint of a model trained on another task or with another architecture (e.g. initializing a BertForSequenceClassification model from a BertForPreTraining model).\n",
            "- This IS NOT expected if you are initializing BertForMaskedLM from the checkpoint of a model that you expect to be exactly identical (initializing a BertForSequenceClassification model from a BertForSequenceClassification model).\n",
            "  2%|▏         | 2/100 [00:02<02:07,  1.31s/it]"
          ]
        },
        {
          "name": "stdout",
          "output_type": "stream",
          "text": [
            "请分析给定文本的情感，并从以下选项中选择一个：乐，哀，怒，爱，惊，惧，恶。\n",
            "文本如下：平安夜，圣诞节，都过了，我很难过，和妈妈吵了两天，以死相逼才终止战争，现在还处于冷战中。\n",
            "答案是：。\n",
            "正确答案是: 哀\n"
          ]
        },
        {
          "name": "stderr",
          "output_type": "stream",
          "text": [
            "Some weights of the model checkpoint at bert_zh were not used when initializing BertForMaskedLM: ['bert.pooler.dense.bias', 'bert.pooler.dense.weight', 'cls.seq_relationship.bias', 'cls.seq_relationship.weight']\n",
            "- This IS expected if you are initializing BertForMaskedLM from the checkpoint of a model trained on another task or with another architecture (e.g. initializing a BertForSequenceClassification model from a BertForPreTraining model).\n",
            "- This IS NOT expected if you are initializing BertForMaskedLM from the checkpoint of a model that you expect to be exactly identical (initializing a BertForSequenceClassification model from a BertForSequenceClassification model).\n",
            "  3%|▎         | 3/100 [00:03<01:54,  1.18s/it]"
          ]
        },
        {
          "name": "stdout",
          "output_type": "stream",
          "text": [
            "请分析给定文本的情感，并从以下选项中选择一个：乐，哀，怒，爱，惊，惧，恶。\n",
            "文本如下：我只是自私了一点，做自己想做的事情！\n",
            "答案是：。\n",
            "正确答案是: 哀\n"
          ]
        },
        {
          "name": "stderr",
          "output_type": "stream",
          "text": [
            "Some weights of the model checkpoint at bert_zh were not used when initializing BertForMaskedLM: ['bert.pooler.dense.bias', 'bert.pooler.dense.weight', 'cls.seq_relationship.bias', 'cls.seq_relationship.weight']\n",
            "- This IS expected if you are initializing BertForMaskedLM from the checkpoint of a model trained on another task or with another architecture (e.g. initializing a BertForSequenceClassification model from a BertForPreTraining model).\n",
            "- This IS NOT expected if you are initializing BertForMaskedLM from the checkpoint of a model that you expect to be exactly identical (initializing a BertForSequenceClassification model from a BertForSequenceClassification model).\n",
            "  4%|▍         | 4/100 [00:04<01:49,  1.14s/it]"
          ]
        },
        {
          "name": "stdout",
          "output_type": "stream",
          "text": [
            "请分析给定文本的情感，并从以下选项中选择一个：乐，哀，怒，爱，惊，惧，恶。\n",
            "文本如下：让感动的不仅仅是雨过天晴，还有泪水流下来的迷人眼神。\n",
            "答案是：。\n",
            "正确答案是: 乐\n"
          ]
        },
        {
          "name": "stderr",
          "output_type": "stream",
          "text": [
            "Some weights of the model checkpoint at bert_zh were not used when initializing BertForMaskedLM: ['bert.pooler.dense.bias', 'bert.pooler.dense.weight', 'cls.seq_relationship.bias', 'cls.seq_relationship.weight']\n",
            "- This IS expected if you are initializing BertForMaskedLM from the checkpoint of a model trained on another task or with another architecture (e.g. initializing a BertForSequenceClassification model from a BertForPreTraining model).\n",
            "- This IS NOT expected if you are initializing BertForMaskedLM from the checkpoint of a model that you expect to be exactly identical (initializing a BertForSequenceClassification model from a BertForSequenceClassification model).\n",
            "  5%|▌         | 5/100 [00:05<01:45,  1.11s/it]"
          ]
        },
        {
          "name": "stdout",
          "output_type": "stream",
          "text": [
            "请分析给定文本的情感，并从以下选项中选择一个：乐，哀，怒，爱，惊，惧，恶。\n",
            "文本如下：好日子\n",
            "答案是：。\n",
            "正确答案是: 乐\n"
          ]
        },
        {
          "name": "stderr",
          "output_type": "stream",
          "text": [
            "Some weights of the model checkpoint at bert_zh were not used when initializing BertForMaskedLM: ['bert.pooler.dense.bias', 'bert.pooler.dense.weight', 'cls.seq_relationship.bias', 'cls.seq_relationship.weight']\n",
            "- This IS expected if you are initializing BertForMaskedLM from the checkpoint of a model trained on another task or with another architecture (e.g. initializing a BertForSequenceClassification model from a BertForPreTraining model).\n",
            "- This IS NOT expected if you are initializing BertForMaskedLM from the checkpoint of a model that you expect to be exactly identical (initializing a BertForSequenceClassification model from a BertForSequenceClassification model).\n",
            "  6%|▌         | 6/100 [00:07<01:49,  1.16s/it]"
          ]
        },
        {
          "name": "stdout",
          "output_type": "stream",
          "text": [
            "请分析给定文本的情感，并从以下选项中选择一个：乐，哀，怒，爱，惊，惧，恶。\n",
            "文本如下：每天都学到这么晚。总是兴致勃勃想着明天要七点起床继续看书。就是闹钟从来不知道何时关的。一觉醒来最早也十点了。晚上睡觉倒头就睡过去了。高考都没有这么努力过。真心累。不过过的很充实。最想说的是。这才是他妈的人生啊。。这才是像个人样的活着啊。。[泪][泪][泪][泪][泪]\n",
            "答案是：。\n",
            "正确答案是: 爱\n"
          ]
        },
        {
          "name": "stderr",
          "output_type": "stream",
          "text": [
            "Some weights of the model checkpoint at bert_zh were not used when initializing BertForMaskedLM: ['bert.pooler.dense.bias', 'bert.pooler.dense.weight', 'cls.seq_relationship.bias', 'cls.seq_relationship.weight']\n",
            "- This IS expected if you are initializing BertForMaskedLM from the checkpoint of a model trained on another task or with another architecture (e.g. initializing a BertForSequenceClassification model from a BertForPreTraining model).\n",
            "- This IS NOT expected if you are initializing BertForMaskedLM from the checkpoint of a model that you expect to be exactly identical (initializing a BertForSequenceClassification model from a BertForSequenceClassification model).\n",
            "  7%|▋         | 7/100 [00:08<01:42,  1.10s/it]"
          ]
        },
        {
          "name": "stdout",
          "output_type": "stream",
          "text": [
            "请分析给定文本的情感，并从以下选项中选择一个：乐，哀，怒，爱，惊，惧，恶。\n",
            "文本如下：终于把身份证办了。\n",
            "答案是：。\n",
            "正确答案是: 乐\n"
          ]
        },
        {
          "name": "stderr",
          "output_type": "stream",
          "text": [
            "Some weights of the model checkpoint at bert_zh were not used when initializing BertForMaskedLM: ['bert.pooler.dense.bias', 'bert.pooler.dense.weight', 'cls.seq_relationship.bias', 'cls.seq_relationship.weight']\n",
            "- This IS expected if you are initializing BertForMaskedLM from the checkpoint of a model trained on another task or with another architecture (e.g. initializing a BertForSequenceClassification model from a BertForPreTraining model).\n",
            "- This IS NOT expected if you are initializing BertForMaskedLM from the checkpoint of a model that you expect to be exactly identical (initializing a BertForSequenceClassification model from a BertForSequenceClassification model).\n",
            "  8%|▊         | 8/100 [00:09<01:41,  1.10s/it]"
          ]
        },
        {
          "name": "stdout",
          "output_type": "stream",
          "text": [
            "请分析给定文本的情感，并从以下选项中选择一个：乐，哀，怒，爱，惊，惧，恶。\n",
            "文本如下：奖学金终于到账呐……终于可以填翻笔数呐~再唔黎我就穷死噶呐~thankgod！[嘻嘻][嘻嘻][嘻嘻]\n",
            "答案是：！\n",
            "正确答案是: 乐\n"
          ]
        },
        {
          "name": "stderr",
          "output_type": "stream",
          "text": [
            "Some weights of the model checkpoint at bert_zh were not used when initializing BertForMaskedLM: ['bert.pooler.dense.bias', 'bert.pooler.dense.weight', 'cls.seq_relationship.bias', 'cls.seq_relationship.weight']\n",
            "- This IS expected if you are initializing BertForMaskedLM from the checkpoint of a model trained on another task or with another architecture (e.g. initializing a BertForSequenceClassification model from a BertForPreTraining model).\n",
            "- This IS NOT expected if you are initializing BertForMaskedLM from the checkpoint of a model that you expect to be exactly identical (initializing a BertForSequenceClassification model from a BertForSequenceClassification model).\n",
            "  9%|▉         | 9/100 [00:10<01:44,  1.15s/it]"
          ]
        },
        {
          "name": "stdout",
          "output_type": "stream",
          "text": [
            "请分析给定文本的情感，并从以下选项中选择一个：乐，哀，怒，爱，惊，惧，恶。\n",
            "文本如下：高中的时候，一次上午上课，老师大喊：谁敢不服我！一个同学心血来潮，大喊道：我不服！老师愣了一下，又大喊道：谁敢不服我俩！！老师您是要闹哪样？？\n",
            "答案是：！\n",
            "正确答案是: 乐\n"
          ]
        },
        {
          "name": "stderr",
          "output_type": "stream",
          "text": [
            "Some weights of the model checkpoint at bert_zh were not used when initializing BertForMaskedLM: ['bert.pooler.dense.bias', 'bert.pooler.dense.weight', 'cls.seq_relationship.bias', 'cls.seq_relationship.weight']\n",
            "- This IS expected if you are initializing BertForMaskedLM from the checkpoint of a model trained on another task or with another architecture (e.g. initializing a BertForSequenceClassification model from a BertForPreTraining model).\n",
            "- This IS NOT expected if you are initializing BertForMaskedLM from the checkpoint of a model that you expect to be exactly identical (initializing a BertForSequenceClassification model from a BertForSequenceClassification model).\n",
            " 10%|█         | 10/100 [00:11<01:44,  1.16s/it]"
          ]
        },
        {
          "name": "stdout",
          "output_type": "stream",
          "text": [
            "请分析给定文本的情感，并从以下选项中选择一个：乐，哀，怒，爱，惊，惧，恶。\n",
            "文本如下：汉子你尽快弃暗投明吧我忙得像只狗没空理你啊\n",
            "答案是：。\n",
            "正确答案是: 哀\n"
          ]
        },
        {
          "name": "stderr",
          "output_type": "stream",
          "text": [
            "Some weights of the model checkpoint at bert_zh were not used when initializing BertForMaskedLM: ['bert.pooler.dense.bias', 'bert.pooler.dense.weight', 'cls.seq_relationship.bias', 'cls.seq_relationship.weight']\n",
            "- This IS expected if you are initializing BertForMaskedLM from the checkpoint of a model trained on another task or with another architecture (e.g. initializing a BertForSequenceClassification model from a BertForPreTraining model).\n",
            "- This IS NOT expected if you are initializing BertForMaskedLM from the checkpoint of a model that you expect to be exactly identical (initializing a BertForSequenceClassification model from a BertForSequenceClassification model).\n",
            " 11%|█         | 11/100 [00:12<01:39,  1.12s/it]"
          ]
        },
        {
          "name": "stdout",
          "output_type": "stream",
          "text": [
            "请分析给定文本的情感，并从以下选项中选择一个：乐，哀，怒，爱，惊，惧，恶。\n",
            "文本如下：相互冲突的两种精神，都值得我们同情。黑格尔\n",
            "答案是：。\n",
            "正确答案是: 哀\n"
          ]
        },
        {
          "name": "stderr",
          "output_type": "stream",
          "text": [
            "Some weights of the model checkpoint at bert_zh were not used when initializing BertForMaskedLM: ['bert.pooler.dense.bias', 'bert.pooler.dense.weight', 'cls.seq_relationship.bias', 'cls.seq_relationship.weight']\n",
            "- This IS expected if you are initializing BertForMaskedLM from the checkpoint of a model trained on another task or with another architecture (e.g. initializing a BertForSequenceClassification model from a BertForPreTraining model).\n",
            "- This IS NOT expected if you are initializing BertForMaskedLM from the checkpoint of a model that you expect to be exactly identical (initializing a BertForSequenceClassification model from a BertForSequenceClassification model).\n",
            " 12%|█▏        | 12/100 [00:13<01:43,  1.17s/it]"
          ]
        },
        {
          "name": "stdout",
          "output_type": "stream",
          "text": [
            "请分析给定文本的情感，并从以下选项中选择一个：乐，哀，怒，爱，惊，惧，恶。\n",
            "文本如下：时间或许会冲淡我们的记忆，但定格那一刻的时光将永远凝固或封存，我们都不会忘记。让生命前进的动力也许就是日复一日的安定，把小小的幸福摄取进我们的细胞，让它感知美好的滋味，于是乎我们就会多一点微笑在脸庞，因为这样的你最美。感恩于心，晚安。\n",
            "答案是：。\n",
            "正确答案是: 乐\n"
          ]
        },
        {
          "name": "stderr",
          "output_type": "stream",
          "text": [
            "Some weights of the model checkpoint at bert_zh were not used when initializing BertForMaskedLM: ['bert.pooler.dense.bias', 'bert.pooler.dense.weight', 'cls.seq_relationship.bias', 'cls.seq_relationship.weight']\n",
            "- This IS expected if you are initializing BertForMaskedLM from the checkpoint of a model trained on another task or with another architecture (e.g. initializing a BertForSequenceClassification model from a BertForPreTraining model).\n",
            "- This IS NOT expected if you are initializing BertForMaskedLM from the checkpoint of a model that you expect to be exactly identical (initializing a BertForSequenceClassification model from a BertForSequenceClassification model).\n",
            " 13%|█▎        | 13/100 [00:15<01:44,  1.20s/it]"
          ]
        },
        {
          "name": "stdout",
          "output_type": "stream",
          "text": [
            "请分析给定文本的情感，并从以下选项中选择一个：乐，哀，怒，爱，惊，惧，恶。\n",
            "文本如下：永华兄说要性格测试然后重新分组，阿杰气得说，妈的，全填一样的答案。当时真的很感动。前几天我对他们说，我们最后一天的时候拍照留念好不好。被他们集体嫌弃了。今天赖赖他们组在那里照来照去的，我羡慕得对邝说，他们组好好玩。阿漫这时来了一句，我们组不好玩吗？我吼回去，你们又不肯拍！\n",
            "答案是：。\n",
            "正确答案是: 乐\n"
          ]
        },
        {
          "name": "stderr",
          "output_type": "stream",
          "text": [
            "Some weights of the model checkpoint at bert_zh were not used when initializing BertForMaskedLM: ['bert.pooler.dense.bias', 'bert.pooler.dense.weight', 'cls.seq_relationship.bias', 'cls.seq_relationship.weight']\n",
            "- This IS expected if you are initializing BertForMaskedLM from the checkpoint of a model trained on another task or with another architecture (e.g. initializing a BertForSequenceClassification model from a BertForPreTraining model).\n",
            "- This IS NOT expected if you are initializing BertForMaskedLM from the checkpoint of a model that you expect to be exactly identical (initializing a BertForSequenceClassification model from a BertForSequenceClassification model).\n",
            " 14%|█▍        | 14/100 [00:16<01:42,  1.19s/it]"
          ]
        },
        {
          "name": "stdout",
          "output_type": "stream",
          "text": [
            "请分析给定文本的情感，并从以下选项中选择一个：乐，哀，怒，爱，惊，惧，恶。\n",
            "文本如下：你给我的惊喜我都一直记得而我总是没有勇气为你做些什么\n",
            "答案是：。\n",
            "正确答案是: 哀\n"
          ]
        },
        {
          "name": "stderr",
          "output_type": "stream",
          "text": [
            "Some weights of the model checkpoint at bert_zh were not used when initializing BertForMaskedLM: ['bert.pooler.dense.bias', 'bert.pooler.dense.weight', 'cls.seq_relationship.bias', 'cls.seq_relationship.weight']\n",
            "- This IS expected if you are initializing BertForMaskedLM from the checkpoint of a model trained on another task or with another architecture (e.g. initializing a BertForSequenceClassification model from a BertForPreTraining model).\n",
            "- This IS NOT expected if you are initializing BertForMaskedLM from the checkpoint of a model that you expect to be exactly identical (initializing a BertForSequenceClassification model from a BertForSequenceClassification model).\n",
            " 15%|█▌        | 15/100 [00:17<01:37,  1.15s/it]"
          ]
        },
        {
          "name": "stdout",
          "output_type": "stream",
          "text": [
            "请分析给定文本的情感，并从以下选项中选择一个：乐，哀，怒，爱，惊，惧，恶。\n",
            "文本如下：以后不能做自己喜欢的事而之后又要往哪里前进一片茫然\n",
            "答案是：。\n",
            "正确答案是: 哀\n"
          ]
        },
        {
          "name": "stderr",
          "output_type": "stream",
          "text": [
            "Some weights of the model checkpoint at bert_zh were not used when initializing BertForMaskedLM: ['bert.pooler.dense.bias', 'bert.pooler.dense.weight', 'cls.seq_relationship.bias', 'cls.seq_relationship.weight']\n",
            "- This IS expected if you are initializing BertForMaskedLM from the checkpoint of a model trained on another task or with another architecture (e.g. initializing a BertForSequenceClassification model from a BertForPreTraining model).\n",
            "- This IS NOT expected if you are initializing BertForMaskedLM from the checkpoint of a model that you expect to be exactly identical (initializing a BertForSequenceClassification model from a BertForSequenceClassification model).\n",
            " 16%|█▌        | 16/100 [00:18<01:34,  1.13s/it]"
          ]
        },
        {
          "name": "stdout",
          "output_type": "stream",
          "text": [
            "请分析给定文本的情感，并从以下选项中选择一个：乐，哀，怒，爱，惊，惧，恶。\n",
            "文本如下：很简单我不喜欢你玩游戏\n",
            "答案是：。\n",
            "正确答案是: 怒\n"
          ]
        },
        {
          "name": "stderr",
          "output_type": "stream",
          "text": [
            "Some weights of the model checkpoint at bert_zh were not used when initializing BertForMaskedLM: ['bert.pooler.dense.bias', 'bert.pooler.dense.weight', 'cls.seq_relationship.bias', 'cls.seq_relationship.weight']\n",
            "- This IS expected if you are initializing BertForMaskedLM from the checkpoint of a model trained on another task or with another architecture (e.g. initializing a BertForSequenceClassification model from a BertForPreTraining model).\n",
            "- This IS NOT expected if you are initializing BertForMaskedLM from the checkpoint of a model that you expect to be exactly identical (initializing a BertForSequenceClassification model from a BertForSequenceClassification model).\n",
            " 17%|█▋        | 17/100 [00:19<01:32,  1.11s/it]"
          ]
        },
        {
          "name": "stdout",
          "output_type": "stream",
          "text": [
            "请分析给定文本的情感，并从以下选项中选择一个：乐，哀，怒，爱，惊，惧，恶。\n",
            "文本如下：你也不用说对不起，只是，，，，若相惜\n",
            "答案是：。\n",
            "正确答案是: 哀\n"
          ]
        },
        {
          "name": "stderr",
          "output_type": "stream",
          "text": [
            "Some weights of the model checkpoint at bert_zh were not used when initializing BertForMaskedLM: ['bert.pooler.dense.bias', 'bert.pooler.dense.weight', 'cls.seq_relationship.bias', 'cls.seq_relationship.weight']\n",
            "- This IS expected if you are initializing BertForMaskedLM from the checkpoint of a model trained on another task or with another architecture (e.g. initializing a BertForSequenceClassification model from a BertForPreTraining model).\n",
            "- This IS NOT expected if you are initializing BertForMaskedLM from the checkpoint of a model that you expect to be exactly identical (initializing a BertForSequenceClassification model from a BertForSequenceClassification model).\n",
            " 18%|█▊        | 18/100 [00:20<01:37,  1.18s/it]"
          ]
        },
        {
          "name": "stdout",
          "output_type": "stream",
          "text": [
            "请分析给定文本的情感，并从以下选项中选择一个：乐，哀，怒，爱，惊，惧，恶。\n",
            "文本如下：也许你们都说得对“死心吧”一开始就是个错误将错就错我不想放弃让自己慢慢地淡忘。。喜欢是一种错误旁人看了。。呵呵是愚蠢花痴心累心寒都只有自己感受到看看。。眼泪流了在一个很深很深很深的内心深处每天微笑待人可对自己失约了面对感情一个人又傻傻的哭泣。(\n",
            "答案是：。\n",
            "正确答案是: 哀\n"
          ]
        },
        {
          "name": "stderr",
          "output_type": "stream",
          "text": [
            "Some weights of the model checkpoint at bert_zh were not used when initializing BertForMaskedLM: ['bert.pooler.dense.bias', 'bert.pooler.dense.weight', 'cls.seq_relationship.bias', 'cls.seq_relationship.weight']\n",
            "- This IS expected if you are initializing BertForMaskedLM from the checkpoint of a model trained on another task or with another architecture (e.g. initializing a BertForSequenceClassification model from a BertForPreTraining model).\n",
            "- This IS NOT expected if you are initializing BertForMaskedLM from the checkpoint of a model that you expect to be exactly identical (initializing a BertForSequenceClassification model from a BertForSequenceClassification model).\n",
            " 19%|█▉        | 19/100 [00:22<01:35,  1.17s/it]"
          ]
        },
        {
          "name": "stdout",
          "output_type": "stream",
          "text": [
            "请分析给定文本的情感，并从以下选项中选择一个：乐，哀，怒，爱，惊，惧，恶。\n",
            "文本如下：在电话接通后，老妈第一句话是：还有家啊？换了电话都没说声。。瞬间觉得无地自容。。[黑线]\n",
            "答案是：。\n",
            "正确答案是: 哀\n"
          ]
        },
        {
          "name": "stderr",
          "output_type": "stream",
          "text": [
            "Some weights of the model checkpoint at bert_zh were not used when initializing BertForMaskedLM: ['bert.pooler.dense.bias', 'bert.pooler.dense.weight', 'cls.seq_relationship.bias', 'cls.seq_relationship.weight']\n",
            "- This IS expected if you are initializing BertForMaskedLM from the checkpoint of a model trained on another task or with another architecture (e.g. initializing a BertForSequenceClassification model from a BertForPreTraining model).\n",
            "- This IS NOT expected if you are initializing BertForMaskedLM from the checkpoint of a model that you expect to be exactly identical (initializing a BertForSequenceClassification model from a BertForSequenceClassification model).\n",
            " 20%|██        | 20/100 [00:26<02:50,  2.13s/it]"
          ]
        },
        {
          "name": "stdout",
          "output_type": "stream",
          "text": [
            "请分析给定文本的情感，并从以下选项中选择一个：乐，哀，怒，爱，惊，惧，恶。\n",
            "文本如下：脑海中那道身影\n",
            "答案是：。\n",
            "正确答案是: 哀\n"
          ]
        },
        {
          "name": "stderr",
          "output_type": "stream",
          "text": [
            "Some weights of the model checkpoint at bert_zh were not used when initializing BertForMaskedLM: ['bert.pooler.dense.bias', 'bert.pooler.dense.weight', 'cls.seq_relationship.bias', 'cls.seq_relationship.weight']\n",
            "- This IS expected if you are initializing BertForMaskedLM from the checkpoint of a model trained on another task or with another architecture (e.g. initializing a BertForSequenceClassification model from a BertForPreTraining model).\n",
            "- This IS NOT expected if you are initializing BertForMaskedLM from the checkpoint of a model that you expect to be exactly identical (initializing a BertForSequenceClassification model from a BertForSequenceClassification model).\n",
            " 21%|██        | 21/100 [00:27<02:27,  1.87s/it]"
          ]
        },
        {
          "name": "stdout",
          "output_type": "stream",
          "text": [
            "请分析给定文本的情感，并从以下选项中选择一个：乐，哀，怒，爱，惊，惧，恶。\n",
            "文本如下：明明很在乎也会把你推开，因为我知道既然没法拥有，只能早些割裂。哪怕是自欺欺人的假象也让我有些许心安。\n",
            "答案是：。\n",
            "正确答案是: 哀\n"
          ]
        },
        {
          "name": "stderr",
          "output_type": "stream",
          "text": [
            "Some weights of the model checkpoint at bert_zh were not used when initializing BertForMaskedLM: ['bert.pooler.dense.bias', 'bert.pooler.dense.weight', 'cls.seq_relationship.bias', 'cls.seq_relationship.weight']\n",
            "- This IS expected if you are initializing BertForMaskedLM from the checkpoint of a model trained on another task or with another architecture (e.g. initializing a BertForSequenceClassification model from a BertForPreTraining model).\n",
            "- This IS NOT expected if you are initializing BertForMaskedLM from the checkpoint of a model that you expect to be exactly identical (initializing a BertForSequenceClassification model from a BertForSequenceClassification model).\n",
            " 22%|██▏       | 22/100 [00:29<02:18,  1.77s/it]"
          ]
        },
        {
          "name": "stdout",
          "output_type": "stream",
          "text": [
            "请分析给定文本的情感，并从以下选项中选择一个：乐，哀，怒，爱，惊，惧，恶。\n",
            "文本如下：这都不是偶然的事情，这是他明白这个事实真相，对生死看得很淡薄，知道要认真努力修行，所以死了之后，自己可以作主，自己可以选择到哪一道去。如果在临终时，一慌一乱，你对身体很留恋，对家亲眷属很留恋，那你往往就到三途去了！\n",
            "答案是：。\n",
            "正确答案是: 惧\n"
          ]
        },
        {
          "name": "stderr",
          "output_type": "stream",
          "text": [
            "Some weights of the model checkpoint at bert_zh were not used when initializing BertForMaskedLM: ['bert.pooler.dense.bias', 'bert.pooler.dense.weight', 'cls.seq_relationship.bias', 'cls.seq_relationship.weight']\n",
            "- This IS expected if you are initializing BertForMaskedLM from the checkpoint of a model trained on another task or with another architecture (e.g. initializing a BertForSequenceClassification model from a BertForPreTraining model).\n",
            "- This IS NOT expected if you are initializing BertForMaskedLM from the checkpoint of a model that you expect to be exactly identical (initializing a BertForSequenceClassification model from a BertForSequenceClassification model).\n",
            " 23%|██▎       | 23/100 [00:30<02:02,  1.60s/it]"
          ]
        },
        {
          "name": "stdout",
          "output_type": "stream",
          "text": [
            "请分析给定文本的情感，并从以下选项中选择一个：乐，哀，怒，爱，惊，惧，恶。\n",
            "文本如下：我关注列表中的人物莫名消失了。\n",
            "答案是：。\n",
            "正确答案是: 惊\n"
          ]
        },
        {
          "name": "stderr",
          "output_type": "stream",
          "text": [
            "Some weights of the model checkpoint at bert_zh were not used when initializing BertForMaskedLM: ['bert.pooler.dense.bias', 'bert.pooler.dense.weight', 'cls.seq_relationship.bias', 'cls.seq_relationship.weight']\n",
            "- This IS expected if you are initializing BertForMaskedLM from the checkpoint of a model trained on another task or with another architecture (e.g. initializing a BertForSequenceClassification model from a BertForPreTraining model).\n",
            "- This IS NOT expected if you are initializing BertForMaskedLM from the checkpoint of a model that you expect to be exactly identical (initializing a BertForSequenceClassification model from a BertForSequenceClassification model).\n",
            " 24%|██▍       | 24/100 [00:31<01:52,  1.49s/it]"
          ]
        },
        {
          "name": "stdout",
          "output_type": "stream",
          "text": [
            "请分析给定文本的情感，并从以下选项中选择一个：乐，哀，怒，爱，惊，惧，恶。\n",
            "文本如下：鼻涕止不住地往下流，小鼻子让我弄得红红得，受了很大的伤！这得到什么时候才好啊！可恶的感冒！恁娘！\n",
            "答案是：！\n",
            "正确答案是: 哀\n"
          ]
        },
        {
          "name": "stderr",
          "output_type": "stream",
          "text": [
            "Some weights of the model checkpoint at bert_zh were not used when initializing BertForMaskedLM: ['bert.pooler.dense.bias', 'bert.pooler.dense.weight', 'cls.seq_relationship.bias', 'cls.seq_relationship.weight']\n",
            "- This IS expected if you are initializing BertForMaskedLM from the checkpoint of a model trained on another task or with another architecture (e.g. initializing a BertForSequenceClassification model from a BertForPreTraining model).\n",
            "- This IS NOT expected if you are initializing BertForMaskedLM from the checkpoint of a model that you expect to be exactly identical (initializing a BertForSequenceClassification model from a BertForSequenceClassification model).\n",
            " 25%|██▌       | 25/100 [00:32<01:45,  1.41s/it]"
          ]
        },
        {
          "name": "stdout",
          "output_type": "stream",
          "text": [
            "请分析给定文本的情感，并从以下选项中选择一个：乐，哀，怒，爱，惊，惧，恶。\n",
            "文本如下：你去网上找些漂亮可爱的套套呗\n",
            "答案是：。\n",
            "正确答案是: 爱\n"
          ]
        },
        {
          "name": "stderr",
          "output_type": "stream",
          "text": [
            "Some weights of the model checkpoint at bert_zh were not used when initializing BertForMaskedLM: ['bert.pooler.dense.bias', 'bert.pooler.dense.weight', 'cls.seq_relationship.bias', 'cls.seq_relationship.weight']\n",
            "- This IS expected if you are initializing BertForMaskedLM from the checkpoint of a model trained on another task or with another architecture (e.g. initializing a BertForSequenceClassification model from a BertForPreTraining model).\n",
            "- This IS NOT expected if you are initializing BertForMaskedLM from the checkpoint of a model that you expect to be exactly identical (initializing a BertForSequenceClassification model from a BertForSequenceClassification model).\n",
            " 26%|██▌       | 26/100 [00:33<01:37,  1.32s/it]"
          ]
        },
        {
          "name": "stdout",
          "output_type": "stream",
          "text": [
            "请分析给定文本的情感，并从以下选项中选择一个：乐，哀，怒，爱，惊，惧，恶。\n",
            "文本如下：这里的取款机居然全部暂停使用\n",
            "答案是：。\n",
            "正确答案是: 怒\n"
          ]
        },
        {
          "name": "stderr",
          "output_type": "stream",
          "text": [
            "Some weights of the model checkpoint at bert_zh were not used when initializing BertForMaskedLM: ['bert.pooler.dense.bias', 'bert.pooler.dense.weight', 'cls.seq_relationship.bias', 'cls.seq_relationship.weight']\n",
            "- This IS expected if you are initializing BertForMaskedLM from the checkpoint of a model trained on another task or with another architecture (e.g. initializing a BertForSequenceClassification model from a BertForPreTraining model).\n",
            "- This IS NOT expected if you are initializing BertForMaskedLM from the checkpoint of a model that you expect to be exactly identical (initializing a BertForSequenceClassification model from a BertForSequenceClassification model).\n",
            " 27%|██▋       | 27/100 [00:35<01:32,  1.26s/it]"
          ]
        },
        {
          "name": "stdout",
          "output_type": "stream",
          "text": [
            "请分析给定文本的情感，并从以下选项中选择一个：乐，哀，怒，爱，惊，惧，恶。\n",
            "文本如下：没有美图秀秀的电脑还能叫电脑吗。。。\n",
            "答案是：。\n",
            "正确答案是: 哀\n"
          ]
        },
        {
          "name": "stderr",
          "output_type": "stream",
          "text": [
            "Some weights of the model checkpoint at bert_zh were not used when initializing BertForMaskedLM: ['bert.pooler.dense.bias', 'bert.pooler.dense.weight', 'cls.seq_relationship.bias', 'cls.seq_relationship.weight']\n",
            "- This IS expected if you are initializing BertForMaskedLM from the checkpoint of a model trained on another task or with another architecture (e.g. initializing a BertForSequenceClassification model from a BertForPreTraining model).\n",
            "- This IS NOT expected if you are initializing BertForMaskedLM from the checkpoint of a model that you expect to be exactly identical (initializing a BertForSequenceClassification model from a BertForSequenceClassification model).\n",
            " 28%|██▊       | 28/100 [00:36<01:29,  1.24s/it]"
          ]
        },
        {
          "name": "stdout",
          "output_type": "stream",
          "text": [
            "请分析给定文本的情感，并从以下选项中选择一个：乐，哀，怒，爱，惊，惧，恶。\n",
            "文本如下：每次过年回家买不到票的时候，我就会问快递公司的，你们公司多少钱能把我寄回家啊？\n",
            "答案是：。\n",
            "正确答案是: 哀\n"
          ]
        },
        {
          "name": "stderr",
          "output_type": "stream",
          "text": [
            "Some weights of the model checkpoint at bert_zh were not used when initializing BertForMaskedLM: ['bert.pooler.dense.bias', 'bert.pooler.dense.weight', 'cls.seq_relationship.bias', 'cls.seq_relationship.weight']\n",
            "- This IS expected if you are initializing BertForMaskedLM from the checkpoint of a model trained on another task or with another architecture (e.g. initializing a BertForSequenceClassification model from a BertForPreTraining model).\n",
            "- This IS NOT expected if you are initializing BertForMaskedLM from the checkpoint of a model that you expect to be exactly identical (initializing a BertForSequenceClassification model from a BertForSequenceClassification model).\n",
            " 29%|██▉       | 29/100 [00:37<01:29,  1.26s/it]"
          ]
        },
        {
          "name": "stdout",
          "output_type": "stream",
          "text": [
            "请分析给定文本的情感，并从以下选项中选择一个：乐，哀，怒，爱，惊，惧，恶。\n",
            "文本如下：今天把平抛运动的题解决了！啊哈，我感觉哦幸福了……好嘞。晚安我周围的一切[打哈气][打哈气]\n",
            "答案是：。\n",
            "正确答案是: 乐\n"
          ]
        },
        {
          "name": "stderr",
          "output_type": "stream",
          "text": [
            "Some weights of the model checkpoint at bert_zh were not used when initializing BertForMaskedLM: ['bert.pooler.dense.bias', 'bert.pooler.dense.weight', 'cls.seq_relationship.bias', 'cls.seq_relationship.weight']\n",
            "- This IS expected if you are initializing BertForMaskedLM from the checkpoint of a model trained on another task or with another architecture (e.g. initializing a BertForSequenceClassification model from a BertForPreTraining model).\n",
            "- This IS NOT expected if you are initializing BertForMaskedLM from the checkpoint of a model that you expect to be exactly identical (initializing a BertForSequenceClassification model from a BertForSequenceClassification model).\n",
            " 30%|███       | 30/100 [00:38<01:27,  1.25s/it]"
          ]
        },
        {
          "name": "stdout",
          "output_type": "stream",
          "text": [
            "请分析给定文本的情感，并从以下选项中选择一个：乐，哀，怒，爱，惊，惧，恶。\n",
            "文本如下：人生最大的幸福就是早起有一碗冬瓜排骨汤的米粉，还有我最喜欢的台湾芗园果仁方块酥，还可以一边看完喜欢的韩剧。幸福啊。。。。[害羞][亲亲]\n",
            "答案是：。\n",
            "正确答案是: 乐\n"
          ]
        },
        {
          "name": "stderr",
          "output_type": "stream",
          "text": [
            "Some weights of the model checkpoint at bert_zh were not used when initializing BertForMaskedLM: ['bert.pooler.dense.bias', 'bert.pooler.dense.weight', 'cls.seq_relationship.bias', 'cls.seq_relationship.weight']\n",
            "- This IS expected if you are initializing BertForMaskedLM from the checkpoint of a model trained on another task or with another architecture (e.g. initializing a BertForSequenceClassification model from a BertForPreTraining model).\n",
            "- This IS NOT expected if you are initializing BertForMaskedLM from the checkpoint of a model that you expect to be exactly identical (initializing a BertForSequenceClassification model from a BertForSequenceClassification model).\n",
            " 31%|███       | 31/100 [00:40<01:25,  1.24s/it]"
          ]
        },
        {
          "name": "stdout",
          "output_type": "stream",
          "text": [
            "请分析给定文本的情感，并从以下选项中选择一个：乐，哀，怒，爱，惊，惧，恶。\n",
            "文本如下：我我我我我我烦操[抓狂]\n",
            "答案是：。\n",
            "正确答案是: 怒\n"
          ]
        },
        {
          "name": "stderr",
          "output_type": "stream",
          "text": [
            "Some weights of the model checkpoint at bert_zh were not used when initializing BertForMaskedLM: ['bert.pooler.dense.bias', 'bert.pooler.dense.weight', 'cls.seq_relationship.bias', 'cls.seq_relationship.weight']\n",
            "- This IS expected if you are initializing BertForMaskedLM from the checkpoint of a model trained on another task or with another architecture (e.g. initializing a BertForSequenceClassification model from a BertForPreTraining model).\n",
            "- This IS NOT expected if you are initializing BertForMaskedLM from the checkpoint of a model that you expect to be exactly identical (initializing a BertForSequenceClassification model from a BertForSequenceClassification model).\n",
            " 32%|███▏      | 32/100 [00:41<01:22,  1.21s/it]"
          ]
        },
        {
          "name": "stdout",
          "output_type": "stream",
          "text": [
            "请分析给定文本的情感，并从以下选项中选择一个：乐，哀，怒，爱，惊，惧，恶。\n",
            "文本如下：技校生就这么开放么？据说有直接带回男生宿舍的，，据说有直播的，，\n",
            "答案是：。\n",
            "正确答案是: 惊\n"
          ]
        },
        {
          "name": "stderr",
          "output_type": "stream",
          "text": [
            "Some weights of the model checkpoint at bert_zh were not used when initializing BertForMaskedLM: ['bert.pooler.dense.bias', 'bert.pooler.dense.weight', 'cls.seq_relationship.bias', 'cls.seq_relationship.weight']\n",
            "- This IS expected if you are initializing BertForMaskedLM from the checkpoint of a model trained on another task or with another architecture (e.g. initializing a BertForSequenceClassification model from a BertForPreTraining model).\n",
            "- This IS NOT expected if you are initializing BertForMaskedLM from the checkpoint of a model that you expect to be exactly identical (initializing a BertForSequenceClassification model from a BertForSequenceClassification model).\n",
            " 33%|███▎      | 33/100 [00:42<01:21,  1.22s/it]"
          ]
        },
        {
          "name": "stdout",
          "output_type": "stream",
          "text": [
            "请分析给定文本的情感，并从以下选项中选择一个：乐，哀，怒，爱，惊，惧，恶。\n",
            "文本如下：头里面空荡荡的，，，，，，，如果上帝非要小人得志，那么我我只能无奈了\n",
            "答案是：。\n",
            "正确答案是: 哀\n"
          ]
        },
        {
          "name": "stderr",
          "output_type": "stream",
          "text": [
            "Some weights of the model checkpoint at bert_zh were not used when initializing BertForMaskedLM: ['bert.pooler.dense.bias', 'bert.pooler.dense.weight', 'cls.seq_relationship.bias', 'cls.seq_relationship.weight']\n",
            "- This IS expected if you are initializing BertForMaskedLM from the checkpoint of a model trained on another task or with another architecture (e.g. initializing a BertForSequenceClassification model from a BertForPreTraining model).\n",
            "- This IS NOT expected if you are initializing BertForMaskedLM from the checkpoint of a model that you expect to be exactly identical (initializing a BertForSequenceClassification model from a BertForSequenceClassification model).\n",
            " 34%|███▍      | 34/100 [00:43<01:21,  1.24s/it]"
          ]
        },
        {
          "name": "stdout",
          "output_type": "stream",
          "text": [
            "请分析给定文本的情感，并从以下选项中选择一个：乐，哀，怒，爱，惊，惧，恶。\n",
            "文本如下：一打开集中考试的考试安排，我震惊了。。。[震惊]\n",
            "答案是：。\n",
            "正确答案是: 惊\n"
          ]
        },
        {
          "name": "stderr",
          "output_type": "stream",
          "text": [
            "Some weights of the model checkpoint at bert_zh were not used when initializing BertForMaskedLM: ['bert.pooler.dense.bias', 'bert.pooler.dense.weight', 'cls.seq_relationship.bias', 'cls.seq_relationship.weight']\n",
            "- This IS expected if you are initializing BertForMaskedLM from the checkpoint of a model trained on another task or with another architecture (e.g. initializing a BertForSequenceClassification model from a BertForPreTraining model).\n",
            "- This IS NOT expected if you are initializing BertForMaskedLM from the checkpoint of a model that you expect to be exactly identical (initializing a BertForSequenceClassification model from a BertForSequenceClassification model).\n",
            " 35%|███▌      | 35/100 [00:44<01:18,  1.21s/it]"
          ]
        },
        {
          "name": "stdout",
          "output_type": "stream",
          "text": [
            "请分析给定文本的情感，并从以下选项中选择一个：乐，哀，怒，爱，惊，惧，恶。\n",
            "文本如下：心情总是莫名的不好，，，，[委屈]\n",
            "答案是：。\n",
            "正确答案是: 怒\n"
          ]
        },
        {
          "name": "stderr",
          "output_type": "stream",
          "text": [
            "Some weights of the model checkpoint at bert_zh were not used when initializing BertForMaskedLM: ['bert.pooler.dense.bias', 'bert.pooler.dense.weight', 'cls.seq_relationship.bias', 'cls.seq_relationship.weight']\n",
            "- This IS expected if you are initializing BertForMaskedLM from the checkpoint of a model trained on another task or with another architecture (e.g. initializing a BertForSequenceClassification model from a BertForPreTraining model).\n",
            "- This IS NOT expected if you are initializing BertForMaskedLM from the checkpoint of a model that you expect to be exactly identical (initializing a BertForSequenceClassification model from a BertForSequenceClassification model).\n",
            " 36%|███▌      | 36/100 [00:46<01:22,  1.29s/it]"
          ]
        },
        {
          "name": "stdout",
          "output_type": "stream",
          "text": [
            "请分析给定文本的情感，并从以下选项中选择一个：乐，哀，怒，爱，惊，惧，恶。\n",
            "文本如下：时而想回到大学生活，因为他们会在我失望难过的时候先打击一番，然后全心全意的安慰我。至少不是现在这般。毕业了，所有的一切都不一样了，当初那些一起逃课一起吃饭一起玩乐的朋友早已各奔东西，而现在的身边总有那么一群无赖让人觉得呕心，甚至呕心到半夜三更在睡梦中都会醒来。\n",
            "答案是：。\n",
            "正确答案是: 惧\n"
          ]
        },
        {
          "name": "stderr",
          "output_type": "stream",
          "text": [
            "Some weights of the model checkpoint at bert_zh were not used when initializing BertForMaskedLM: ['bert.pooler.dense.bias', 'bert.pooler.dense.weight', 'cls.seq_relationship.bias', 'cls.seq_relationship.weight']\n",
            "- This IS expected if you are initializing BertForMaskedLM from the checkpoint of a model trained on another task or with another architecture (e.g. initializing a BertForSequenceClassification model from a BertForPreTraining model).\n",
            "- This IS NOT expected if you are initializing BertForMaskedLM from the checkpoint of a model that you expect to be exactly identical (initializing a BertForSequenceClassification model from a BertForSequenceClassification model).\n",
            " 37%|███▋      | 37/100 [00:47<01:20,  1.27s/it]"
          ]
        },
        {
          "name": "stdout",
          "output_type": "stream",
          "text": [
            "请分析给定文本的情感，并从以下选项中选择一个：乐，哀，怒，爱，惊，惧，恶。\n",
            "文本如下：越想越多越想越绝望\n",
            "答案是：。\n",
            "正确答案是: 哀\n"
          ]
        },
        {
          "name": "stderr",
          "output_type": "stream",
          "text": [
            "Some weights of the model checkpoint at bert_zh were not used when initializing BertForMaskedLM: ['bert.pooler.dense.bias', 'bert.pooler.dense.weight', 'cls.seq_relationship.bias', 'cls.seq_relationship.weight']\n",
            "- This IS expected if you are initializing BertForMaskedLM from the checkpoint of a model trained on another task or with another architecture (e.g. initializing a BertForSequenceClassification model from a BertForPreTraining model).\n",
            "- This IS NOT expected if you are initializing BertForMaskedLM from the checkpoint of a model that you expect to be exactly identical (initializing a BertForSequenceClassification model from a BertForSequenceClassification model).\n",
            " 38%|███▊      | 38/100 [00:48<01:16,  1.23s/it]"
          ]
        },
        {
          "name": "stdout",
          "output_type": "stream",
          "text": [
            "请分析给定文本的情感，并从以下选项中选择一个：乐，哀，怒，爱，惊，惧，恶。\n",
            "文本如下：你不喜欢的我像被世界抛弃了一样只因为不够漂亮不够优秀\n",
            "答案是：。\n",
            "正确答案是: 哀\n"
          ]
        },
        {
          "name": "stderr",
          "output_type": "stream",
          "text": [
            "Some weights of the model checkpoint at bert_zh were not used when initializing BertForMaskedLM: ['bert.pooler.dense.bias', 'bert.pooler.dense.weight', 'cls.seq_relationship.bias', 'cls.seq_relationship.weight']\n",
            "- This IS expected if you are initializing BertForMaskedLM from the checkpoint of a model trained on another task or with another architecture (e.g. initializing a BertForSequenceClassification model from a BertForPreTraining model).\n",
            "- This IS NOT expected if you are initializing BertForMaskedLM from the checkpoint of a model that you expect to be exactly identical (initializing a BertForSequenceClassification model from a BertForSequenceClassification model).\n",
            " 39%|███▉      | 39/100 [00:49<01:14,  1.22s/it]"
          ]
        },
        {
          "name": "stdout",
          "output_type": "stream",
          "text": [
            "请分析给定文本的情感，并从以下选项中选择一个：乐，哀，怒，爱，惊，惧，恶。\n",
            "文本如下：幸福就是当相爱的人都变老的时候，还相看两不厌。幸福就是可以一直都在一起，合起来的日子是一生一世，从人间到天堂……\n",
            "答案是：。\n",
            "正确答案是: 乐\n"
          ]
        },
        {
          "name": "stderr",
          "output_type": "stream",
          "text": [
            "Some weights of the model checkpoint at bert_zh were not used when initializing BertForMaskedLM: ['bert.pooler.dense.bias', 'bert.pooler.dense.weight', 'cls.seq_relationship.bias', 'cls.seq_relationship.weight']\n",
            "- This IS expected if you are initializing BertForMaskedLM from the checkpoint of a model trained on another task or with another architecture (e.g. initializing a BertForSequenceClassification model from a BertForPreTraining model).\n",
            "- This IS NOT expected if you are initializing BertForMaskedLM from the checkpoint of a model that you expect to be exactly identical (initializing a BertForSequenceClassification model from a BertForSequenceClassification model).\n",
            " 40%|████      | 40/100 [00:51<01:15,  1.26s/it]"
          ]
        },
        {
          "name": "stdout",
          "output_type": "stream",
          "text": [
            "请分析给定文本的情感，并从以下选项中选择一个：乐，哀，怒，爱，惊，惧，恶。\n",
            "文本如下：现在很多孩子因为种种原因不得不去网吧，而正规网吧不能进，黑网吧又鱼龙混杂。呼吁教育部门能够专门为学生开设一个健康绿色的网吧，或着在正规网吧为学生建立一个绿色上网地带……\n",
            "答案是：。\n",
            "正确答案是: 哀\n"
          ]
        },
        {
          "name": "stderr",
          "output_type": "stream",
          "text": [
            "Some weights of the model checkpoint at bert_zh were not used when initializing BertForMaskedLM: ['bert.pooler.dense.bias', 'bert.pooler.dense.weight', 'cls.seq_relationship.bias', 'cls.seq_relationship.weight']\n",
            "- This IS expected if you are initializing BertForMaskedLM from the checkpoint of a model trained on another task or with another architecture (e.g. initializing a BertForSequenceClassification model from a BertForPreTraining model).\n",
            "- This IS NOT expected if you are initializing BertForMaskedLM from the checkpoint of a model that you expect to be exactly identical (initializing a BertForSequenceClassification model from a BertForSequenceClassification model).\n",
            " 41%|████      | 41/100 [00:52<01:14,  1.26s/it]"
          ]
        },
        {
          "name": "stdout",
          "output_type": "stream",
          "text": [
            "请分析给定文本的情感，并从以下选项中选择一个：乐，哀，怒，爱，惊，惧，恶。\n",
            "文本如下：自古庸医多害人！！\n",
            "答案是：！\n",
            "正确答案是: 怒\n"
          ]
        },
        {
          "name": "stderr",
          "output_type": "stream",
          "text": [
            "Some weights of the model checkpoint at bert_zh were not used when initializing BertForMaskedLM: ['bert.pooler.dense.bias', 'bert.pooler.dense.weight', 'cls.seq_relationship.bias', 'cls.seq_relationship.weight']\n",
            "- This IS expected if you are initializing BertForMaskedLM from the checkpoint of a model trained on another task or with another architecture (e.g. initializing a BertForSequenceClassification model from a BertForPreTraining model).\n",
            "- This IS NOT expected if you are initializing BertForMaskedLM from the checkpoint of a model that you expect to be exactly identical (initializing a BertForSequenceClassification model from a BertForSequenceClassification model).\n",
            " 42%|████▏     | 42/100 [00:53<01:10,  1.22s/it]"
          ]
        },
        {
          "name": "stdout",
          "output_type": "stream",
          "text": [
            "请分析给定文本的情感，并从以下选项中选择一个：乐，哀，怒，爱，惊，惧，恶。\n",
            "文本如下：把聚会当做一次分手！同学们，夏天再聚首！！[害羞][害羞]\n",
            "答案是：！\n",
            "正确答案是: 哀\n"
          ]
        },
        {
          "name": "stderr",
          "output_type": "stream",
          "text": [
            "Some weights of the model checkpoint at bert_zh were not used when initializing BertForMaskedLM: ['bert.pooler.dense.bias', 'bert.pooler.dense.weight', 'cls.seq_relationship.bias', 'cls.seq_relationship.weight']\n",
            "- This IS expected if you are initializing BertForMaskedLM from the checkpoint of a model trained on another task or with another architecture (e.g. initializing a BertForSequenceClassification model from a BertForPreTraining model).\n",
            "- This IS NOT expected if you are initializing BertForMaskedLM from the checkpoint of a model that you expect to be exactly identical (initializing a BertForSequenceClassification model from a BertForSequenceClassification model).\n",
            " 43%|████▎     | 43/100 [00:54<01:07,  1.18s/it]"
          ]
        },
        {
          "name": "stdout",
          "output_type": "stream",
          "text": [
            "请分析给定文本的情感，并从以下选项中选择一个：乐，哀，怒，爱，惊，惧，恶。\n",
            "文本如下：幸福其实很简单\n",
            "答案是：。\n",
            "正确答案是: 乐\n"
          ]
        },
        {
          "name": "stderr",
          "output_type": "stream",
          "text": [
            "Some weights of the model checkpoint at bert_zh were not used when initializing BertForMaskedLM: ['bert.pooler.dense.bias', 'bert.pooler.dense.weight', 'cls.seq_relationship.bias', 'cls.seq_relationship.weight']\n",
            "- This IS expected if you are initializing BertForMaskedLM from the checkpoint of a model trained on another task or with another architecture (e.g. initializing a BertForSequenceClassification model from a BertForPreTraining model).\n",
            "- This IS NOT expected if you are initializing BertForMaskedLM from the checkpoint of a model that you expect to be exactly identical (initializing a BertForSequenceClassification model from a BertForSequenceClassification model).\n",
            " 44%|████▍     | 44/100 [00:55<01:04,  1.16s/it]"
          ]
        },
        {
          "name": "stdout",
          "output_type": "stream",
          "text": [
            "请分析给定文本的情感，并从以下选项中选择一个：乐，哀，怒，爱，惊，惧，恶。\n",
            "文本如下：美餐一天。回家可以陪家人，可以换心情，还可以善待我的胃。\n",
            "答案是：。\n",
            "正确答案是: 乐\n"
          ]
        },
        {
          "name": "stderr",
          "output_type": "stream",
          "text": [
            "Some weights of the model checkpoint at bert_zh were not used when initializing BertForMaskedLM: ['bert.pooler.dense.bias', 'bert.pooler.dense.weight', 'cls.seq_relationship.bias', 'cls.seq_relationship.weight']\n",
            "- This IS expected if you are initializing BertForMaskedLM from the checkpoint of a model trained on another task or with another architecture (e.g. initializing a BertForSequenceClassification model from a BertForPreTraining model).\n",
            "- This IS NOT expected if you are initializing BertForMaskedLM from the checkpoint of a model that you expect to be exactly identical (initializing a BertForSequenceClassification model from a BertForSequenceClassification model).\n",
            " 45%|████▌     | 45/100 [00:57<01:09,  1.26s/it]"
          ]
        },
        {
          "name": "stdout",
          "output_type": "stream",
          "text": [
            "请分析给定文本的情感，并从以下选项中选择一个：乐，哀，怒，爱，惊，惧，恶。\n",
            "文本如下：隔壁的隔壁一同学戴着耳塞听歌好high，那个噪音大得我都能识别那曲目，从那英的征服跨越到taylor的歌，把我女神的歌毁了[泪]，实在没心情看书了，只好采取无声的抗议，迅速捡本书到前排，等我看完一章回原位置，那位high歌同学跑了，瞬间尴尬……我就纳闷旁边的人都聋了，还是以为我有毛病啊[汗]……\n",
            "答案是：。\n",
            "正确答案是: 恶\n"
          ]
        },
        {
          "name": "stderr",
          "output_type": "stream",
          "text": [
            "Some weights of the model checkpoint at bert_zh were not used when initializing BertForMaskedLM: ['bert.pooler.dense.bias', 'bert.pooler.dense.weight', 'cls.seq_relationship.bias', 'cls.seq_relationship.weight']\n",
            "- This IS expected if you are initializing BertForMaskedLM from the checkpoint of a model trained on another task or with another architecture (e.g. initializing a BertForSequenceClassification model from a BertForPreTraining model).\n",
            "- This IS NOT expected if you are initializing BertForMaskedLM from the checkpoint of a model that you expect to be exactly identical (initializing a BertForSequenceClassification model from a BertForSequenceClassification model).\n",
            " 46%|████▌     | 46/100 [00:58<01:10,  1.30s/it]"
          ]
        },
        {
          "name": "stdout",
          "output_type": "stream",
          "text": [
            "请分析给定文本的情感，并从以下选项中选择一个：乐，哀，怒，爱，惊，惧，恶。\n",
            "文本如下：一生之中，无论深爱过几个人，我们爱的都是同一个人，一个很像我，跟我是同类；另一个完全不像我，却弥补了我的缺失。而其实，他们都是我……\n",
            "答案是：。\n",
            "正确答案是: 哀\n"
          ]
        },
        {
          "name": "stderr",
          "output_type": "stream",
          "text": [
            "Some weights of the model checkpoint at bert_zh were not used when initializing BertForMaskedLM: ['bert.pooler.dense.bias', 'bert.pooler.dense.weight', 'cls.seq_relationship.bias', 'cls.seq_relationship.weight']\n",
            "- This IS expected if you are initializing BertForMaskedLM from the checkpoint of a model trained on another task or with another architecture (e.g. initializing a BertForSequenceClassification model from a BertForPreTraining model).\n",
            "- This IS NOT expected if you are initializing BertForMaskedLM from the checkpoint of a model that you expect to be exactly identical (initializing a BertForSequenceClassification model from a BertForSequenceClassification model).\n",
            " 47%|████▋     | 47/100 [01:00<01:11,  1.35s/it]"
          ]
        },
        {
          "name": "stdout",
          "output_type": "stream",
          "text": [
            "请分析给定文本的情感，并从以下选项中选择一个：乐，哀，怒，爱，惊，惧，恶。\n",
            "文本如下：谢谢大家一年来对我的关注，虽然你们都不露面、不评论，这显然是我的博内容不够完善。仍然谢谢大家对我的包容，即使我要告诉你们我刚才失恋的事情。希望大家在下年仍然关注我，谢谢！对不起。。。\n",
            "答案是：。\n",
            "正确答案是: 哀\n"
          ]
        },
        {
          "name": "stderr",
          "output_type": "stream",
          "text": [
            "Some weights of the model checkpoint at bert_zh were not used when initializing BertForMaskedLM: ['bert.pooler.dense.bias', 'bert.pooler.dense.weight', 'cls.seq_relationship.bias', 'cls.seq_relationship.weight']\n",
            "- This IS expected if you are initializing BertForMaskedLM from the checkpoint of a model trained on another task or with another architecture (e.g. initializing a BertForSequenceClassification model from a BertForPreTraining model).\n",
            "- This IS NOT expected if you are initializing BertForMaskedLM from the checkpoint of a model that you expect to be exactly identical (initializing a BertForSequenceClassification model from a BertForSequenceClassification model).\n",
            " 48%|████▊     | 48/100 [01:01<01:11,  1.38s/it]"
          ]
        },
        {
          "name": "stdout",
          "output_type": "stream",
          "text": [
            "请分析给定文本的情感，并从以下选项中选择一个：乐，哀，怒，爱，惊，惧，恶。\n",
            "文本如下：一回家就生病了，昨晚连饭都没次，晚上8点就睡了，但每隔4小时就醒一次是什么破节奏，头晕，头痛，浑身发软酸痛，我想次饭但是没胃口，掀桌！\n",
            "答案是：。\n",
            "正确答案是: 乐\n"
          ]
        },
        {
          "name": "stderr",
          "output_type": "stream",
          "text": [
            "Some weights of the model checkpoint at bert_zh were not used when initializing BertForMaskedLM: ['bert.pooler.dense.bias', 'bert.pooler.dense.weight', 'cls.seq_relationship.bias', 'cls.seq_relationship.weight']\n",
            "- This IS expected if you are initializing BertForMaskedLM from the checkpoint of a model trained on another task or with another architecture (e.g. initializing a BertForSequenceClassification model from a BertForPreTraining model).\n",
            "- This IS NOT expected if you are initializing BertForMaskedLM from the checkpoint of a model that you expect to be exactly identical (initializing a BertForSequenceClassification model from a BertForSequenceClassification model).\n",
            " 49%|████▉     | 49/100 [01:02<01:09,  1.36s/it]"
          ]
        },
        {
          "name": "stdout",
          "output_type": "stream",
          "text": [
            "请分析给定文本的情感，并从以下选项中选择一个：乐，哀，怒，爱，惊，惧，恶。\n",
            "文本如下：无论做什么都要带上自己的好心情\n",
            "答案是：。\n",
            "正确答案是: 乐\n"
          ]
        },
        {
          "name": "stderr",
          "output_type": "stream",
          "text": [
            "Some weights of the model checkpoint at bert_zh were not used when initializing BertForMaskedLM: ['bert.pooler.dense.bias', 'bert.pooler.dense.weight', 'cls.seq_relationship.bias', 'cls.seq_relationship.weight']\n",
            "- This IS expected if you are initializing BertForMaskedLM from the checkpoint of a model trained on another task or with another architecture (e.g. initializing a BertForSequenceClassification model from a BertForPreTraining model).\n",
            "- This IS NOT expected if you are initializing BertForMaskedLM from the checkpoint of a model that you expect to be exactly identical (initializing a BertForSequenceClassification model from a BertForSequenceClassification model).\n",
            " 50%|█████     | 50/100 [01:04<01:05,  1.31s/it]"
          ]
        },
        {
          "name": "stdout",
          "output_type": "stream",
          "text": [
            "请分析给定文本的情感，并从以下选项中选择一个：乐，哀，怒，爱，惊，惧，恶。\n",
            "文本如下：别问我幸福是什么？其实幸福很简单！今天天气温暖，阳光和煦。陪家人一起去逛街吃晚饭。。[熊猫][熊猫][熊猫]\n",
            "答案是：。\n",
            "正确答案是: 乐\n"
          ]
        },
        {
          "name": "stderr",
          "output_type": "stream",
          "text": [
            "Some weights of the model checkpoint at bert_zh were not used when initializing BertForMaskedLM: ['bert.pooler.dense.bias', 'bert.pooler.dense.weight', 'cls.seq_relationship.bias', 'cls.seq_relationship.weight']\n",
            "- This IS expected if you are initializing BertForMaskedLM from the checkpoint of a model trained on another task or with another architecture (e.g. initializing a BertForSequenceClassification model from a BertForPreTraining model).\n",
            "- This IS NOT expected if you are initializing BertForMaskedLM from the checkpoint of a model that you expect to be exactly identical (initializing a BertForSequenceClassification model from a BertForSequenceClassification model).\n",
            " 51%|█████     | 51/100 [01:05<01:03,  1.30s/it]"
          ]
        },
        {
          "name": "stdout",
          "output_type": "stream",
          "text": [
            "请分析给定文本的情感，并从以下选项中选择一个：乐，哀，怒，爱，惊，惧，恶。\n",
            "文本如下：我只是难过你认不出我的背影。2010.6.5那天下午，在场的都知道，我们那么好。\n",
            "答案是：。\n",
            "正确答案是: 哀\n"
          ]
        },
        {
          "name": "stderr",
          "output_type": "stream",
          "text": [
            "Some weights of the model checkpoint at bert_zh were not used when initializing BertForMaskedLM: ['bert.pooler.dense.bias', 'bert.pooler.dense.weight', 'cls.seq_relationship.bias', 'cls.seq_relationship.weight']\n",
            "- This IS expected if you are initializing BertForMaskedLM from the checkpoint of a model trained on another task or with another architecture (e.g. initializing a BertForSequenceClassification model from a BertForPreTraining model).\n",
            "- This IS NOT expected if you are initializing BertForMaskedLM from the checkpoint of a model that you expect to be exactly identical (initializing a BertForSequenceClassification model from a BertForSequenceClassification model).\n",
            " 52%|█████▏    | 52/100 [01:06<01:00,  1.26s/it]"
          ]
        },
        {
          "name": "stdout",
          "output_type": "stream",
          "text": [
            "请分析给定文本的情感，并从以下选项中选择一个：乐，哀，怒，爱，惊，惧，恶。\n",
            "文本如下：刷了一通微博。。。。。回去背论文。。。苦逼的人生就是答辩之后还要去广图上课\n",
            "答案是：。\n",
            "正确答案是: 乐\n"
          ]
        },
        {
          "name": "stderr",
          "output_type": "stream",
          "text": [
            "Some weights of the model checkpoint at bert_zh were not used when initializing BertForMaskedLM: ['bert.pooler.dense.bias', 'bert.pooler.dense.weight', 'cls.seq_relationship.bias', 'cls.seq_relationship.weight']\n",
            "- This IS expected if you are initializing BertForMaskedLM from the checkpoint of a model trained on another task or with another architecture (e.g. initializing a BertForSequenceClassification model from a BertForPreTraining model).\n",
            "- This IS NOT expected if you are initializing BertForMaskedLM from the checkpoint of a model that you expect to be exactly identical (initializing a BertForSequenceClassification model from a BertForSequenceClassification model).\n",
            " 53%|█████▎    | 53/100 [01:07<01:01,  1.31s/it]"
          ]
        },
        {
          "name": "stdout",
          "output_type": "stream",
          "text": [
            "请分析给定文本的情感，并从以下选项中选择一个：乐，哀，怒，爱，惊，惧，恶。\n",
            "文本如下：虽然俺只有一任女友，但却喜欢的要死。和她争水果吃，给她买能力内最好的东东，贿赂她吃饭等等她喜欢不喜欢的。虽然相处仅1个月，但相处的点滴依然好温暖。人这一辈子，总要去这么爱一次。小孩子的时光已经结束，微薄是唯一一个尚可吐槽的地方。\n",
            "答案是：。\n",
            "正确答案是: 乐\n"
          ]
        },
        {
          "name": "stderr",
          "output_type": "stream",
          "text": [
            "Some weights of the model checkpoint at bert_zh were not used when initializing BertForMaskedLM: ['bert.pooler.dense.bias', 'bert.pooler.dense.weight', 'cls.seq_relationship.bias', 'cls.seq_relationship.weight']\n",
            "- This IS expected if you are initializing BertForMaskedLM from the checkpoint of a model trained on another task or with another architecture (e.g. initializing a BertForSequenceClassification model from a BertForPreTraining model).\n",
            "- This IS NOT expected if you are initializing BertForMaskedLM from the checkpoint of a model that you expect to be exactly identical (initializing a BertForSequenceClassification model from a BertForSequenceClassification model).\n",
            " 54%|█████▍    | 54/100 [01:09<01:00,  1.32s/it]"
          ]
        },
        {
          "name": "stdout",
          "output_type": "stream",
          "text": [
            "请分析给定文本的情感，并从以下选项中选择一个：乐，哀，怒，爱，惊，惧，恶。\n",
            "文本如下：幸福就是明天的明天，我依旧在你身边\n",
            "答案是：。\n",
            "正确答案是: 乐\n"
          ]
        },
        {
          "name": "stderr",
          "output_type": "stream",
          "text": [
            "Some weights of the model checkpoint at bert_zh were not used when initializing BertForMaskedLM: ['bert.pooler.dense.bias', 'bert.pooler.dense.weight', 'cls.seq_relationship.bias', 'cls.seq_relationship.weight']\n",
            "- This IS expected if you are initializing BertForMaskedLM from the checkpoint of a model trained on another task or with another architecture (e.g. initializing a BertForSequenceClassification model from a BertForPreTraining model).\n",
            "- This IS NOT expected if you are initializing BertForMaskedLM from the checkpoint of a model that you expect to be exactly identical (initializing a BertForSequenceClassification model from a BertForSequenceClassification model).\n",
            " 55%|█████▌    | 55/100 [01:10<00:58,  1.29s/it]"
          ]
        },
        {
          "name": "stdout",
          "output_type": "stream",
          "text": [
            "请分析给定文本的情感，并从以下选项中选择一个：乐，哀，怒，爱，惊，惧，恶。\n",
            "文本如下：思念别人是一种温馨，被别人思念是一种幸福，当然好的前提是-彼此思念。否则，单相思是一种哀愁，只被别人思念是一种负担。\n",
            "答案是：。\n",
            "正确答案是: 哀\n"
          ]
        },
        {
          "name": "stderr",
          "output_type": "stream",
          "text": [
            "Some weights of the model checkpoint at bert_zh were not used when initializing BertForMaskedLM: ['bert.pooler.dense.bias', 'bert.pooler.dense.weight', 'cls.seq_relationship.bias', 'cls.seq_relationship.weight']\n",
            "- This IS expected if you are initializing BertForMaskedLM from the checkpoint of a model trained on another task or with another architecture (e.g. initializing a BertForSequenceClassification model from a BertForPreTraining model).\n",
            "- This IS NOT expected if you are initializing BertForMaskedLM from the checkpoint of a model that you expect to be exactly identical (initializing a BertForSequenceClassification model from a BertForSequenceClassification model).\n",
            " 56%|█████▌    | 56/100 [01:11<00:58,  1.33s/it]"
          ]
        },
        {
          "name": "stdout",
          "output_type": "stream",
          "text": [
            "请分析给定文本的情感，并从以下选项中选择一个：乐，哀，怒，爱，惊，惧，恶。\n",
            "文本如下：愿全天下小三都被识破被抛弃然后被叉叉最后自挂东南枝成功。\n",
            "答案是：。\n",
            "正确答案是: 乐\n"
          ]
        },
        {
          "name": "stderr",
          "output_type": "stream",
          "text": [
            "Some weights of the model checkpoint at bert_zh were not used when initializing BertForMaskedLM: ['bert.pooler.dense.bias', 'bert.pooler.dense.weight', 'cls.seq_relationship.bias', 'cls.seq_relationship.weight']\n",
            "- This IS expected if you are initializing BertForMaskedLM from the checkpoint of a model trained on another task or with another architecture (e.g. initializing a BertForSequenceClassification model from a BertForPreTraining model).\n",
            "- This IS NOT expected if you are initializing BertForMaskedLM from the checkpoint of a model that you expect to be exactly identical (initializing a BertForSequenceClassification model from a BertForSequenceClassification model).\n",
            " 57%|█████▋    | 57/100 [01:13<00:55,  1.29s/it]"
          ]
        },
        {
          "name": "stdout",
          "output_type": "stream",
          "text": [
            "请分析给定文本的情感，并从以下选项中选择一个：乐，哀，怒，爱，惊，惧，恶。\n",
            "文本如下：人生每个阶段对幸福都有不同的要求，现在就是能和爱的人一起，有钱多吃没钱少吃，目标是尽量让爱人多幸福少烦恼。\n",
            "答案是：。\n",
            "正确答案是: 乐\n"
          ]
        },
        {
          "name": "stderr",
          "output_type": "stream",
          "text": [
            "Some weights of the model checkpoint at bert_zh were not used when initializing BertForMaskedLM: ['bert.pooler.dense.bias', 'bert.pooler.dense.weight', 'cls.seq_relationship.bias', 'cls.seq_relationship.weight']\n",
            "- This IS expected if you are initializing BertForMaskedLM from the checkpoint of a model trained on another task or with another architecture (e.g. initializing a BertForSequenceClassification model from a BertForPreTraining model).\n",
            "- This IS NOT expected if you are initializing BertForMaskedLM from the checkpoint of a model that you expect to be exactly identical (initializing a BertForSequenceClassification model from a BertForSequenceClassification model).\n",
            " 58%|█████▊    | 58/100 [01:14<00:52,  1.25s/it]"
          ]
        },
        {
          "name": "stdout",
          "output_type": "stream",
          "text": [
            "请分析给定文本的情感，并从以下选项中选择一个：乐，哀，怒，爱，惊，惧，恶。\n",
            "文本如下：我表示大清早被脚抽筋、被老年团电话叫醒很另类[泪][泪]\n",
            "答案是：。\n",
            "正确答案是: 哀\n"
          ]
        },
        {
          "name": "stderr",
          "output_type": "stream",
          "text": [
            "Some weights of the model checkpoint at bert_zh were not used when initializing BertForMaskedLM: ['bert.pooler.dense.bias', 'bert.pooler.dense.weight', 'cls.seq_relationship.bias', 'cls.seq_relationship.weight']\n",
            "- This IS expected if you are initializing BertForMaskedLM from the checkpoint of a model trained on another task or with another architecture (e.g. initializing a BertForSequenceClassification model from a BertForPreTraining model).\n",
            "- This IS NOT expected if you are initializing BertForMaskedLM from the checkpoint of a model that you expect to be exactly identical (initializing a BertForSequenceClassification model from a BertForSequenceClassification model).\n",
            " 59%|█████▉    | 59/100 [01:15<00:50,  1.22s/it]"
          ]
        },
        {
          "name": "stdout",
          "output_type": "stream",
          "text": [
            "请分析给定文本的情感，并从以下选项中选择一个：乐，哀，怒，爱，惊，惧，恶。\n",
            "文本如下：突然想回家了，离开这里，就当这里的一切不曾存在，更没有什么会让我想起有些事是真的。\n",
            "答案是：。\n",
            "正确答案是: 哀\n"
          ]
        },
        {
          "name": "stderr",
          "output_type": "stream",
          "text": [
            "Some weights of the model checkpoint at bert_zh were not used when initializing BertForMaskedLM: ['bert.pooler.dense.bias', 'bert.pooler.dense.weight', 'cls.seq_relationship.bias', 'cls.seq_relationship.weight']\n",
            "- This IS expected if you are initializing BertForMaskedLM from the checkpoint of a model trained on another task or with another architecture (e.g. initializing a BertForSequenceClassification model from a BertForPreTraining model).\n",
            "- This IS NOT expected if you are initializing BertForMaskedLM from the checkpoint of a model that you expect to be exactly identical (initializing a BertForSequenceClassification model from a BertForSequenceClassification model).\n",
            " 60%|██████    | 60/100 [01:16<00:49,  1.25s/it]"
          ]
        },
        {
          "name": "stdout",
          "output_type": "stream",
          "text": [
            "请分析给定文本的情感，并从以下选项中选择一个：乐，哀，怒，爱，惊，惧，恶。\n",
            "文本如下：我感觉我今天是铁定回不到宁波了高速封道车子往回开了我又被送回杭州了。早上看到下雪还是兴奋之情现在我是无奈到底了！作业怎么办还没完全搞定到杭州了我怎么办！下雪天都开始烦恼了\n",
            "答案是：！\n",
            "正确答案是: 哀\n"
          ]
        },
        {
          "name": "stderr",
          "output_type": "stream",
          "text": [
            "Some weights of the model checkpoint at bert_zh were not used when initializing BertForMaskedLM: ['bert.pooler.dense.bias', 'bert.pooler.dense.weight', 'cls.seq_relationship.bias', 'cls.seq_relationship.weight']\n",
            "- This IS expected if you are initializing BertForMaskedLM from the checkpoint of a model trained on another task or with another architecture (e.g. initializing a BertForSequenceClassification model from a BertForPreTraining model).\n",
            "- This IS NOT expected if you are initializing BertForMaskedLM from the checkpoint of a model that you expect to be exactly identical (initializing a BertForSequenceClassification model from a BertForSequenceClassification model).\n",
            " 61%|██████    | 61/100 [01:18<00:48,  1.24s/it]"
          ]
        },
        {
          "name": "stdout",
          "output_type": "stream",
          "text": [
            "请分析给定文本的情感，并从以下选项中选择一个：乐，哀，怒，爱，惊，惧，恶。\n",
            "文本如下：很单纯🎀🎀\n",
            "答案是：。\n",
            "正确答案是: 哀\n"
          ]
        },
        {
          "name": "stderr",
          "output_type": "stream",
          "text": [
            "Some weights of the model checkpoint at bert_zh were not used when initializing BertForMaskedLM: ['bert.pooler.dense.bias', 'bert.pooler.dense.weight', 'cls.seq_relationship.bias', 'cls.seq_relationship.weight']\n",
            "- This IS expected if you are initializing BertForMaskedLM from the checkpoint of a model trained on another task or with another architecture (e.g. initializing a BertForSequenceClassification model from a BertForPreTraining model).\n",
            "- This IS NOT expected if you are initializing BertForMaskedLM from the checkpoint of a model that you expect to be exactly identical (initializing a BertForSequenceClassification model from a BertForSequenceClassification model).\n",
            " 62%|██████▏   | 62/100 [01:19<00:49,  1.31s/it]"
          ]
        },
        {
          "name": "stdout",
          "output_type": "stream",
          "text": [
            "请分析给定文本的情感，并从以下选项中选择一个：乐，哀，怒，爱，惊，惧，恶。\n",
            "文本如下：清明这天学校组织老师去爬山踏青，我去了，刚拿到票不到十分钟，老爸电话追来，说要带我去大青山，我选择了和父母在一起，我知道爸爸是有意的，知道我因为丢了手机丢了信息难过，坐在车的后排座上，看着驾驶的老爸，心里阵阵温暖，父与女，无可代替。\n",
            "答案是：。\n",
            "正确答案是: 乐\n"
          ]
        },
        {
          "name": "stderr",
          "output_type": "stream",
          "text": [
            "Some weights of the model checkpoint at bert_zh were not used when initializing BertForMaskedLM: ['bert.pooler.dense.bias', 'bert.pooler.dense.weight', 'cls.seq_relationship.bias', 'cls.seq_relationship.weight']\n",
            "- This IS expected if you are initializing BertForMaskedLM from the checkpoint of a model trained on another task or with another architecture (e.g. initializing a BertForSequenceClassification model from a BertForPreTraining model).\n",
            "- This IS NOT expected if you are initializing BertForMaskedLM from the checkpoint of a model that you expect to be exactly identical (initializing a BertForSequenceClassification model from a BertForSequenceClassification model).\n",
            " 63%|██████▎   | 63/100 [01:21<00:51,  1.39s/it]"
          ]
        },
        {
          "name": "stdout",
          "output_type": "stream",
          "text": [
            "请分析给定文本的情感，并从以下选项中选择一个：乐，哀，怒，爱，惊，惧，恶。\n",
            "文本如下：人吧有的时候是不能自己以为别人怎么样就是怎样的这样的想法是很自以为是的你不是谁你只是你自己你怎么可能明白其他人是怎么想的怎么可以理所应当地指责谁谁谁是错的怎么会知道被指责的人有时候是很可怜的\n",
            "答案是：。\n",
            "正确答案是: 哀\n"
          ]
        },
        {
          "name": "stderr",
          "output_type": "stream",
          "text": [
            "Some weights of the model checkpoint at bert_zh were not used when initializing BertForMaskedLM: ['bert.pooler.dense.bias', 'bert.pooler.dense.weight', 'cls.seq_relationship.bias', 'cls.seq_relationship.weight']\n",
            "- This IS expected if you are initializing BertForMaskedLM from the checkpoint of a model trained on another task or with another architecture (e.g. initializing a BertForSequenceClassification model from a BertForPreTraining model).\n",
            "- This IS NOT expected if you are initializing BertForMaskedLM from the checkpoint of a model that you expect to be exactly identical (initializing a BertForSequenceClassification model from a BertForSequenceClassification model).\n",
            " 64%|██████▍   | 64/100 [01:22<00:52,  1.46s/it]"
          ]
        },
        {
          "name": "stdout",
          "output_type": "stream",
          "text": [
            "请分析给定文本的情感，并从以下选项中选择一个：乐，哀，怒，爱，惊，惧，恶。\n",
            "文本如下：每到大半夜才有精神和灵感(？)写论文，果真懒癌末期，嗯的确也离死线没几个小时了\n",
            "答案是：。\n",
            "正确答案是: 哀\n"
          ]
        },
        {
          "name": "stderr",
          "output_type": "stream",
          "text": [
            "Some weights of the model checkpoint at bert_zh were not used when initializing BertForMaskedLM: ['bert.pooler.dense.bias', 'bert.pooler.dense.weight', 'cls.seq_relationship.bias', 'cls.seq_relationship.weight']\n",
            "- This IS expected if you are initializing BertForMaskedLM from the checkpoint of a model trained on another task or with another architecture (e.g. initializing a BertForSequenceClassification model from a BertForPreTraining model).\n",
            "- This IS NOT expected if you are initializing BertForMaskedLM from the checkpoint of a model that you expect to be exactly identical (initializing a BertForSequenceClassification model from a BertForSequenceClassification model).\n",
            " 65%|██████▌   | 65/100 [01:24<00:50,  1.45s/it]"
          ]
        },
        {
          "name": "stdout",
          "output_type": "stream",
          "text": [
            "请分析给定文本的情感，并从以下选项中选择一个：乐，哀，怒，爱，惊，惧，恶。\n",
            "文本如下：五一放假，可以休息几天了。不知怎的，情绪不高，始终没有开心的感觉。\n",
            "答案是：。\n",
            "正确答案是: 哀\n"
          ]
        },
        {
          "name": "stderr",
          "output_type": "stream",
          "text": [
            "Some weights of the model checkpoint at bert_zh were not used when initializing BertForMaskedLM: ['bert.pooler.dense.bias', 'bert.pooler.dense.weight', 'cls.seq_relationship.bias', 'cls.seq_relationship.weight']\n",
            "- This IS expected if you are initializing BertForMaskedLM from the checkpoint of a model trained on another task or with another architecture (e.g. initializing a BertForSequenceClassification model from a BertForPreTraining model).\n",
            "- This IS NOT expected if you are initializing BertForMaskedLM from the checkpoint of a model that you expect to be exactly identical (initializing a BertForSequenceClassification model from a BertForSequenceClassification model).\n",
            " 66%|██████▌   | 66/100 [01:25<00:48,  1.44s/it]"
          ]
        },
        {
          "name": "stdout",
          "output_type": "stream",
          "text": [
            "请分析给定文本的情感，并从以下选项中选择一个：乐，哀，怒，爱，惊，惧，恶。\n",
            "文本如下：没有电话，没有担心，只有“我困了”“晚安”和象征着吻的小表情……\n",
            "答案是：。\n",
            "正确答案是: 哀\n"
          ]
        },
        {
          "name": "stderr",
          "output_type": "stream",
          "text": [
            "Some weights of the model checkpoint at bert_zh were not used when initializing BertForMaskedLM: ['bert.pooler.dense.bias', 'bert.pooler.dense.weight', 'cls.seq_relationship.bias', 'cls.seq_relationship.weight']\n",
            "- This IS expected if you are initializing BertForMaskedLM from the checkpoint of a model trained on another task or with another architecture (e.g. initializing a BertForSequenceClassification model from a BertForPreTraining model).\n",
            "- This IS NOT expected if you are initializing BertForMaskedLM from the checkpoint of a model that you expect to be exactly identical (initializing a BertForSequenceClassification model from a BertForSequenceClassification model).\n",
            " 67%|██████▋   | 67/100 [01:27<00:50,  1.54s/it]"
          ]
        },
        {
          "name": "stdout",
          "output_type": "stream",
          "text": [
            "请分析给定文本的情感，并从以下选项中选择一个：乐，哀，怒，爱，惊，惧，恶。\n",
            "文本如下：没完成复习定下的计划\n",
            "答案是：。\n",
            "正确答案是: 恶\n"
          ]
        },
        {
          "name": "stderr",
          "output_type": "stream",
          "text": [
            "Some weights of the model checkpoint at bert_zh were not used when initializing BertForMaskedLM: ['bert.pooler.dense.bias', 'bert.pooler.dense.weight', 'cls.seq_relationship.bias', 'cls.seq_relationship.weight']\n",
            "- This IS expected if you are initializing BertForMaskedLM from the checkpoint of a model trained on another task or with another architecture (e.g. initializing a BertForSequenceClassification model from a BertForPreTraining model).\n",
            "- This IS NOT expected if you are initializing BertForMaskedLM from the checkpoint of a model that you expect to be exactly identical (initializing a BertForSequenceClassification model from a BertForSequenceClassification model).\n",
            " 68%|██████▊   | 68/100 [01:28<00:48,  1.52s/it]"
          ]
        },
        {
          "name": "stdout",
          "output_type": "stream",
          "text": [
            "请分析给定文本的情感，并从以下选项中选择一个：乐，哀，怒，爱，惊，惧，恶。\n",
            "文本如下：原来今天是情人节[失望]\n",
            "答案是：。\n",
            "正确答案是: 乐\n"
          ]
        },
        {
          "name": "stderr",
          "output_type": "stream",
          "text": [
            "Some weights of the model checkpoint at bert_zh were not used when initializing BertForMaskedLM: ['bert.pooler.dense.bias', 'bert.pooler.dense.weight', 'cls.seq_relationship.bias', 'cls.seq_relationship.weight']\n",
            "- This IS expected if you are initializing BertForMaskedLM from the checkpoint of a model trained on another task or with another architecture (e.g. initializing a BertForSequenceClassification model from a BertForPreTraining model).\n",
            "- This IS NOT expected if you are initializing BertForMaskedLM from the checkpoint of a model that you expect to be exactly identical (initializing a BertForSequenceClassification model from a BertForSequenceClassification model).\n",
            " 69%|██████▉   | 69/100 [01:30<00:47,  1.52s/it]"
          ]
        },
        {
          "name": "stdout",
          "output_type": "stream",
          "text": [
            "请分析给定文本的情感，并从以下选项中选择一个：乐，哀，怒，爱，惊，惧，恶。\n",
            "文本如下：今天a7200天拉！[礼花][礼花]感谢红姐陪我们走过了这个200天！虽然要分班了。我们没有办法一起走过下一个200天。但亲爱的们……我们一定要\n",
            "答案是：！\n",
            "正确答案是: 乐\n"
          ]
        },
        {
          "name": "stderr",
          "output_type": "stream",
          "text": [
            "Some weights of the model checkpoint at bert_zh were not used when initializing BertForMaskedLM: ['bert.pooler.dense.bias', 'bert.pooler.dense.weight', 'cls.seq_relationship.bias', 'cls.seq_relationship.weight']\n",
            "- This IS expected if you are initializing BertForMaskedLM from the checkpoint of a model trained on another task or with another architecture (e.g. initializing a BertForSequenceClassification model from a BertForPreTraining model).\n",
            "- This IS NOT expected if you are initializing BertForMaskedLM from the checkpoint of a model that you expect to be exactly identical (initializing a BertForSequenceClassification model from a BertForSequenceClassification model).\n",
            " 70%|███████   | 70/100 [01:32<00:48,  1.61s/it]"
          ]
        },
        {
          "name": "stdout",
          "output_type": "stream",
          "text": [
            "请分析给定文本的情感，并从以下选项中选择一个：乐，哀，怒，爱，惊，惧，恶。\n",
            "文本如下：上次告白之后，我们之间气氛看似很正常，但熟悉的人都可以感觉到我们之间诡异气氛。快一年了，我不想这样的！这不是我想要的。\n",
            "答案是：。\n",
            "正确答案是: 爱\n"
          ]
        },
        {
          "name": "stderr",
          "output_type": "stream",
          "text": [
            "Some weights of the model checkpoint at bert_zh were not used when initializing BertForMaskedLM: ['bert.pooler.dense.bias', 'bert.pooler.dense.weight', 'cls.seq_relationship.bias', 'cls.seq_relationship.weight']\n",
            "- This IS expected if you are initializing BertForMaskedLM from the checkpoint of a model trained on another task or with another architecture (e.g. initializing a BertForSequenceClassification model from a BertForPreTraining model).\n",
            "- This IS NOT expected if you are initializing BertForMaskedLM from the checkpoint of a model that you expect to be exactly identical (initializing a BertForSequenceClassification model from a BertForSequenceClassification model).\n",
            " 71%|███████   | 71/100 [01:33<00:44,  1.52s/it]"
          ]
        },
        {
          "name": "stdout",
          "output_type": "stream",
          "text": [
            "请分析给定文本的情感，并从以下选项中选择一个：乐，哀，怒，爱，惊，惧，恶。\n",
            "文本如下：想唱歌的时候自己起头！！！不要接我唱的！！！\n",
            "答案是：！\n",
            "正确答案是: 哀\n"
          ]
        },
        {
          "name": "stderr",
          "output_type": "stream",
          "text": [
            "Some weights of the model checkpoint at bert_zh were not used when initializing BertForMaskedLM: ['bert.pooler.dense.bias', 'bert.pooler.dense.weight', 'cls.seq_relationship.bias', 'cls.seq_relationship.weight']\n",
            "- This IS expected if you are initializing BertForMaskedLM from the checkpoint of a model trained on another task or with another architecture (e.g. initializing a BertForSequenceClassification model from a BertForPreTraining model).\n",
            "- This IS NOT expected if you are initializing BertForMaskedLM from the checkpoint of a model that you expect to be exactly identical (initializing a BertForSequenceClassification model from a BertForSequenceClassification model).\n",
            " 72%|███████▏  | 72/100 [01:34<00:39,  1.41s/it]"
          ]
        },
        {
          "name": "stdout",
          "output_type": "stream",
          "text": [
            "请分析给定文本的情感，并从以下选项中选择一个：乐，哀，怒，爱，惊，惧，恶。\n",
            "文本如下：坦白从宽抗拒从严\n",
            "答案是：。\n",
            "正确答案是: 哀\n"
          ]
        },
        {
          "name": "stderr",
          "output_type": "stream",
          "text": [
            "Some weights of the model checkpoint at bert_zh were not used when initializing BertForMaskedLM: ['bert.pooler.dense.bias', 'bert.pooler.dense.weight', 'cls.seq_relationship.bias', 'cls.seq_relationship.weight']\n",
            "- This IS expected if you are initializing BertForMaskedLM from the checkpoint of a model trained on another task or with another architecture (e.g. initializing a BertForSequenceClassification model from a BertForPreTraining model).\n",
            "- This IS NOT expected if you are initializing BertForMaskedLM from the checkpoint of a model that you expect to be exactly identical (initializing a BertForSequenceClassification model from a BertForSequenceClassification model).\n",
            " 73%|███████▎  | 73/100 [01:35<00:36,  1.35s/it]"
          ]
        },
        {
          "name": "stdout",
          "output_type": "stream",
          "text": [
            "请分析给定文本的情感，并从以下选项中选择一个：乐，哀，怒，爱，惊，惧，恶。\n",
            "文本如下：这是第四次为你流泪，哭过以后泪也干了，以后再也不会了，好自为之吧！\n",
            "答案是：。\n",
            "正确答案是: 哀\n"
          ]
        },
        {
          "name": "stderr",
          "output_type": "stream",
          "text": [
            "Some weights of the model checkpoint at bert_zh were not used when initializing BertForMaskedLM: ['bert.pooler.dense.bias', 'bert.pooler.dense.weight', 'cls.seq_relationship.bias', 'cls.seq_relationship.weight']\n",
            "- This IS expected if you are initializing BertForMaskedLM from the checkpoint of a model trained on another task or with another architecture (e.g. initializing a BertForSequenceClassification model from a BertForPreTraining model).\n",
            "- This IS NOT expected if you are initializing BertForMaskedLM from the checkpoint of a model that you expect to be exactly identical (initializing a BertForSequenceClassification model from a BertForSequenceClassification model).\n",
            " 74%|███████▍  | 74/100 [01:37<00:35,  1.36s/it]"
          ]
        },
        {
          "name": "stdout",
          "output_type": "stream",
          "text": [
            "请分析给定文本的情感，并从以下选项中选择一个：乐，哀，怒，爱，惊，惧，恶。\n",
            "文本如下：甲方虐我千百遍，我待甲方如初恋。。。[伤心][伤心][伤心]\n",
            "答案是：。\n",
            "正确答案是: 哀\n"
          ]
        },
        {
          "name": "stderr",
          "output_type": "stream",
          "text": [
            "Some weights of the model checkpoint at bert_zh were not used when initializing BertForMaskedLM: ['bert.pooler.dense.bias', 'bert.pooler.dense.weight', 'cls.seq_relationship.bias', 'cls.seq_relationship.weight']\n",
            "- This IS expected if you are initializing BertForMaskedLM from the checkpoint of a model trained on another task or with another architecture (e.g. initializing a BertForSequenceClassification model from a BertForPreTraining model).\n",
            "- This IS NOT expected if you are initializing BertForMaskedLM from the checkpoint of a model that you expect to be exactly identical (initializing a BertForSequenceClassification model from a BertForSequenceClassification model).\n",
            " 75%|███████▌  | 75/100 [01:38<00:34,  1.40s/it]"
          ]
        },
        {
          "name": "stdout",
          "output_type": "stream",
          "text": [
            "请分析给定文本的情感，并从以下选项中选择一个：乐，哀，怒，爱，惊，惧，恶。\n",
            "文本如下：这人呀高兴就好，何必一天到晚愁苦呢\n",
            "答案是：。\n",
            "正确答案是: 乐\n"
          ]
        },
        {
          "name": "stderr",
          "output_type": "stream",
          "text": [
            "Some weights of the model checkpoint at bert_zh were not used when initializing BertForMaskedLM: ['bert.pooler.dense.bias', 'bert.pooler.dense.weight', 'cls.seq_relationship.bias', 'cls.seq_relationship.weight']\n",
            "- This IS expected if you are initializing BertForMaskedLM from the checkpoint of a model trained on another task or with another architecture (e.g. initializing a BertForSequenceClassification model from a BertForPreTraining model).\n",
            "- This IS NOT expected if you are initializing BertForMaskedLM from the checkpoint of a model that you expect to be exactly identical (initializing a BertForSequenceClassification model from a BertForSequenceClassification model).\n",
            " 76%|███████▌  | 76/100 [01:39<00:31,  1.33s/it]"
          ]
        },
        {
          "name": "stdout",
          "output_type": "stream",
          "text": [
            "请分析给定文本的情感，并从以下选项中选择一个：乐，哀，怒，爱，惊，惧，恶。\n",
            "文本如下：大半夜的坐在家里的床上玩手机看我妈看pps陪一只猪吃面\n",
            "答案是：。\n",
            "正确答案是: 乐\n"
          ]
        },
        {
          "name": "stderr",
          "output_type": "stream",
          "text": [
            "Some weights of the model checkpoint at bert_zh were not used when initializing BertForMaskedLM: ['bert.pooler.dense.bias', 'bert.pooler.dense.weight', 'cls.seq_relationship.bias', 'cls.seq_relationship.weight']\n",
            "- This IS expected if you are initializing BertForMaskedLM from the checkpoint of a model trained on another task or with another architecture (e.g. initializing a BertForSequenceClassification model from a BertForPreTraining model).\n",
            "- This IS NOT expected if you are initializing BertForMaskedLM from the checkpoint of a model that you expect to be exactly identical (initializing a BertForSequenceClassification model from a BertForSequenceClassification model).\n",
            " 77%|███████▋  | 77/100 [01:41<00:30,  1.33s/it]"
          ]
        },
        {
          "name": "stdout",
          "output_type": "stream",
          "text": [
            "请分析给定文本的情感，并从以下选项中选择一个：乐，哀，怒，爱，惊，惧，恶。\n",
            "文本如下：跟小朋友回家，我说伞好重喔手都要断了。小朋友好乖巧：那我来打。撑了没一分钟，手抖得跟甲亢病人一样，还给我：还是你打吧？\n",
            "答案是：。\n",
            "正确答案是: 爱\n"
          ]
        },
        {
          "name": "stderr",
          "output_type": "stream",
          "text": [
            "Some weights of the model checkpoint at bert_zh were not used when initializing BertForMaskedLM: ['bert.pooler.dense.bias', 'bert.pooler.dense.weight', 'cls.seq_relationship.bias', 'cls.seq_relationship.weight']\n",
            "- This IS expected if you are initializing BertForMaskedLM from the checkpoint of a model trained on another task or with another architecture (e.g. initializing a BertForSequenceClassification model from a BertForPreTraining model).\n",
            "- This IS NOT expected if you are initializing BertForMaskedLM from the checkpoint of a model that you expect to be exactly identical (initializing a BertForSequenceClassification model from a BertForSequenceClassification model).\n",
            " 78%|███████▊  | 78/100 [01:42<00:30,  1.40s/it]"
          ]
        },
        {
          "name": "stdout",
          "output_type": "stream",
          "text": [
            "请分析给定文本的情感，并从以下选项中选择一个：乐，哀，怒，爱，惊，惧，恶。\n",
            "文本如下：真的地震啊在床上赖床真的感觉到闷闷的震动了两下下昂[哈哈][花心]\n",
            "答案是：。\n",
            "正确答案是: 恶\n"
          ]
        },
        {
          "name": "stderr",
          "output_type": "stream",
          "text": [
            "Some weights of the model checkpoint at bert_zh were not used when initializing BertForMaskedLM: ['bert.pooler.dense.bias', 'bert.pooler.dense.weight', 'cls.seq_relationship.bias', 'cls.seq_relationship.weight']\n",
            "- This IS expected if you are initializing BertForMaskedLM from the checkpoint of a model trained on another task or with another architecture (e.g. initializing a BertForSequenceClassification model from a BertForPreTraining model).\n",
            "- This IS NOT expected if you are initializing BertForMaskedLM from the checkpoint of a model that you expect to be exactly identical (initializing a BertForSequenceClassification model from a BertForSequenceClassification model).\n",
            " 79%|███████▉  | 79/100 [01:44<00:29,  1.39s/it]"
          ]
        },
        {
          "name": "stdout",
          "output_type": "stream",
          "text": [
            "请分析给定文本的情感，并从以下选项中选择一个：乐，哀，怒，爱，惊，惧，恶。\n",
            "文本如下：我始终相信，在这个世界上，有那么一个人，用力的与世俗做抗争，追求内心的安宁和质朴的快乐。\n",
            "答案是：。\n",
            "正确答案是: 乐\n"
          ]
        },
        {
          "name": "stderr",
          "output_type": "stream",
          "text": [
            "Some weights of the model checkpoint at bert_zh were not used when initializing BertForMaskedLM: ['bert.pooler.dense.bias', 'bert.pooler.dense.weight', 'cls.seq_relationship.bias', 'cls.seq_relationship.weight']\n",
            "- This IS expected if you are initializing BertForMaskedLM from the checkpoint of a model trained on another task or with another architecture (e.g. initializing a BertForSequenceClassification model from a BertForPreTraining model).\n",
            "- This IS NOT expected if you are initializing BertForMaskedLM from the checkpoint of a model that you expect to be exactly identical (initializing a BertForSequenceClassification model from a BertForSequenceClassification model).\n",
            " 80%|████████  | 80/100 [01:45<00:27,  1.36s/it]"
          ]
        },
        {
          "name": "stdout",
          "output_type": "stream",
          "text": [
            "请分析给定文本的情感，并从以下选项中选择一个：乐，哀，怒，爱，惊，惧，恶。\n",
            "文本如下：你也很孤单吧？你也很想被人喜欢吧？你也不想有一天这样默默无闻地死去吧？\n",
            "答案是：。\n",
            "正确答案是: 哀\n"
          ]
        },
        {
          "name": "stderr",
          "output_type": "stream",
          "text": [
            "Some weights of the model checkpoint at bert_zh were not used when initializing BertForMaskedLM: ['bert.pooler.dense.bias', 'bert.pooler.dense.weight', 'cls.seq_relationship.bias', 'cls.seq_relationship.weight']\n",
            "- This IS expected if you are initializing BertForMaskedLM from the checkpoint of a model trained on another task or with another architecture (e.g. initializing a BertForSequenceClassification model from a BertForPreTraining model).\n",
            "- This IS NOT expected if you are initializing BertForMaskedLM from the checkpoint of a model that you expect to be exactly identical (initializing a BertForSequenceClassification model from a BertForSequenceClassification model).\n",
            " 81%|████████  | 81/100 [01:46<00:27,  1.43s/it]"
          ]
        },
        {
          "name": "stdout",
          "output_type": "stream",
          "text": [
            "请分析给定文本的情感，并从以下选项中选择一个：乐，哀，怒，爱，惊，惧，恶。\n",
            "文本如下：一直觉得养狗很可怕，但养了就不想放弃。对于养动物，我觉得要么你就不要养，要么你就养到底，负责到底。狗也是有心的，送来送去我都心疼，更别说狗了。小赛文，四个月大，今天却被我送给别人。[草泥马][草泥马][草泥马][草泥马]\n",
            "答案是：。\n",
            "正确答案是: 哀\n"
          ]
        },
        {
          "name": "stderr",
          "output_type": "stream",
          "text": [
            "Some weights of the model checkpoint at bert_zh were not used when initializing BertForMaskedLM: ['bert.pooler.dense.bias', 'bert.pooler.dense.weight', 'cls.seq_relationship.bias', 'cls.seq_relationship.weight']\n",
            "- This IS expected if you are initializing BertForMaskedLM from the checkpoint of a model trained on another task or with another architecture (e.g. initializing a BertForSequenceClassification model from a BertForPreTraining model).\n",
            "- This IS NOT expected if you are initializing BertForMaskedLM from the checkpoint of a model that you expect to be exactly identical (initializing a BertForSequenceClassification model from a BertForSequenceClassification model).\n",
            " 82%|████████▏ | 82/100 [01:48<00:25,  1.42s/it]"
          ]
        },
        {
          "name": "stdout",
          "output_type": "stream",
          "text": [
            "请分析给定文本的情感，并从以下选项中选择一个：乐，哀，怒，爱，惊，惧，恶。\n",
            "文本如下：今天在食堂吃饭看到一个男的穿条天蓝的裤子饭都喷了出来。。。。。。\n",
            "答案是：。\n",
            "正确答案是: 哀\n"
          ]
        },
        {
          "name": "stderr",
          "output_type": "stream",
          "text": [
            "Some weights of the model checkpoint at bert_zh were not used when initializing BertForMaskedLM: ['bert.pooler.dense.bias', 'bert.pooler.dense.weight', 'cls.seq_relationship.bias', 'cls.seq_relationship.weight']\n",
            "- This IS expected if you are initializing BertForMaskedLM from the checkpoint of a model trained on another task or with another architecture (e.g. initializing a BertForSequenceClassification model from a BertForPreTraining model).\n",
            "- This IS NOT expected if you are initializing BertForMaskedLM from the checkpoint of a model that you expect to be exactly identical (initializing a BertForSequenceClassification model from a BertForSequenceClassification model).\n",
            " 83%|████████▎ | 83/100 [01:49<00:22,  1.35s/it]"
          ]
        },
        {
          "name": "stdout",
          "output_type": "stream",
          "text": [
            "请分析给定文本的情感，并从以下选项中选择一个：乐，哀，怒，爱，惊，惧，恶。\n",
            "文本如下：我的夜晚是你的白天，当我思念时你正入眠。带的手表是你的时间，回想着你疼爱我的脸。\n",
            "答案是：。\n",
            "正确答案是: 哀\n"
          ]
        },
        {
          "name": "stderr",
          "output_type": "stream",
          "text": [
            "Some weights of the model checkpoint at bert_zh were not used when initializing BertForMaskedLM: ['bert.pooler.dense.bias', 'bert.pooler.dense.weight', 'cls.seq_relationship.bias', 'cls.seq_relationship.weight']\n",
            "- This IS expected if you are initializing BertForMaskedLM from the checkpoint of a model trained on another task or with another architecture (e.g. initializing a BertForSequenceClassification model from a BertForPreTraining model).\n",
            "- This IS NOT expected if you are initializing BertForMaskedLM from the checkpoint of a model that you expect to be exactly identical (initializing a BertForSequenceClassification model from a BertForSequenceClassification model).\n",
            " 84%|████████▍ | 84/100 [01:50<00:20,  1.27s/it]"
          ]
        },
        {
          "name": "stdout",
          "output_type": "stream",
          "text": [
            "请分析给定文本的情感，并从以下选项中选择一个：乐，哀，怒，爱，惊，惧，恶。\n",
            "文本如下：鸡蛋爆洋葱\n",
            "答案是：。\n",
            "正确答案是: 乐\n"
          ]
        },
        {
          "name": "stderr",
          "output_type": "stream",
          "text": [
            "Some weights of the model checkpoint at bert_zh were not used when initializing BertForMaskedLM: ['bert.pooler.dense.bias', 'bert.pooler.dense.weight', 'cls.seq_relationship.bias', 'cls.seq_relationship.weight']\n",
            "- This IS expected if you are initializing BertForMaskedLM from the checkpoint of a model trained on another task or with another architecture (e.g. initializing a BertForSequenceClassification model from a BertForPreTraining model).\n",
            "- This IS NOT expected if you are initializing BertForMaskedLM from the checkpoint of a model that you expect to be exactly identical (initializing a BertForSequenceClassification model from a BertForSequenceClassification model).\n",
            " 85%|████████▌ | 85/100 [01:51<00:19,  1.27s/it]"
          ]
        },
        {
          "name": "stdout",
          "output_type": "stream",
          "text": [
            "请分析给定文本的情感，并从以下选项中选择一个：乐，哀，怒，爱，惊，惧，恶。\n",
            "文本如下：我只是郁闷和伤心于我们为什么不能好好玩，为什么一点和气都没有呢？我的自尊心受到了伤害，发生的一幕幕像一把锐利的尖刀割裂了我跳动的心脏。想象和现实终不是一回事别把事情想都那么美好。\n",
            "答案是：。\n",
            "正确答案是: 哀\n"
          ]
        },
        {
          "name": "stderr",
          "output_type": "stream",
          "text": [
            "Some weights of the model checkpoint at bert_zh were not used when initializing BertForMaskedLM: ['bert.pooler.dense.bias', 'bert.pooler.dense.weight', 'cls.seq_relationship.bias', 'cls.seq_relationship.weight']\n",
            "- This IS expected if you are initializing BertForMaskedLM from the checkpoint of a model trained on another task or with another architecture (e.g. initializing a BertForSequenceClassification model from a BertForPreTraining model).\n",
            "- This IS NOT expected if you are initializing BertForMaskedLM from the checkpoint of a model that you expect to be exactly identical (initializing a BertForSequenceClassification model from a BertForSequenceClassification model).\n",
            " 86%|████████▌ | 86/100 [01:53<00:18,  1.35s/it]"
          ]
        },
        {
          "name": "stdout",
          "output_type": "stream",
          "text": [
            "请分析给定文本的情感，并从以下选项中选择一个：乐，哀，怒，爱，惊，惧，恶。\n",
            "文本如下：今天磕瓜子突然想到楼主小学时候上自习，自己在那默默剥了快一节课的时间，准备下课以后一口气吃掉。结果我们班主任走进来直接就把我藏在课本下面的瓜子抓起来吞了，是吞啊。还hll的来了句，在窗户外看你剥半天了，就等你多剥点呢。。。\n",
            "答案是：。\n",
            "正确答案是: 乐\n"
          ]
        },
        {
          "name": "stderr",
          "output_type": "stream",
          "text": [
            "Some weights of the model checkpoint at bert_zh were not used when initializing BertForMaskedLM: ['bert.pooler.dense.bias', 'bert.pooler.dense.weight', 'cls.seq_relationship.bias', 'cls.seq_relationship.weight']\n",
            "- This IS expected if you are initializing BertForMaskedLM from the checkpoint of a model trained on another task or with another architecture (e.g. initializing a BertForSequenceClassification model from a BertForPreTraining model).\n",
            "- This IS NOT expected if you are initializing BertForMaskedLM from the checkpoint of a model that you expect to be exactly identical (initializing a BertForSequenceClassification model from a BertForSequenceClassification model).\n",
            " 87%|████████▋ | 87/100 [01:54<00:17,  1.32s/it]"
          ]
        },
        {
          "name": "stdout",
          "output_type": "stream",
          "text": [
            "请分析给定文本的情感，并从以下选项中选择一个：乐，哀，怒，爱，惊，惧，恶。\n",
            "文本如下：我对你说的。\n",
            "答案是：。\n",
            "正确答案是: 哀\n"
          ]
        },
        {
          "name": "stderr",
          "output_type": "stream",
          "text": [
            "Some weights of the model checkpoint at bert_zh were not used when initializing BertForMaskedLM: ['bert.pooler.dense.bias', 'bert.pooler.dense.weight', 'cls.seq_relationship.bias', 'cls.seq_relationship.weight']\n",
            "- This IS expected if you are initializing BertForMaskedLM from the checkpoint of a model trained on another task or with another architecture (e.g. initializing a BertForSequenceClassification model from a BertForPreTraining model).\n",
            "- This IS NOT expected if you are initializing BertForMaskedLM from the checkpoint of a model that you expect to be exactly identical (initializing a BertForSequenceClassification model from a BertForSequenceClassification model).\n",
            " 88%|████████▊ | 88/100 [01:55<00:14,  1.24s/it]"
          ]
        },
        {
          "name": "stdout",
          "output_type": "stream",
          "text": [
            "请分析给定文本的情感，并从以下选项中选择一个：乐，哀，怒，爱，惊，惧，恶。\n",
            "文本如下：今年吃的太多，想的太少。\n",
            "答案是：。\n",
            "正确答案是: 哀\n"
          ]
        },
        {
          "name": "stderr",
          "output_type": "stream",
          "text": [
            "Some weights of the model checkpoint at bert_zh were not used when initializing BertForMaskedLM: ['bert.pooler.dense.bias', 'bert.pooler.dense.weight', 'cls.seq_relationship.bias', 'cls.seq_relationship.weight']\n",
            "- This IS expected if you are initializing BertForMaskedLM from the checkpoint of a model trained on another task or with another architecture (e.g. initializing a BertForSequenceClassification model from a BertForPreTraining model).\n",
            "- This IS NOT expected if you are initializing BertForMaskedLM from the checkpoint of a model that you expect to be exactly identical (initializing a BertForSequenceClassification model from a BertForSequenceClassification model).\n",
            " 89%|████████▉ | 89/100 [01:57<00:13,  1.24s/it]"
          ]
        },
        {
          "name": "stdout",
          "output_type": "stream",
          "text": [
            "请分析给定文本的情感，并从以下选项中选择一个：乐，哀，怒，爱，惊，惧，恶。\n",
            "文本如下：稀土部队的粉全是僵尸粉啊！[嘘][泪]\n",
            "答案是：。\n",
            "正确答案是: 怒\n"
          ]
        },
        {
          "name": "stderr",
          "output_type": "stream",
          "text": [
            "Some weights of the model checkpoint at bert_zh were not used when initializing BertForMaskedLM: ['bert.pooler.dense.bias', 'bert.pooler.dense.weight', 'cls.seq_relationship.bias', 'cls.seq_relationship.weight']\n",
            "- This IS expected if you are initializing BertForMaskedLM from the checkpoint of a model trained on another task or with another architecture (e.g. initializing a BertForSequenceClassification model from a BertForPreTraining model).\n",
            "- This IS NOT expected if you are initializing BertForMaskedLM from the checkpoint of a model that you expect to be exactly identical (initializing a BertForSequenceClassification model from a BertForSequenceClassification model).\n",
            " 90%|█████████ | 90/100 [01:58<00:12,  1.27s/it]"
          ]
        },
        {
          "name": "stdout",
          "output_type": "stream",
          "text": [
            "请分析给定文本的情感，并从以下选项中选择一个：乐，哀，怒，爱，惊，惧，恶。\n",
            "文本如下：刷卡一时爽，月底火葬场\n",
            "答案是：。\n",
            "正确答案是: 乐\n"
          ]
        },
        {
          "name": "stderr",
          "output_type": "stream",
          "text": [
            "Some weights of the model checkpoint at bert_zh were not used when initializing BertForMaskedLM: ['bert.pooler.dense.bias', 'bert.pooler.dense.weight', 'cls.seq_relationship.bias', 'cls.seq_relationship.weight']\n",
            "- This IS expected if you are initializing BertForMaskedLM from the checkpoint of a model trained on another task or with another architecture (e.g. initializing a BertForSequenceClassification model from a BertForPreTraining model).\n",
            "- This IS NOT expected if you are initializing BertForMaskedLM from the checkpoint of a model that you expect to be exactly identical (initializing a BertForSequenceClassification model from a BertForSequenceClassification model).\n",
            " 91%|█████████ | 91/100 [01:59<00:11,  1.29s/it]"
          ]
        },
        {
          "name": "stdout",
          "output_type": "stream",
          "text": [
            "请分析给定文本的情感，并从以下选项中选择一个：乐，哀，怒，爱，惊，惧，恶。\n",
            "文本如下：画个圈圈诅咒你嫁不出去，你丫的难道不知道图书馆是看书的地方吗？每天来了不是吃就是喝、你吃也就吃吧、喝也就喝吧，你发出那么大的声音给谁听呢！长的就跟个大龄妇女似的，看你也嫁不出去！！！\n",
            "答案是：！\n",
            "正确答案是: 怒\n"
          ]
        },
        {
          "name": "stderr",
          "output_type": "stream",
          "text": [
            "Some weights of the model checkpoint at bert_zh were not used when initializing BertForMaskedLM: ['bert.pooler.dense.bias', 'bert.pooler.dense.weight', 'cls.seq_relationship.bias', 'cls.seq_relationship.weight']\n",
            "- This IS expected if you are initializing BertForMaskedLM from the checkpoint of a model trained on another task or with another architecture (e.g. initializing a BertForSequenceClassification model from a BertForPreTraining model).\n",
            "- This IS NOT expected if you are initializing BertForMaskedLM from the checkpoint of a model that you expect to be exactly identical (initializing a BertForSequenceClassification model from a BertForSequenceClassification model).\n",
            " 92%|█████████▏| 92/100 [02:01<00:11,  1.42s/it]"
          ]
        },
        {
          "name": "stdout",
          "output_type": "stream",
          "text": [
            "请分析给定文本的情感，并从以下选项中选择一个：乐，哀，怒，爱，惊，惧，恶。\n",
            "文本如下：第一次搭车没给够钱！买完东西只剩11块2毛……打车需15元……谢司机不杀之恩！！！！！\n",
            "答案是：！\n",
            "正确答案是: 乐\n"
          ]
        },
        {
          "name": "stderr",
          "output_type": "stream",
          "text": [
            "Some weights of the model checkpoint at bert_zh were not used when initializing BertForMaskedLM: ['bert.pooler.dense.bias', 'bert.pooler.dense.weight', 'cls.seq_relationship.bias', 'cls.seq_relationship.weight']\n",
            "- This IS expected if you are initializing BertForMaskedLM from the checkpoint of a model trained on another task or with another architecture (e.g. initializing a BertForSequenceClassification model from a BertForPreTraining model).\n",
            "- This IS NOT expected if you are initializing BertForMaskedLM from the checkpoint of a model that you expect to be exactly identical (initializing a BertForSequenceClassification model from a BertForSequenceClassification model).\n",
            " 93%|█████████▎| 93/100 [02:02<00:09,  1.38s/it]"
          ]
        },
        {
          "name": "stdout",
          "output_type": "stream",
          "text": [
            "请分析给定文本的情感，并从以下选项中选择一个：乐，哀，怒，爱，惊，惧，恶。\n",
            "文本如下：特无聊的现在，都不知道干什么好。[偷笑]\n",
            "答案是：。\n",
            "正确答案是: 恶\n"
          ]
        },
        {
          "name": "stderr",
          "output_type": "stream",
          "text": [
            "Some weights of the model checkpoint at bert_zh were not used when initializing BertForMaskedLM: ['bert.pooler.dense.bias', 'bert.pooler.dense.weight', 'cls.seq_relationship.bias', 'cls.seq_relationship.weight']\n",
            "- This IS expected if you are initializing BertForMaskedLM from the checkpoint of a model trained on another task or with another architecture (e.g. initializing a BertForSequenceClassification model from a BertForPreTraining model).\n",
            "- This IS NOT expected if you are initializing BertForMaskedLM from the checkpoint of a model that you expect to be exactly identical (initializing a BertForSequenceClassification model from a BertForSequenceClassification model).\n",
            " 94%|█████████▍| 94/100 [02:03<00:08,  1.35s/it]"
          ]
        },
        {
          "name": "stdout",
          "output_type": "stream",
          "text": [
            "请分析给定文本的情感，并从以下选项中选择一个：乐，哀，怒，爱，惊，惧，恶。\n",
            "文本如下：我是个自私的人，在伤害你的同时却不想失去你……\n",
            "答案是：。\n",
            "正确答案是: 哀\n"
          ]
        },
        {
          "name": "stderr",
          "output_type": "stream",
          "text": [
            "Some weights of the model checkpoint at bert_zh were not used when initializing BertForMaskedLM: ['bert.pooler.dense.bias', 'bert.pooler.dense.weight', 'cls.seq_relationship.bias', 'cls.seq_relationship.weight']\n",
            "- This IS expected if you are initializing BertForMaskedLM from the checkpoint of a model trained on another task or with another architecture (e.g. initializing a BertForSequenceClassification model from a BertForPreTraining model).\n",
            "- This IS NOT expected if you are initializing BertForMaskedLM from the checkpoint of a model that you expect to be exactly identical (initializing a BertForSequenceClassification model from a BertForSequenceClassification model).\n",
            " 95%|█████████▌| 95/100 [02:05<00:06,  1.32s/it]"
          ]
        },
        {
          "name": "stdout",
          "output_type": "stream",
          "text": [
            "请分析给定文本的情感，并从以下选项中选择一个：乐，哀，怒，爱，惊，惧，恶。\n",
            "文本如下：有一种伤痛叫做：一朝被蛇咬，十年怕井绳！[囧][囧][囧]\n",
            "答案是：。\n",
            "正确答案是: 哀\n"
          ]
        },
        {
          "name": "stderr",
          "output_type": "stream",
          "text": [
            "Some weights of the model checkpoint at bert_zh were not used when initializing BertForMaskedLM: ['bert.pooler.dense.bias', 'bert.pooler.dense.weight', 'cls.seq_relationship.bias', 'cls.seq_relationship.weight']\n",
            "- This IS expected if you are initializing BertForMaskedLM from the checkpoint of a model trained on another task or with another architecture (e.g. initializing a BertForSequenceClassification model from a BertForPreTraining model).\n",
            "- This IS NOT expected if you are initializing BertForMaskedLM from the checkpoint of a model that you expect to be exactly identical (initializing a BertForSequenceClassification model from a BertForSequenceClassification model).\n",
            " 96%|█████████▌| 96/100 [02:06<00:05,  1.31s/it]"
          ]
        },
        {
          "name": "stdout",
          "output_type": "stream",
          "text": [
            "请分析给定文本的情感，并从以下选项中选择一个：乐，哀，怒，爱，惊，惧，恶。\n",
            "文本如下：现在的小孩拿着土豪金到处乱窜！不是苹果还看不起@[泪][泪]\n",
            "答案是：。\n",
            "正确答案是: 哀\n"
          ]
        },
        {
          "name": "stderr",
          "output_type": "stream",
          "text": [
            "Some weights of the model checkpoint at bert_zh were not used when initializing BertForMaskedLM: ['bert.pooler.dense.bias', 'bert.pooler.dense.weight', 'cls.seq_relationship.bias', 'cls.seq_relationship.weight']\n",
            "- This IS expected if you are initializing BertForMaskedLM from the checkpoint of a model trained on another task or with another architecture (e.g. initializing a BertForSequenceClassification model from a BertForPreTraining model).\n",
            "- This IS NOT expected if you are initializing BertForMaskedLM from the checkpoint of a model that you expect to be exactly identical (initializing a BertForSequenceClassification model from a BertForSequenceClassification model).\n",
            " 97%|█████████▋| 97/100 [02:07<00:03,  1.26s/it]"
          ]
        },
        {
          "name": "stdout",
          "output_type": "stream",
          "text": [
            "请分析给定文本的情感，并从以下选项中选择一个：乐，哀，怒，爱，惊，惧，恶。\n",
            "文本如下：好久了。该努力的还是没努力。不该喜欢的还是喜欢。\n",
            "答案是：。\n",
            "正确答案是: 哀\n"
          ]
        },
        {
          "name": "stderr",
          "output_type": "stream",
          "text": [
            "Some weights of the model checkpoint at bert_zh were not used when initializing BertForMaskedLM: ['bert.pooler.dense.bias', 'bert.pooler.dense.weight', 'cls.seq_relationship.bias', 'cls.seq_relationship.weight']\n",
            "- This IS expected if you are initializing BertForMaskedLM from the checkpoint of a model trained on another task or with another architecture (e.g. initializing a BertForSequenceClassification model from a BertForPreTraining model).\n",
            "- This IS NOT expected if you are initializing BertForMaskedLM from the checkpoint of a model that you expect to be exactly identical (initializing a BertForSequenceClassification model from a BertForSequenceClassification model).\n",
            " 98%|█████████▊| 98/100 [02:08<00:02,  1.28s/it]"
          ]
        },
        {
          "name": "stdout",
          "output_type": "stream",
          "text": [
            "请分析给定文本的情感，并从以下选项中选择一个：乐，哀，怒，爱，惊，惧，恶。\n",
            "文本如下：节制而有秩序的生活，只为讨祂喜悦……谈论上帝只是慕道的必须，却不是现在的必须。现在对我而言更重要的，是回应祂，让祂在我生命中掌权。倾听，接受，交托。。。谢谢主，给我每天每分每秒每地都跟随的力量……\n",
            "答案是：。\n",
            "正确答案是: 乐\n"
          ]
        },
        {
          "name": "stderr",
          "output_type": "stream",
          "text": [
            "Some weights of the model checkpoint at bert_zh were not used when initializing BertForMaskedLM: ['bert.pooler.dense.bias', 'bert.pooler.dense.weight', 'cls.seq_relationship.bias', 'cls.seq_relationship.weight']\n",
            "- This IS expected if you are initializing BertForMaskedLM from the checkpoint of a model trained on another task or with another architecture (e.g. initializing a BertForSequenceClassification model from a BertForPreTraining model).\n",
            "- This IS NOT expected if you are initializing BertForMaskedLM from the checkpoint of a model that you expect to be exactly identical (initializing a BertForSequenceClassification model from a BertForSequenceClassification model).\n",
            " 99%|█████████▉| 99/100 [02:10<00:01,  1.28s/it]"
          ]
        },
        {
          "name": "stdout",
          "output_type": "stream",
          "text": [
            "请分析给定文本的情感，并从以下选项中选择一个：乐，哀，怒，爱，惊，惧，恶。\n",
            "文本如下：刚刚给妈妈打电话聊天的时候说打电话之前跟老爸聊qq为什么不理我，我妈就说肯定是他在公司上忘了下了，他要是看见你给他聊天还不巴巴的回来跟我炫耀啊[泪][泪][泪]\n",
            "答案是：。\n",
            "正确答案是: 哀\n"
          ]
        },
        {
          "name": "stderr",
          "output_type": "stream",
          "text": [
            "Some weights of the model checkpoint at bert_zh were not used when initializing BertForMaskedLM: ['bert.pooler.dense.bias', 'bert.pooler.dense.weight', 'cls.seq_relationship.bias', 'cls.seq_relationship.weight']\n",
            "- This IS expected if you are initializing BertForMaskedLM from the checkpoint of a model trained on another task or with another architecture (e.g. initializing a BertForSequenceClassification model from a BertForPreTraining model).\n",
            "- This IS NOT expected if you are initializing BertForMaskedLM from the checkpoint of a model that you expect to be exactly identical (initializing a BertForSequenceClassification model from a BertForSequenceClassification model).\n",
            "100%|██████████| 100/100 [02:11<00:00,  1.31s/it]"
          ]
        },
        {
          "name": "stdout",
          "output_type": "stream",
          "text": [
            "请分析给定文本的情感，并从以下选项中选择一个：乐，哀，怒，爱，惊，惧，恶。\n",
            "文本如下：幸福就是，无论自己长到多少岁，都能抱着妈妈睡觉！\n",
            "答案是：。\n",
            "正确答案是: 乐\n",
            "Accuracy: 0.0\n"
          ]
        },
        {
          "name": "stderr",
          "output_type": "stream",
          "text": [
            "\n"
          ]
        }
      ],
      "source": [
        "# 导入原模型\n",
        "tokenizer = BertTokenizer.from_pretrained(\"bert_zh\")\n",
        "model = BertForMaskedLM.from_pretrained(\"bert_zh\")\n",
        "\n",
        "# 测试规模\n",
        "test_num = 100\n",
        "# 回答正确的次数\n",
        "right_answer = 0\n",
        "\n",
        "# 测试\n",
        "for i in tqdm(range(test_num)):\n",
        "    prompt = question + texts[i] + answer + \"[MASK]\"\n",
        "\n",
        "    unmasker = pipeline('fill-mask', model='bert_zh')\n",
        "    output = unmasker(prompt)\n",
        "\n",
        "    # 获取最后一词\n",
        "    predict_emotion = output[0]['token_str']\n",
        "    # 打印填空结果\n",
        "    print(question + texts[i] + answer + predict_emotion)\n",
        "    \n",
        "    # 对比正确结果计算准确率\n",
        "    if (predict_emotion == emotions[i]): \n",
        "        right_answer += 1\n",
        "    # 打印正确结果\n",
        "    print(\"正确答案是:\", emotions[i])\n",
        "\n",
        "#打印准确率\n",
        "print(\"Accuracy:\", right_answer * 1.0 / test_num)\n"
      ]
    },
    {
      "cell_type": "code",
      "execution_count": 44,
      "metadata": {
        "id": "khNKtuNbUvF1"
      },
      "outputs": [],
      "source": [
        "# 自定义数据集类\n",
        "class EmotionalTextDataset(Dataset):\n",
        "    def __init__(self, usable_data, tokenizer):\n",
        "        self.data = []\n",
        "        for text in usable_data:\n",
        "            self.data.append(tokenizer.encode(text, max_length=1024, truncation=True))\n",
        "\n",
        "    def __len__(self):\n",
        "        return len(self.data)\n",
        "\n",
        "    def __getitem__(self, idx):\n",
        "        return torch.tensor(self.data[idx])"
      ]
    },
    {
      "cell_type": "code",
      "execution_count": 45,
      "metadata": {},
      "outputs": [],
      "source": [
        "# 初始化数据集\n",
        "dataset = EmotionalTextDataset(usable_data, tokenizer)"
      ]
    },
    {
      "cell_type": "code",
      "execution_count": 46,
      "metadata": {},
      "outputs": [],
      "source": [
        "# 创建数据排序器\n",
        "data_collator = DataCollatorForLanguageModeling(\n",
        "    tokenizer=tokenizer, \n",
        "    mlm=True, \n",
        "    mlm_probability=0.15\n",
        ")"
      ]
    },
    {
      "cell_type": "code",
      "execution_count": 47,
      "metadata": {
        "id": "3rbyedyi_lui"
      },
      "outputs": [
        {
          "name": "stderr",
          "output_type": "stream",
          "text": [
            "d:\\anaconda3\\Lib\\site-packages\\accelerate\\accelerator.py:436: FutureWarning: Passing the following arguments to `Accelerator` is deprecated and will be removed in version 1.0 of Accelerate: dict_keys(['dispatch_batches', 'split_batches']). Please pass an `accelerate.DataLoaderConfiguration` instead: \n",
            "dataloader_config = DataLoaderConfiguration(dispatch_batches=None, split_batches=False)\n",
            "  warnings.warn(\n"
          ]
        },
        {
          "data": {
            "application/vnd.jupyter.widget-view+json": {
              "model_id": "f3a9fe11337246308a24da73a32980c9",
              "version_major": 2,
              "version_minor": 0
            },
            "text/plain": [
              "  0%|          | 0/3000 [00:00<?, ?it/s]"
            ]
          },
          "metadata": {},
          "output_type": "display_data"
        },
        {
          "name": "stdout",
          "output_type": "stream",
          "text": [
            "{'loss': 1.3133, 'learning_rate': 8.333333333333334e-05, 'epoch': 0.5}\n",
            "{'loss': 1.2855, 'learning_rate': 6.666666666666667e-05, 'epoch': 1.0}\n",
            "{'loss': 1.1193, 'learning_rate': 5e-05, 'epoch': 1.5}\n",
            "{'loss': 1.0506, 'learning_rate': 3.3333333333333335e-05, 'epoch': 2.0}\n",
            "{'loss': 0.9251, 'learning_rate': 1.6666666666666667e-05, 'epoch': 2.5}\n",
            "{'loss': 0.863, 'learning_rate': 0.0, 'epoch': 3.0}\n",
            "{'train_runtime': 8198.2324, 'train_samples_per_second': 0.366, 'train_steps_per_second': 0.366, 'train_loss': 1.0927996520996093, 'epoch': 3.0}\n"
          ]
        }
      ],
      "source": [
        "# 训练参数\n",
        "training_args = TrainingArguments(\n",
        "    output_dir='./bert_zh_7_retrained',\n",
        "    num_train_epochs=3,\n",
        "    per_device_train_batch_size=1,\n",
        "    save_steps=500,\n",
        "    learning_rate=1e-4,\n",
        "    overwrite_output_dir=True,\n",
        ")\n",
        "\n",
        "# 初始化训练器\n",
        "trainer = Trainer(\n",
        "    model=model,\n",
        "    args=training_args,\n",
        "    data_collator=data_collator,\n",
        "    train_dataset=dataset,\n",
        ")\n",
        "\n",
        "# 训练\n",
        "trainer.train()\n",
        "\n",
        "# 保存模型\n",
        "trainer.save_model()"
      ]
    },
    {
      "cell_type": "code",
      "execution_count": 49,
      "metadata": {},
      "outputs": [
        {
          "name": "stderr",
          "output_type": "stream",
          "text": [
            "  1%|          | 1/100 [00:00<01:16,  1.30it/s]"
          ]
        },
        {
          "name": "stdout",
          "output_type": "stream",
          "text": [
            "请分析给定文本的情感，并从以下选项中选择一个：乐，哀，怒，爱，惊，惧，恶。\n",
            "文本如下：和关胖子的计划从大姨妈走以后开始\n",
            "答案是：哀\n",
            "正确答案是: 乐\n"
          ]
        },
        {
          "name": "stderr",
          "output_type": "stream",
          "text": [
            "  2%|▏         | 2/100 [00:01<01:15,  1.31it/s]"
          ]
        },
        {
          "name": "stdout",
          "output_type": "stream",
          "text": [
            "请分析给定文本的情感，并从以下选项中选择一个：乐，哀，怒，爱，惊，惧，恶。\n",
            "文本如下：三字经啊三字经老子他妈的真么那么烦你，你说你干嘛出生啊害得我抄了差不多哦半个小时\n",
            "答案是：哀\n",
            "正确答案是: 怒\n"
          ]
        },
        {
          "name": "stderr",
          "output_type": "stream",
          "text": [
            "  3%|▎         | 3/100 [00:02<01:12,  1.35it/s]"
          ]
        },
        {
          "name": "stdout",
          "output_type": "stream",
          "text": [
            "请分析给定文本的情感，并从以下选项中选择一个：乐，哀，怒，爱，惊，惧，恶。\n",
            "文本如下：最近开始试吃公司附近的羊肉面，找一家最好吃的，挺贵的，一碗都要20块~\n",
            "答案是：恶\n",
            "正确答案是: 恶\n"
          ]
        },
        {
          "name": "stderr",
          "output_type": "stream",
          "text": [
            "  4%|▍         | 4/100 [00:03<01:14,  1.29it/s]"
          ]
        },
        {
          "name": "stdout",
          "output_type": "stream",
          "text": [
            "请分析给定文本的情感，并从以下选项中选择一个：乐，哀，怒，爱，惊，惧，恶。\n",
            "文本如下：可能是我错了一直以自已为中心不顾你感受才导致你离开我回到她身边对不起如果你原谅我了就微信找我吧我知道你微博在线求原谅真心对不起\n",
            "答案是：哀\n",
            "正确答案是: 哀\n"
          ]
        },
        {
          "name": "stderr",
          "output_type": "stream",
          "text": [
            "  5%|▌         | 5/100 [00:04<01:20,  1.17it/s]"
          ]
        },
        {
          "name": "stdout",
          "output_type": "stream",
          "text": [
            "请分析给定文本的情感，并从以下选项中选择一个：乐，哀，怒，爱，惊，惧，恶。\n",
            "文本如下：太过想念一个人要怎么办？无比强烈的思念。\n",
            "答案是：哀\n",
            "正确答案是: 哀\n"
          ]
        },
        {
          "name": "stderr",
          "output_type": "stream",
          "text": [
            "  6%|▌         | 6/100 [00:04<01:14,  1.26it/s]"
          ]
        },
        {
          "name": "stdout",
          "output_type": "stream",
          "text": [
            "请分析给定文本的情感，并从以下选项中选择一个：乐，哀，怒，爱，惊，惧，恶。\n",
            "文本如下：来一份的山椒凤爪\n",
            "答案是：哀\n",
            "正确答案是: 乐\n"
          ]
        },
        {
          "name": "stderr",
          "output_type": "stream",
          "text": [
            "  7%|▋         | 7/100 [00:05<01:09,  1.34it/s]"
          ]
        },
        {
          "name": "stdout",
          "output_type": "stream",
          "text": [
            "请分析给定文本的情感，并从以下选项中选择一个：乐，哀，怒，爱，惊，惧，恶。\n",
            "文本如下：不是因为你的美而已\n",
            "答案是：哀\n",
            "正确答案是: 爱\n"
          ]
        },
        {
          "name": "stderr",
          "output_type": "stream",
          "text": [
            "  8%|▊         | 8/100 [00:06<01:08,  1.34it/s]"
          ]
        },
        {
          "name": "stdout",
          "output_type": "stream",
          "text": [
            "请分析给定文本的情感，并从以下选项中选择一个：乐，哀，怒，爱，惊，惧，恶。\n",
            "文本如下：偶就是·················\n",
            "答案是：哀\n",
            "正确答案是: 哀\n"
          ]
        },
        {
          "name": "stderr",
          "output_type": "stream",
          "text": [
            "  9%|▉         | 9/100 [00:06<01:09,  1.30it/s]"
          ]
        },
        {
          "name": "stdout",
          "output_type": "stream",
          "text": [
            "请分析给定文本的情感，并从以下选项中选择一个：乐，哀，怒，爱，惊，惧，恶。\n",
            "文本如下：做多才能写上百四只字这这这微博不[神马]\n",
            "答案是：哀\n",
            "正确答案是: 爱\n"
          ]
        },
        {
          "name": "stderr",
          "output_type": "stream",
          "text": [
            " 10%|█         | 10/100 [00:07<01:07,  1.33it/s]"
          ]
        },
        {
          "name": "stdout",
          "output_type": "stream",
          "text": [
            "请分析给定文本的情感，并从以下选项中选择一个：乐，哀，怒，爱，惊，惧，恶。\n",
            "文本如下：买套新衣服，回家让爸爸看看我，开心开心。\n",
            "答案是：乐\n",
            "正确答案是: 乐\n"
          ]
        },
        {
          "name": "stderr",
          "output_type": "stream",
          "text": [
            " 11%|█         | 11/100 [00:08<01:07,  1.32it/s]"
          ]
        },
        {
          "name": "stdout",
          "output_type": "stream",
          "text": [
            "请分析给定文本的情感，并从以下选项中选择一个：乐，哀，怒，爱，惊，惧，恶。\n",
            "文本如下：我可以骂娘嘛，为了我没有激情的青春，这可以算是我为青春的哀嚎吗？？？？？\n",
            "答案是：哀\n",
            "正确答案是: 怒\n"
          ]
        },
        {
          "name": "stderr",
          "output_type": "stream",
          "text": [
            " 12%|█▏        | 12/100 [00:09<01:04,  1.36it/s]"
          ]
        },
        {
          "name": "stdout",
          "output_type": "stream",
          "text": [
            "请分析给定文本的情感，并从以下选项中选择一个：乐，哀，怒，爱，惊，惧，恶。\n",
            "文本如下：我没有聋也没有瞎只是真的没有感动\n",
            "答案是：哀\n",
            "正确答案是: 哀\n"
          ]
        },
        {
          "name": "stderr",
          "output_type": "stream",
          "text": [
            " 13%|█▎        | 13/100 [00:09<01:02,  1.38it/s]"
          ]
        },
        {
          "name": "stdout",
          "output_type": "stream",
          "text": [
            "请分析给定文本的情感，并从以下选项中选择一个：乐，哀，怒，爱，惊，惧，恶。\n",
            "文本如下：自己感动了自己，确去质问别人为什么不感动，这是何必。\n",
            "答案是：哀\n",
            "正确答案是: 乐\n"
          ]
        },
        {
          "name": "stderr",
          "output_type": "stream",
          "text": [
            " 14%|█▍        | 14/100 [00:10<01:02,  1.38it/s]"
          ]
        },
        {
          "name": "stdout",
          "output_type": "stream",
          "text": [
            "请分析给定文本的情感，并从以下选项中选择一个：乐，哀，怒，爱，惊，惧，恶。\n",
            "文本如下：我有点想石铁还是想和他说话想……想……就是比别人亲切十号啥的都不一样，，，\n",
            "答案是：哀\n",
            "正确答案是: 哀\n"
          ]
        },
        {
          "name": "stderr",
          "output_type": "stream",
          "text": [
            " 15%|█▌        | 15/100 [00:11<01:06,  1.28it/s]"
          ]
        },
        {
          "name": "stdout",
          "output_type": "stream",
          "text": [
            "请分析给定文本的情感，并从以下选项中选择一个：乐，哀，怒，爱，惊，惧，恶。\n",
            "文本如下：[悲伤][伤心]这几天烂鬼手机信号不好网上信息经常没收到漫游才知道，那些没有回复的别怪我我不是有心的也不是故意的，[伤心]打电话进来也有点问题如果没接到的都是我手机没响的[伤心][泪][泪][悲伤]\n",
            "答案是：哀\n",
            "正确答案是: 哀\n"
          ]
        },
        {
          "name": "stderr",
          "output_type": "stream",
          "text": [
            " 16%|█▌        | 16/100 [00:12<01:05,  1.28it/s]"
          ]
        },
        {
          "name": "stdout",
          "output_type": "stream",
          "text": [
            "请分析给定文本的情感，并从以下选项中选择一个：乐，哀，怒，爱，惊，惧，恶。\n",
            "文本如下：这是我所期望的。。。。。。[睡觉]\n",
            "答案是：哀\n",
            "正确答案是: 恶\n"
          ]
        },
        {
          "name": "stderr",
          "output_type": "stream",
          "text": [
            " 17%|█▋        | 17/100 [00:13<01:04,  1.28it/s]"
          ]
        },
        {
          "name": "stdout",
          "output_type": "stream",
          "text": [
            "请分析给定文本的情感，并从以下选项中选择一个：乐，哀，怒，爱，惊，惧，恶。\n",
            "文本如下：尼玛那些北佬怎么那么喜欢放烟花放鞭炮啊！！！一下子砰一声一下子又砰。老是被吓到。啊啊啊啊啊啊！！神经病的！[怒]\n",
            "答案是：哀\n",
            "正确答案是: 怒\n"
          ]
        },
        {
          "name": "stderr",
          "output_type": "stream",
          "text": [
            " 18%|█▊        | 18/100 [00:13<01:01,  1.33it/s]"
          ]
        },
        {
          "name": "stdout",
          "output_type": "stream",
          "text": [
            "请分析给定文本的情感，并从以下选项中选择一个：乐，哀，怒，爱，惊，惧，恶。\n",
            "文本如下：某某某，对不起刚刚在厕所门口，把你撞倒了。抱歉，抱歉，真的很抱歉。\n",
            "答案是：哀\n",
            "正确答案是: 哀\n"
          ]
        },
        {
          "name": "stderr",
          "output_type": "stream",
          "text": [
            " 19%|█▉        | 19/100 [00:14<01:00,  1.34it/s]"
          ]
        },
        {
          "name": "stdout",
          "output_type": "stream",
          "text": [
            "请分析给定文本的情感，并从以下选项中选择一个：乐，哀，怒，爱，惊，惧，恶。\n",
            "文本如下：你可以整个学生年代都没有早恋，但是你一定会有一个朋友。\n",
            "答案是：乐\n",
            "正确答案是: 怒\n"
          ]
        },
        {
          "name": "stderr",
          "output_type": "stream",
          "text": [
            " 20%|██        | 20/100 [00:15<01:06,  1.20it/s]"
          ]
        },
        {
          "name": "stdout",
          "output_type": "stream",
          "text": [
            "请分析给定文本的情感，并从以下选项中选择一个：乐，哀，怒，爱，惊，惧，恶。\n",
            "文本如下：3……譬如唐朝高僧悟达国师，他在十世之前只是个出家人，由于生生世世懂得努力修行，后来成了帝王师。话说汉景地时代，朝廷大臣袁盎，以后出家做了高僧，由于生生世世都努力提升自己的道行，所以死了之后，十次开到人间，第十世的时候做了帝王师，这就是悟达国师……\n",
            "答案是：哀\n",
            "正确答案是: 惧\n"
          ]
        },
        {
          "name": "stderr",
          "output_type": "stream",
          "text": [
            " 21%|██        | 21/100 [00:16<01:10,  1.12it/s]"
          ]
        },
        {
          "name": "stdout",
          "output_type": "stream",
          "text": [
            "请分析给定文本的情感，并从以下选项中选择一个：乐，哀，怒，爱，惊，惧，恶。\n",
            "文本如下：【男人的用处】本人驾驶新手，路盲一个。今天跟老公去一陌生地方，但是得自己和儿子两个人回来。手机导航一会儿工夫就没电了，全靠七岁的儿子看路牌指点回家。一进家门，儿子长叹一口气：“唉，我终于知道男人的用处了。没有男人给你们指路，你们女人连家都找不到！”[广州日报\n",
            "答案是：哀\n",
            "正确答案是: 乐\n"
          ]
        },
        {
          "name": "stderr",
          "output_type": "stream",
          "text": [
            " 22%|██▏       | 22/100 [00:17<01:06,  1.17it/s]"
          ]
        },
        {
          "name": "stdout",
          "output_type": "stream",
          "text": [
            "请分析给定文本的情感，并从以下选项中选择一个：乐，哀，怒，爱，惊，惧，恶。\n",
            "文本如下：数学课我抵抗不住睡神的侵扰，正在于周公聊天之时忽然听到某人呼唤“lidan……”我猛的就醒了，反应过来才发现，老师说的是“例三。”\n",
            "答案是：哀\n",
            "正确答案是: 恶\n"
          ]
        },
        {
          "name": "stderr",
          "output_type": "stream",
          "text": [
            " 23%|██▎       | 23/100 [00:18<01:06,  1.15it/s]"
          ]
        },
        {
          "name": "stdout",
          "output_type": "stream",
          "text": [
            "请分析给定文本的情感，并从以下选项中选择一个：乐，哀，怒，爱，惊，惧，恶。\n",
            "文本如下：写了一晚上剧本头疼得要命结果晚上还有事一定要起所以只能爬床上睡觉，结果上床之后头晕得要死眼睛疼的睁不开但睡不着………………〒_〒忧伤的准备转个身侧卧然后从床上滚了下去…………\n",
            "答案是：哀\n",
            "正确答案是: 怒\n"
          ]
        },
        {
          "name": "stderr",
          "output_type": "stream",
          "text": [
            " 24%|██▍       | 24/100 [00:18<01:01,  1.24it/s]"
          ]
        },
        {
          "name": "stdout",
          "output_type": "stream",
          "text": [
            "请分析给定文本的情感，并从以下选项中选择一个：乐，哀，怒，爱，惊，惧，恶。\n",
            "文本如下：想去玩，到底要不要回家呢\n",
            "答案是：乐\n",
            "正确答案是: 怒\n"
          ]
        },
        {
          "name": "stderr",
          "output_type": "stream",
          "text": [
            " 25%|██▌       | 25/100 [00:19<00:58,  1.28it/s]"
          ]
        },
        {
          "name": "stdout",
          "output_type": "stream",
          "text": [
            "请分析给定文本的情感，并从以下选项中选择一个：乐，哀，怒，爱，惊，惧，恶。\n",
            "文本如下：期末再挂数学麦当当肯德基千元内任请。物理没上90操场十圈。求断后路。\n",
            "答案是：哀\n",
            "正确答案是: 怒\n"
          ]
        },
        {
          "name": "stderr",
          "output_type": "stream",
          "text": [
            " 26%|██▌       | 26/100 [00:20<00:55,  1.32it/s]"
          ]
        },
        {
          "name": "stdout",
          "output_type": "stream",
          "text": [
            "请分析给定文本的情感，并从以下选项中选择一个：乐，哀，怒，爱，惊，惧，恶。\n",
            "文本如下：来上海就没剪过一个合胃口的头！\n",
            "答案是：哀\n",
            "正确答案是: 怒\n"
          ]
        },
        {
          "name": "stderr",
          "output_type": "stream",
          "text": [
            " 27%|██▋       | 27/100 [00:20<00:53,  1.37it/s]"
          ]
        },
        {
          "name": "stdout",
          "output_type": "stream",
          "text": [
            "请分析给定文本的情感，并从以下选项中选择一个：乐，哀，怒，爱，惊，惧，恶。\n",
            "文本如下：原来。。。原来还有专门研究二广的研究所\n",
            "答案是：哀\n",
            "正确答案是: 惊\n"
          ]
        },
        {
          "name": "stderr",
          "output_type": "stream",
          "text": [
            " 28%|██▊       | 28/100 [00:21<00:51,  1.40it/s]"
          ]
        },
        {
          "name": "stdout",
          "output_type": "stream",
          "text": [
            "请分析给定文本的情感，并从以下选项中选择一个：乐，哀，怒，爱，惊，惧，恶。\n",
            "文本如下：你需要兼职吗？需要的请联系我吧\n",
            "答案是：恶\n",
            "正确答案是: 恶\n"
          ]
        },
        {
          "name": "stderr",
          "output_type": "stream",
          "text": [
            " 29%|██▉       | 29/100 [00:22<00:52,  1.34it/s]"
          ]
        },
        {
          "name": "stdout",
          "output_type": "stream",
          "text": [
            "请分析给定文本的情感，并从以下选项中选择一个：乐，哀，怒，爱，惊，惧，恶。\n",
            "文本如下：从大英帝国运来，还有着肥肥的香味[阴险][阴险][阴险][阴险]好喜欢的颜色，粗席宴会毕业照都要带着骚粉骚粉的它[爱你][爱你]\n",
            "答案是：哀\n",
            "正确答案是: 乐\n"
          ]
        },
        {
          "name": "stderr",
          "output_type": "stream",
          "text": [
            " 30%|███       | 30/100 [00:23<00:51,  1.37it/s]"
          ]
        },
        {
          "name": "stdout",
          "output_type": "stream",
          "text": [
            "请分析给定文本的情感，并从以下选项中选择一个：乐，哀，怒，爱，惊，惧，恶。\n",
            "文本如下：明了自己仍有无限的可能性，真好\n",
            "答案是：哀\n",
            "正确答案是: 乐\n"
          ]
        },
        {
          "name": "stderr",
          "output_type": "stream",
          "text": [
            " 31%|███       | 31/100 [00:23<00:50,  1.36it/s]"
          ]
        },
        {
          "name": "stdout",
          "output_type": "stream",
          "text": [
            "请分析给定文本的情感，并从以下选项中选择一个：乐，哀，怒，爱，惊，惧，恶。\n",
            "文本如下：今天被人喷口水两次，又莫名其妙的被打了，最后又被人各种嫌弃。我今天这是怎么了？\n",
            "答案是：哀\n",
            "正确答案是: 哀\n"
          ]
        },
        {
          "name": "stderr",
          "output_type": "stream",
          "text": [
            " 32%|███▏      | 32/100 [00:24<00:52,  1.29it/s]"
          ]
        },
        {
          "name": "stdout",
          "output_type": "stream",
          "text": [
            "请分析给定文本的情感，并从以下选项中选择一个：乐，哀，怒，爱，惊，惧，恶。\n",
            "文本如下：青春的账，是时候该买单了。我希望，等未来回头看，一切都是浮云。加油，不知道是少年还是骚年的人儿。那些你伤害的人，也正是深爱着你的人。对不起~\n",
            "答案是：哀\n",
            "正确答案是: 哀\n"
          ]
        },
        {
          "name": "stderr",
          "output_type": "stream",
          "text": [
            " 33%|███▎      | 33/100 [00:25<00:56,  1.18it/s]"
          ]
        },
        {
          "name": "stdout",
          "output_type": "stream",
          "text": [
            "请分析给定文本的情感，并从以下选项中选择一个：乐，哀，怒，爱，惊，惧，恶。\n",
            "文本如下：10月4日17：45时美龄宫门口走来一位捡拾矿泉水瓶的老太，把装满空瓶的口袋放到路边，将一只女式拎包交给美龄宫工作人员：“我在路对面椅子上捡到一个包，等到现在人也没来，天黑了我要回去了，就交给你们等人来认吧”，说完就离开消失在人流中。朴素的语言，简单的话语，感动了所有在场的人。\n",
            "答案是：哀\n",
            "正确答案是: 乐\n"
          ]
        },
        {
          "name": "stderr",
          "output_type": "stream",
          "text": [
            " 34%|███▍      | 34/100 [00:26<00:52,  1.25it/s]"
          ]
        },
        {
          "name": "stdout",
          "output_type": "stream",
          "text": [
            "请分析给定文本的情感，并从以下选项中选择一个：乐，哀，怒，爱，惊，惧，恶。\n",
            "文本如下：其实很简单，用心去感受，就会感觉到。\n",
            "答案是：哀\n",
            "正确答案是: 乐\n"
          ]
        },
        {
          "name": "stderr",
          "output_type": "stream",
          "text": [
            " 35%|███▌      | 35/100 [00:27<00:52,  1.23it/s]"
          ]
        },
        {
          "name": "stdout",
          "output_type": "stream",
          "text": [
            "请分析给定文本的情感，并从以下选项中选择一个：乐，哀，怒，爱，惊，惧，恶。\n",
            "文本如下：“好佩服演员可以一边流眼泪一边背台词，特别特别难！”“你怎么知道？”“我试了，哭的时候加说话想不丑真是太尼玛难了”\n",
            "答案是：哀\n",
            "正确答案是: 恶\n"
          ]
        },
        {
          "name": "stderr",
          "output_type": "stream",
          "text": [
            " 36%|███▌      | 36/100 [00:28<00:54,  1.18it/s]"
          ]
        },
        {
          "name": "stdout",
          "output_type": "stream",
          "text": [
            "请分析给定文本的情感，并从以下选项中选择一个：乐，哀，怒，爱，惊，惧，恶。\n",
            "文本如下：幸福是什么？幸福就是吃撑了，和同学去散步，站在桥上看一架架灰机呼啸而过，回来时迎着风，吃着冷饮，哼着小曲：“长城外，古道边，芳草碧连天”，我们欢乐地压马路，哈哈[嘻嘻]@taia-sky\n",
            "答案是：乐\n",
            "正确答案是: 乐\n"
          ]
        },
        {
          "name": "stderr",
          "output_type": "stream",
          "text": [
            " 37%|███▋      | 37/100 [00:28<00:51,  1.23it/s]"
          ]
        },
        {
          "name": "stdout",
          "output_type": "stream",
          "text": [
            "请分析给定文本的情感，并从以下选项中选择一个：乐，哀，怒，爱，惊，惧，恶。\n",
            "文本如下：躺床ing，当有需要的时候发现放在床上的眼镜找不到了\n",
            "答案是：哀\n",
            "正确答案是: 哀\n"
          ]
        },
        {
          "name": "stderr",
          "output_type": "stream",
          "text": [
            " 38%|███▊      | 38/100 [00:29<00:48,  1.28it/s]"
          ]
        },
        {
          "name": "stdout",
          "output_type": "stream",
          "text": [
            "请分析给定文本的情感，并从以下选项中选择一个：乐，哀，怒，爱，惊，惧，恶。\n",
            "文本如下：至始至终，只能把对你的相思寄托，只有寄托才能让我的内心不再寂寞。\n",
            "答案是：哀\n",
            "正确答案是: 哀\n"
          ]
        },
        {
          "name": "stderr",
          "output_type": "stream",
          "text": [
            " 39%|███▉      | 39/100 [00:30<00:46,  1.30it/s]"
          ]
        },
        {
          "name": "stdout",
          "output_type": "stream",
          "text": [
            "请分析给定文本的情感，并从以下选项中选择一个：乐，哀，怒，爱，惊，惧，恶。\n",
            "文本如下：[泪][泪]姐要毕业了，才问我带不带暑假班……[泪][泪]\n",
            "答案是：哀\n",
            "正确答案是: 乐\n"
          ]
        },
        {
          "name": "stderr",
          "output_type": "stream",
          "text": [
            " 40%|████      | 40/100 [00:31<00:49,  1.22it/s]"
          ]
        },
        {
          "name": "stdout",
          "output_type": "stream",
          "text": [
            "请分析给定文本的情感，并从以下选项中选择一个：乐，哀，怒，爱，惊，惧，恶。\n",
            "文本如下：老实说，我喜欢现在的感觉，像是回到midsembreak我们出门的那一天，有爱的感觉♥\n",
            "答案是：哀\n",
            "正确答案是: 爱\n"
          ]
        },
        {
          "name": "stderr",
          "output_type": "stream",
          "text": [
            " 41%|████      | 41/100 [00:32<00:46,  1.27it/s]"
          ]
        },
        {
          "name": "stdout",
          "output_type": "stream",
          "text": [
            "请分析给定文本的情感，并从以下选项中选择一个：乐，哀，怒，爱，惊，惧，恶。\n",
            "文本如下：好热，又有小虫子，求下雷阵雨[笑哈哈]\n",
            "答案是：哀\n",
            "正确答案是: 怒\n"
          ]
        },
        {
          "name": "stderr",
          "output_type": "stream",
          "text": [
            " 42%|████▏     | 42/100 [00:32<00:46,  1.26it/s]"
          ]
        },
        {
          "name": "stdout",
          "output_type": "stream",
          "text": [
            "请分析给定文本的情感，并从以下选项中选择一个：乐，哀，怒，爱，惊，惧，恶。\n",
            "文本如下：但愿这些所有的都是在为高考做铺垫。[心][爱你]\n",
            "答案是：哀\n",
            "正确答案是: 哀\n"
          ]
        },
        {
          "name": "stderr",
          "output_type": "stream",
          "text": [
            " 43%|████▎     | 43/100 [00:33<00:44,  1.27it/s]"
          ]
        },
        {
          "name": "stdout",
          "output_type": "stream",
          "text": [
            "请分析给定文本的情感，并从以下选项中选择一个：乐，哀，怒，爱，惊，惧，恶。\n",
            "文本如下：为什么我右脸吃一肘子嘴巴左边痛？不过我还是比洲洲幸运点……\n",
            "答案是：哀\n",
            "正确答案是: 哀\n"
          ]
        },
        {
          "name": "stderr",
          "output_type": "stream",
          "text": [
            " 44%|████▍     | 44/100 [00:34<00:44,  1.27it/s]"
          ]
        },
        {
          "name": "stdout",
          "output_type": "stream",
          "text": [
            "请分析给定文本的情感，并从以下选项中选择一个：乐，哀，怒，爱，惊，惧，恶。\n",
            "文本如下：好寂寞的年，完全没气氛。不过你还是十分开心的样子呢。\n",
            "答案是：哀\n",
            "正确答案是: 爱\n"
          ]
        },
        {
          "name": "stderr",
          "output_type": "stream",
          "text": [
            " 45%|████▌     | 45/100 [00:35<00:44,  1.23it/s]"
          ]
        },
        {
          "name": "stdout",
          "output_type": "stream",
          "text": [
            "请分析给定文本的情感，并从以下选项中选择一个：乐，哀，怒，爱，惊，惧，恶。\n",
            "文本如下：终于知道为什么大家都说张亮是男神了！戴着墨镜能捕鱼！做得一手好菜！王岳伦捞不到鱼他还悄悄的帮他捞！别否认你是男神这个事实了！\n",
            "答案是：哀\n",
            "正确答案是: 爱\n"
          ]
        },
        {
          "name": "stderr",
          "output_type": "stream",
          "text": [
            " 46%|████▌     | 46/100 [00:36<00:43,  1.23it/s]"
          ]
        },
        {
          "name": "stdout",
          "output_type": "stream",
          "text": [
            "请分析给定文本的情感，并从以下选项中选择一个：乐，哀，怒，爱，惊，惧，恶。\n",
            "文本如下：如果今天不累的像[doge]一样，明天就会活的像[doge]一样\n",
            "答案是：哀\n",
            "正确答案是: 爱\n"
          ]
        },
        {
          "name": "stderr",
          "output_type": "stream",
          "text": [
            " 47%|████▋     | 47/100 [00:37<00:48,  1.08it/s]"
          ]
        },
        {
          "name": "stdout",
          "output_type": "stream",
          "text": [
            "请分析给定文本的情感，并从以下选项中选择一个：乐，哀，怒，爱，惊，惧，恶。\n",
            "文本如下：人生苦短，我们要走的路，有着太多的无常，他人的一句劝诫，自己的一个闪念，偶尔的得与失，都时刻在改变着我们命运的走向。世事难以预料，遇事无须太执，谁都无法带走什么，又何必纠结于某一时、某一事。只有看开了，想通了，才能随缘、随性、随心，不急不躁，不悲不喜，静默淡然，随遇而安。\n",
            "答案是：哀\n",
            "正确答案是: 乐\n"
          ]
        },
        {
          "name": "stderr",
          "output_type": "stream",
          "text": [
            " 48%|████▊     | 48/100 [00:38<00:48,  1.06it/s]"
          ]
        },
        {
          "name": "stdout",
          "output_type": "stream",
          "text": [
            "请分析给定文本的情感，并从以下选项中选择一个：乐，哀，怒，爱，惊，惧，恶。\n",
            "文本如下：特别没有灵魂的一周~[汗]“外星人”去其他星球忙碌😔😔~哎~和徒徒逛街略显脚疼！哎~明天又通知培训~~“石油大学”培训~额~什么培训啊！什么考试！在哪里~哎~没有意思~~\n",
            "答案是：哀\n",
            "正确答案是: 恶\n"
          ]
        },
        {
          "name": "stderr",
          "output_type": "stream",
          "text": [
            " 49%|████▉     | 49/100 [00:39<00:47,  1.07it/s]"
          ]
        },
        {
          "name": "stdout",
          "output_type": "stream",
          "text": [
            "请分析给定文本的情感，并从以下选项中选择一个：乐，哀，怒，爱，惊，惧，恶。\n",
            "文本如下：刚给李小静打电话，她声音好小，前天她就说嗓子哑了，担心！任性的她，每次生病让她去看看，都不去，心疼！我的思念化作轻风，穿过霓虹的灯光，跃过琳琅的高楼，我相信我的低语，李静她一定能懂！\n",
            "答案是：哀\n",
            "正确答案是: 哀\n"
          ]
        },
        {
          "name": "stderr",
          "output_type": "stream",
          "text": [
            " 50%|█████     | 50/100 [00:40<00:47,  1.06it/s]"
          ]
        },
        {
          "name": "stdout",
          "output_type": "stream",
          "text": [
            "请分析给定文本的情感，并从以下选项中选择一个：乐，哀，怒，爱，惊，惧，恶。\n",
            "文本如下：亲爱的老同学，如果有一天我们在路上偶遇，而我没有和你打招呼或者打招呼了但没能准确地叫出你的名字，还请你原谅我，因为我出门时经常忘了带脑子。\n",
            "答案是：哀\n",
            "正确答案是: 哀\n"
          ]
        },
        {
          "name": "stderr",
          "output_type": "stream",
          "text": [
            " 51%|█████     | 51/100 [00:40<00:43,  1.13it/s]"
          ]
        },
        {
          "name": "stdout",
          "output_type": "stream",
          "text": [
            "请分析给定文本的情感，并从以下选项中选择一个：乐，哀，怒，爱，惊，惧，恶。\n",
            "文本如下：祝她生日快乐；-)\n",
            "答案是：哀\n",
            "正确答案是: 乐\n"
          ]
        },
        {
          "name": "stderr",
          "output_type": "stream",
          "text": [
            " 52%|█████▏    | 52/100 [00:41<00:40,  1.18it/s]"
          ]
        },
        {
          "name": "stdout",
          "output_type": "stream",
          "text": [
            "请分析给定文本的情感，并从以下选项中选择一个：乐，哀，怒，爱，惊，惧，恶。\n",
            "文本如下：我不想出门锕锕锕锕~~~~~~[崩溃][衰]可恶的没菜又要出去买\n",
            "答案是：哀\n",
            "正确答案是: 哀\n"
          ]
        },
        {
          "name": "stderr",
          "output_type": "stream",
          "text": [
            " 53%|█████▎    | 53/100 [00:42<00:38,  1.23it/s]"
          ]
        },
        {
          "name": "stdout",
          "output_type": "stream",
          "text": [
            "请分析给定文本的情感，并从以下选项中选择一个：乐，哀，怒，爱，惊，惧，恶。\n",
            "文本如下：老子是不是要这样来刷存在感了！！！！\n",
            "答案是：哀\n",
            "正确答案是: 恶\n"
          ]
        },
        {
          "name": "stderr",
          "output_type": "stream",
          "text": [
            " 54%|█████▍    | 54/100 [00:43<00:40,  1.14it/s]"
          ]
        },
        {
          "name": "stdout",
          "output_type": "stream",
          "text": [
            "请分析给定文本的情感，并从以下选项中选择一个：乐，哀，怒，爱，惊，惧，恶。\n",
            "文本如下：2013年11月22日，阴历10月20，1335分，我家花美男出生，而且顺产哦~[给力]6斤9两，超级白，大头大个子~所有的苦痛就不说啦！做妈妈的都懂得~还要感谢妈妈！感谢家人！感谢所有在场的医生和助产士！[礼物]\n",
            "答案是：哀\n",
            "正确答案是: 乐\n"
          ]
        },
        {
          "name": "stderr",
          "output_type": "stream",
          "text": [
            " 55%|█████▌    | 55/100 [00:44<00:37,  1.18it/s]"
          ]
        },
        {
          "name": "stdout",
          "output_type": "stream",
          "text": [
            "请分析给定文本的情感，并从以下选项中选择一个：乐，哀，怒，爱，惊，惧，恶。\n",
            "文本如下：从此我对人生没什么兴趣，也许是这样吧[泪]\n",
            "答案是：哀\n",
            "正确答案是: 哀\n"
          ]
        },
        {
          "name": "stderr",
          "output_type": "stream",
          "text": [
            " 56%|█████▌    | 56/100 [00:44<00:36,  1.20it/s]"
          ]
        },
        {
          "name": "stdout",
          "output_type": "stream",
          "text": [
            "请分析给定文本的情感，并从以下选项中选择一个：乐，哀，怒，爱，惊，惧，恶。\n",
            "文本如下：我累了，我难受了，什么时候才能摆脱这生活，不要这样对我好么，我需要的不多，只要开心没烦恼\n",
            "答案是：哀\n",
            "正确答案是: 怒\n"
          ]
        },
        {
          "name": "stderr",
          "output_type": "stream",
          "text": [
            " 57%|█████▋    | 57/100 [00:45<00:35,  1.20it/s]"
          ]
        },
        {
          "name": "stdout",
          "output_type": "stream",
          "text": [
            "请分析给定文本的情感，并从以下选项中选择一个：乐，哀，怒，爱，惊，惧，恶。\n",
            "文本如下：今日又想你了，忽觉有一种年年岁岁花相似，岁岁年年人不同的悲凄浮上心头。说好了等我长大再走，为什么说话不算数？\n",
            "答案是：哀\n",
            "正确答案是: 哀\n"
          ]
        },
        {
          "name": "stderr",
          "output_type": "stream",
          "text": [
            " 58%|█████▊    | 58/100 [00:46<00:37,  1.12it/s]"
          ]
        },
        {
          "name": "stdout",
          "output_type": "stream",
          "text": [
            "请分析给定文本的情感，并从以下选项中选择一个：乐，哀，怒，爱，惊，惧，恶。\n",
            "文本如下：我现在整个人都完美地融入了吉原ラメント的情绪，只是花魁纠结她的贵方様不爱她，我纠结政治哲学不爱我(你谁==此方の笼の中から见えた景色たけはわっちをいつなる时も癒してくれるのてありんす。\n",
            "答案是：哀\n",
            "正确答案是: 哀\n"
          ]
        },
        {
          "name": "stderr",
          "output_type": "stream",
          "text": [
            " 59%|█████▉    | 59/100 [00:47<00:35,  1.16it/s]"
          ]
        },
        {
          "name": "stdout",
          "output_type": "stream",
          "text": [
            "请分析给定文本的情感，并从以下选项中选择一个：乐，哀，怒，爱，惊，惧，恶。\n",
            "文本如下：多想抱着你看这满天星辰！忍耐这馀下的十多天吧！\n",
            "答案是：哀\n",
            "正确答案是: 哀\n"
          ]
        },
        {
          "name": "stderr",
          "output_type": "stream",
          "text": [
            " 60%|██████    | 60/100 [00:48<00:33,  1.19it/s]"
          ]
        },
        {
          "name": "stdout",
          "output_type": "stream",
          "text": [
            "请分析给定文本的情感，并从以下选项中选择一个：乐，哀，怒，爱，惊，惧，恶。\n",
            "文本如下：[泪][抓狂][抓狂]一群2货，老给我改什么名字！气死我了！\n",
            "答案是：哀\n",
            "正确答案是: 怒\n"
          ]
        },
        {
          "name": "stderr",
          "output_type": "stream",
          "text": [
            " 61%|██████    | 61/100 [00:49<00:35,  1.11it/s]"
          ]
        },
        {
          "name": "stdout",
          "output_type": "stream",
          "text": [
            "请分析给定文本的情感，并从以下选项中选择一个：乐，哀，怒，爱，惊，惧，恶。\n",
            "文本如下：我很喜欢星期五和星期六，即使打完球就感冒，即使星期六一天都没有碰过功课与课本，但是听着音乐，很随心的写着我喜欢的字体，看看能让我着迷的电影，看看我随便一翻就能投入的书本，从亮着的房间看到房间变暗着，仿佛这个世界只有我眼前的电脑是亮着的，世界静好，veryenjoyverynice\n",
            "答案是：哀\n",
            "正确答案是: 乐\n"
          ]
        },
        {
          "name": "stderr",
          "output_type": "stream",
          "text": [
            " 62%|██████▏   | 62/100 [00:50<00:34,  1.11it/s]"
          ]
        },
        {
          "name": "stdout",
          "output_type": "stream",
          "text": [
            "请分析给定文本的情感，并从以下选项中选择一个：乐，哀，怒，爱，惊，惧，恶。\n",
            "文本如下：足足5分钟，我们相对无言，我在努力思考该说点什么来打破这异样的尴尬，可是偷偷抬眼的时候，发现你的表情也似在努力找寻话题。终于，我忍不住“噗嗤”笑出声来……\n",
            "答案是：哀\n",
            "正确答案是: 哀\n"
          ]
        },
        {
          "name": "stderr",
          "output_type": "stream",
          "text": [
            " 63%|██████▎   | 63/100 [00:51<00:31,  1.16it/s]"
          ]
        },
        {
          "name": "stdout",
          "output_type": "stream",
          "text": [
            "请分析给定文本的情感，并从以下选项中选择一个：乐，哀，怒，爱，惊，惧，恶。\n",
            "文本如下：真是要被凑shi了-0-[泪][吐][感冒]\n",
            "答案是：哀\n",
            "正确答案是: 哀\n"
          ]
        },
        {
          "name": "stderr",
          "output_type": "stream",
          "text": [
            " 64%|██████▍   | 64/100 [00:51<00:30,  1.20it/s]"
          ]
        },
        {
          "name": "stdout",
          "output_type": "stream",
          "text": [
            "请分析给定文本的情感，并从以下选项中选择一个：乐，哀，怒，爱，惊，惧，恶。\n",
            "文本如下：看着雾霾，在喝茶，这是什么心态/\n",
            "答案是：哀\n",
            "正确答案是: 恶\n"
          ]
        },
        {
          "name": "stderr",
          "output_type": "stream",
          "text": [
            " 65%|██████▌   | 65/100 [00:52<00:28,  1.24it/s]"
          ]
        },
        {
          "name": "stdout",
          "output_type": "stream",
          "text": [
            "请分析给定文本的情感，并从以下选项中选择一个：乐，哀，怒，爱，惊，惧，恶。\n",
            "文本如下：偶遇一群恶心的人。\n",
            "答案是：恶\n",
            "正确答案是: 哀\n"
          ]
        },
        {
          "name": "stderr",
          "output_type": "stream",
          "text": [
            " 66%|██████▌   | 66/100 [00:53<00:30,  1.12it/s]"
          ]
        },
        {
          "name": "stdout",
          "output_type": "stream",
          "text": [
            "请分析给定文本的情感，并从以下选项中选择一个：乐，哀，怒，爱，惊，惧，恶。\n",
            "文本如下：你们又造今天碰见一个学汉语很焦虑马上就要考试的小伙子告诉我中文太难你们是如何做到的时候我有多么想笑吗你们还造我和另一个中国人一起教他读中文他跟我们抱怨你们中国人为啥爷爷奶奶外公外婆表哥表弟堂哥堂弟表姐表妹堂姐堂妹每一个亲戚都有专有名词的时候我们默默对视之后发现无言以对吗\n",
            "答案是：哀\n",
            "正确答案是: 哀\n"
          ]
        },
        {
          "name": "stderr",
          "output_type": "stream",
          "text": [
            " 67%|██████▋   | 67/100 [00:54<00:28,  1.16it/s]"
          ]
        },
        {
          "name": "stdout",
          "output_type": "stream",
          "text": [
            "请分析给定文本的情感，并从以下选项中选择一个：乐，哀，怒，爱，惊，惧，恶。\n",
            "文本如下：着了魔一样，我这是这么了呢。。。\n",
            "答案是：哀\n",
            "正确答案是: 爱\n"
          ]
        },
        {
          "name": "stderr",
          "output_type": "stream",
          "text": [
            " 68%|██████▊   | 68/100 [00:55<00:26,  1.20it/s]"
          ]
        },
        {
          "name": "stdout",
          "output_type": "stream",
          "text": [
            "请分析给定文本的情感，并从以下选项中选择一个：乐，哀，怒，爱，惊，惧，恶。\n",
            "文本如下：我连你爱别人我都可以忍你说我多爱你。可惜你不需要我的爱\n",
            "答案是：哀\n",
            "正确答案是: 爱\n"
          ]
        },
        {
          "name": "stderr",
          "output_type": "stream",
          "text": [
            " 69%|██████▉   | 69/100 [00:56<00:25,  1.20it/s]"
          ]
        },
        {
          "name": "stdout",
          "output_type": "stream",
          "text": [
            "请分析给定文本的情感，并从以下选项中选择一个：乐，哀，怒，爱，惊，惧，恶。\n",
            "文本如下：我们相遇，我们相识，宝贝，我会在大街上牵着你的手，牵着你的手，让所有人知道，你周德坤是金鑫的。\n",
            "答案是：哀\n",
            "正确答案是: 爱\n"
          ]
        },
        {
          "name": "stderr",
          "output_type": "stream",
          "text": [
            " 70%|███████   | 70/100 [00:56<00:23,  1.25it/s]"
          ]
        },
        {
          "name": "stdout",
          "output_type": "stream",
          "text": [
            "请分析给定文本的情感，并从以下选项中选择一个：乐，哀，怒，爱，惊，惧，恶。\n",
            "文本如下：火都来！\n",
            "答案是：哀\n",
            "正确答案是: 怒\n"
          ]
        },
        {
          "name": "stderr",
          "output_type": "stream",
          "text": [
            " 71%|███████   | 71/100 [00:57<00:23,  1.22it/s]"
          ]
        },
        {
          "name": "stdout",
          "output_type": "stream",
          "text": [
            "请分析给定文本的情感，并从以下选项中选择一个：乐，哀，怒，爱，惊，惧，恶。\n",
            "文本如下：今天小试了一下他的棋力，轻松下败他两局。一个假期没下，果然不行了啊。他很郁闷，下完默默回到他的房间，关起门来自己玩lego。明天我再陪他下。\n",
            "答案是：哀\n",
            "正确答案是: 哀\n"
          ]
        },
        {
          "name": "stderr",
          "output_type": "stream",
          "text": [
            " 72%|███████▏  | 72/100 [00:58<00:22,  1.25it/s]"
          ]
        },
        {
          "name": "stdout",
          "output_type": "stream",
          "text": [
            "请分析给定文本的情感，并从以下选项中选择一个：乐，哀，怒，爱，惊，惧，恶。\n",
            "文本如下：又结结实实哭了一顿。什么时候才能走出来。干嘛让我自己承担。\n",
            "答案是：哀\n",
            "正确答案是: 哀\n"
          ]
        },
        {
          "name": "stderr",
          "output_type": "stream",
          "text": [
            " 73%|███████▎  | 73/100 [00:59<00:21,  1.25it/s]"
          ]
        },
        {
          "name": "stdout",
          "output_type": "stream",
          "text": [
            "请分析给定文本的情感，并从以下选项中选择一个：乐，哀，怒，爱，惊，惧，恶。\n",
            "文本如下：想念兔纸的第十三天，[心]有时候，言语不足以表达我对你的思念。[鲜花]\n",
            "答案是：哀\n",
            "正确答案是: 爱\n"
          ]
        },
        {
          "name": "stderr",
          "output_type": "stream",
          "text": [
            " 74%|███████▍  | 74/100 [01:00<00:21,  1.22it/s]"
          ]
        },
        {
          "name": "stdout",
          "output_type": "stream",
          "text": [
            "请分析给定文本的情感，并从以下选项中选择一个：乐，哀，怒，爱，惊，惧，恶。\n",
            "文本如下：折腾了两天的材料因为接了一个电话而忘记保存深深的叹了口气告诉自己你是个要做大事的人要经得起考验再来一遍吧没啥\n",
            "答案是：哀\n",
            "正确答案是: 怒\n"
          ]
        },
        {
          "name": "stderr",
          "output_type": "stream",
          "text": [
            " 75%|███████▌  | 75/100 [01:01<00:20,  1.20it/s]"
          ]
        },
        {
          "name": "stdout",
          "output_type": "stream",
          "text": [
            "请分析给定文本的情感，并从以下选项中选择一个：乐，哀，怒，爱，惊，惧，恶。\n",
            "文本如下：对的时间碰到对的人，那是童话；错的时间碰到对的人，才叫青春。\n",
            "答案是：乐\n",
            "正确答案是: 爱\n"
          ]
        },
        {
          "name": "stderr",
          "output_type": "stream",
          "text": [
            " 76%|███████▌  | 76/100 [01:01<00:20,  1.18it/s]"
          ]
        },
        {
          "name": "stdout",
          "output_type": "stream",
          "text": [
            "请分析给定文本的情感，并从以下选项中选择一个：乐，哀，怒，爱，惊，惧，恶。\n",
            "文本如下：脸上起了一堆痘痘！！！\n",
            "答案是：怒\n",
            "正确答案是: 哀\n"
          ]
        },
        {
          "name": "stderr",
          "output_type": "stream",
          "text": [
            " 77%|███████▋  | 77/100 [01:02<00:18,  1.23it/s]"
          ]
        },
        {
          "name": "stdout",
          "output_type": "stream",
          "text": [
            "请分析给定文本的情感，并从以下选项中选择一个：乐，哀，怒，爱，惊，惧，恶。\n",
            "文本如下：撕声啥了不知道！和我有毛关系了\n",
            "答案是：哀\n",
            "正确答案是: 恶\n"
          ]
        },
        {
          "name": "stderr",
          "output_type": "stream",
          "text": [
            " 78%|███████▊  | 78/100 [01:03<00:19,  1.10it/s]"
          ]
        },
        {
          "name": "stdout",
          "output_type": "stream",
          "text": [
            "请分析给定文本的情感，并从以下选项中选择一个：乐，哀，怒，爱，惊，惧，恶。\n",
            "文本如下：骑电动车载着媳妇路口等红灯的时候，她双脚挨地，从后座站起来了，绿灯一闪我噌一下跑了，一里地之后才发现后面好轻啊，一看我媳妇呢！赶紧回去找到媳妇，她一脸正经的说，哎呀你看看你，来来来还是我来开吧。我长出一口气再然后。如果你看到个追着电动车一边跑一边喊亲爱的我错了的sb，那就是我\n",
            "答案是：哀\n",
            "正确答案是: 乐\n"
          ]
        },
        {
          "name": "stderr",
          "output_type": "stream",
          "text": [
            " 79%|███████▉  | 79/100 [01:04<00:18,  1.16it/s]"
          ]
        },
        {
          "name": "stdout",
          "output_type": "stream",
          "text": [
            "请分析给定文本的情感，并从以下选项中选择一个：乐，哀，怒，爱，惊，惧，恶。\n",
            "文本如下：对不起！饭！我还是要吃你！\n",
            "答案是：哀\n",
            "正确答案是: 哀\n"
          ]
        },
        {
          "name": "stderr",
          "output_type": "stream",
          "text": [
            " 80%|████████  | 80/100 [01:05<00:16,  1.18it/s]"
          ]
        },
        {
          "name": "stdout",
          "output_type": "stream",
          "text": [
            "请分析给定文本的情感，并从以下选项中选择一个：乐，哀，怒，爱，惊，惧，恶。\n",
            "文本如下：，幸福是什么？幸福是在一件久未穿过的衣服兜里掏出一张红币。那感觉像是飞来横财，虽然就一张，虽然明明是自己的。[哈哈]\n",
            "答案是：乐\n",
            "正确答案是: 乐\n"
          ]
        },
        {
          "name": "stderr",
          "output_type": "stream",
          "text": [
            " 81%|████████  | 81/100 [01:06<00:15,  1.20it/s]"
          ]
        },
        {
          "name": "stdout",
          "output_type": "stream",
          "text": [
            "请分析给定文本的情感，并从以下选项中选择一个：乐，哀，怒，爱，惊，惧，恶。\n",
            "文本如下：《青春雷锋》出品方怒斥“零票房”报道，澄清首映当天有90人观看。\n",
            "答案是：乐\n",
            "正确答案是: 爱\n"
          ]
        },
        {
          "name": "stderr",
          "output_type": "stream",
          "text": [
            " 82%|████████▏ | 82/100 [01:06<00:14,  1.23it/s]"
          ]
        },
        {
          "name": "stdout",
          "output_type": "stream",
          "text": [
            "请分析给定文本的情感，并从以下选项中选择一个：乐，哀，怒，爱，惊，惧，恶。\n",
            "文本如下：用两个字形容今天[泪][泪]\n",
            "答案是：哀\n",
            "正确答案是: 哀\n"
          ]
        },
        {
          "name": "stderr",
          "output_type": "stream",
          "text": [
            " 83%|████████▎ | 83/100 [01:07<00:14,  1.21it/s]"
          ]
        },
        {
          "name": "stdout",
          "output_type": "stream",
          "text": [
            "请分析给定文本的情感，并从以下选项中选择一个：乐，哀，怒，爱，惊，惧，恶。\n",
            "文本如下：最讨厌就在我有空的时候，你们都没空。。。等你们有空了我却要上课[衰]\n",
            "答案是：哀\n",
            "正确答案是: 哀\n"
          ]
        },
        {
          "name": "stderr",
          "output_type": "stream",
          "text": [
            " 84%|████████▍ | 84/100 [01:08<00:12,  1.24it/s]"
          ]
        },
        {
          "name": "stdout",
          "output_type": "stream",
          "text": [
            "请分析给定文本的情感，并从以下选项中选择一个：乐，哀，怒，爱，惊，惧，恶。\n",
            "文本如下：睡不着怎么办\n",
            "答案是：哀\n",
            "正确答案是: 恶\n"
          ]
        },
        {
          "name": "stderr",
          "output_type": "stream",
          "text": [
            " 85%|████████▌ | 85/100 [01:09<00:12,  1.21it/s]"
          ]
        },
        {
          "name": "stdout",
          "output_type": "stream",
          "text": [
            "请分析给定文本的情感，并从以下选项中选择一个：乐，哀，怒，爱，惊，惧，恶。\n",
            "文本如下：对不起对不起对不起对不起对不起对不起对不起对不起对不起对不起对不起对不起对不起对不起对不起对不起对不起对不起对不起对不起对不起，我哭了[悲伤]\n",
            "答案是：哀\n",
            "正确答案是: 哀\n"
          ]
        },
        {
          "name": "stderr",
          "output_type": "stream",
          "text": [
            " 86%|████████▌ | 86/100 [01:10<00:11,  1.23it/s]"
          ]
        },
        {
          "name": "stdout",
          "output_type": "stream",
          "text": [
            "请分析给定文本的情感，并从以下选项中选择一个：乐，哀，怒，爱，惊，惧，恶。\n",
            "文本如下：【青春】想一千次，不如去做一次，华丽的跌倒，胜过无谓的徘徊。\n",
            "答案是：乐\n",
            "正确答案是: 爱\n"
          ]
        },
        {
          "name": "stderr",
          "output_type": "stream",
          "text": [
            " 87%|████████▋ | 87/100 [01:10<00:10,  1.27it/s]"
          ]
        },
        {
          "name": "stdout",
          "output_type": "stream",
          "text": [
            "请分析给定文本的情感，并从以下选项中选择一个：乐，哀，怒，爱，惊，惧，恶。\n",
            "文本如下：是你的推搡和追根究底我的曾经和未来\n",
            "答案是：哀\n",
            "正确答案是: 惧\n"
          ]
        },
        {
          "name": "stderr",
          "output_type": "stream",
          "text": [
            " 88%|████████▊ | 88/100 [01:11<00:09,  1.26it/s]"
          ]
        },
        {
          "name": "stdout",
          "output_type": "stream",
          "text": [
            "请分析给定文本的情感，并从以下选项中选择一个：乐，哀，怒，爱，惊，惧，恶。\n",
            "文本如下：早起两个小时看到了平常看不到的风景，比如刚刚手贱把刘海剪了半个月不用粗门一了百了\n",
            "答案是：哀\n",
            "正确答案是: 怒\n"
          ]
        },
        {
          "name": "stderr",
          "output_type": "stream",
          "text": [
            " 89%|████████▉ | 89/100 [01:12<00:09,  1.20it/s]"
          ]
        },
        {
          "name": "stdout",
          "output_type": "stream",
          "text": [
            "请分析给定文本的情感，并从以下选项中选择一个：乐，哀，怒，爱，惊，惧，恶。\n",
            "文本如下：我不知道这样还要等多久说好的下午呢次次失望最终要变成绝望想放弃又没有勇气没有什么是需要一次又一次这样放下自尊的每次都有简单的理由就可以让我相信消气自己比什么都清楚我也不想要这样的生活\n",
            "答案是：哀\n",
            "正确答案是: 哀\n"
          ]
        },
        {
          "name": "stderr",
          "output_type": "stream",
          "text": [
            " 90%|█████████ | 90/100 [01:13<00:08,  1.16it/s]"
          ]
        },
        {
          "name": "stdout",
          "output_type": "stream",
          "text": [
            "请分析给定文本的情感，并从以下选项中选择一个：乐，哀，怒，爱，惊，惧，恶。\n",
            "文本如下：给一个异地同学打份子钱，让她有空告知卡号，她说等我有空了再给我发信息，还问zhao行的可以吗，连着问了两遍，我跟她说都行，现在可以发过来。她回我说有两个卡，不知道发哪一个号，，，，\n",
            "答案是：哀\n",
            "正确答案是: 怒\n"
          ]
        },
        {
          "name": "stderr",
          "output_type": "stream",
          "text": [
            " 91%|█████████ | 91/100 [01:14<00:07,  1.16it/s]"
          ]
        },
        {
          "name": "stdout",
          "output_type": "stream",
          "text": [
            "请分析给定文本的情感，并从以下选项中选择一个：乐，哀，怒，爱，惊，惧，恶。\n",
            "文本如下：拿着父母给的钱，在学校里正事不干，只会一头扎进那美丽的忧伤，一边拼命往里钻一边喊救命，年纪不小了，该醒醒了，该干嘛干嘛去。\n",
            "答案是：哀\n",
            "正确答案是: 爱\n"
          ]
        },
        {
          "name": "stderr",
          "output_type": "stream",
          "text": [
            " 92%|█████████▏| 92/100 [01:15<00:07,  1.08it/s]"
          ]
        },
        {
          "name": "stdout",
          "output_type": "stream",
          "text": [
            "请分析给定文本的情感，并从以下选项中选择一个：乐，哀，怒，爱，惊，惧，恶。\n",
            "文本如下：突然好怀念两年多前我们刚见面的时候。不知道还会不会再有机会去江夏。简单温暖的帐篷，大碗的米饭，蜿蜒的小路，买了却没来得及做的菜，武商里挑来挑去的野生猕猴桃，小店樱桃小丸子的勺子，凌晨空空的公车，拥挤的火车站。我好想你，好想那时候的我们。记忆里最开心的短暂的三天\n",
            "答案是：哀\n",
            "正确答案是: 哀\n"
          ]
        },
        {
          "name": "stderr",
          "output_type": "stream",
          "text": [
            " 93%|█████████▎| 93/100 [01:16<00:06,  1.11it/s]"
          ]
        },
        {
          "name": "stdout",
          "output_type": "stream",
          "text": [
            "请分析给定文本的情感，并从以下选项中选择一个：乐，哀，怒，爱，惊，惧，恶。\n",
            "文本如下：有些人你是不知道有耳机这种东西还是怎样！！手机放音乐可不可以声音小点！！[抓狂]\n",
            "答案是：哀\n",
            "正确答案是: 恶\n"
          ]
        },
        {
          "name": "stderr",
          "output_type": "stream",
          "text": [
            " 94%|█████████▍| 94/100 [01:17<00:05,  1.19it/s]"
          ]
        },
        {
          "name": "stdout",
          "output_type": "stream",
          "text": [
            "请分析给定文本的情感，并从以下选项中选择一个：乐，哀，怒，爱，惊，惧，恶。\n",
            "文本如下：有时候可爱得连自己都喜欢。\n",
            "答案是：爱\n",
            "正确答案是: 惧\n"
          ]
        },
        {
          "name": "stderr",
          "output_type": "stream",
          "text": [
            " 95%|█████████▌| 95/100 [01:17<00:04,  1.16it/s]"
          ]
        },
        {
          "name": "stdout",
          "output_type": "stream",
          "text": [
            "请分析给定文本的情感，并从以下选项中选择一个：乐，哀，怒，爱，惊，惧，恶。\n",
            "文本如下：幸福就是清晨看到阳台上自己亲手栽种的米兰羞怯地开出朵朵金黄色小花；就是大扫除时在床底下发现那双\"失踪\"已久的皮鞋；就是看着外婆坐在摇椅里慢慢睡着，身上盖着我送给她的格子披肩。\n",
            "答案是：乐\n",
            "正确答案是: 乐\n"
          ]
        },
        {
          "name": "stderr",
          "output_type": "stream",
          "text": [
            " 96%|█████████▌| 96/100 [01:18<00:03,  1.21it/s]"
          ]
        },
        {
          "name": "stdout",
          "output_type": "stream",
          "text": [
            "请分析给定文本的情感，并从以下选项中选择一个：乐，哀，怒，爱，惊，惧，恶。\n",
            "文本如下：商场里有暖气的好处就是试穿春装也不冷啊[微风]\n",
            "答案是：乐\n",
            "正确答案是: 乐\n"
          ]
        },
        {
          "name": "stderr",
          "output_type": "stream",
          "text": [
            " 97%|█████████▋| 97/100 [01:19<00:02,  1.23it/s]"
          ]
        },
        {
          "name": "stdout",
          "output_type": "stream",
          "text": [
            "请分析给定文本的情感，并从以下选项中选择一个：乐，哀，怒，爱，惊，惧，恶。\n",
            "文本如下：从现在开始，为自己、父母、朋友以及未来的爱人努力\n",
            "答案是：哀\n",
            "正确答案是: 爱\n"
          ]
        },
        {
          "name": "stderr",
          "output_type": "stream",
          "text": [
            " 98%|█████████▊| 98/100 [01:20<00:01,  1.10it/s]"
          ]
        },
        {
          "name": "stdout",
          "output_type": "stream",
          "text": [
            "请分析给定文本的情感，并从以下选项中选择一个：乐，哀，怒，爱，惊，惧，恶。\n",
            "文本如下：讲一个最近身边的事……我有个女同学她跟她男友在一起1年多期间小吵小闹女生闹着分分手很正常~但那个男生提过4-5次分手了理由有太累不理解我不喜欢你了等等……可是女生每次都哭着挽留近期男生又提了结果分了可是过了2天男的又说我后悔了最后还是合了……夫人劝过她别傻那大家觉得呢？\n",
            "答案是：哀\n",
            "正确答案是: 哀\n"
          ]
        },
        {
          "name": "stderr",
          "output_type": "stream",
          "text": [
            " 99%|█████████▉| 99/100 [01:21<00:00,  1.15it/s]"
          ]
        },
        {
          "name": "stdout",
          "output_type": "stream",
          "text": [
            "请分析给定文本的情感，并从以下选项中选择一个：乐，哀，怒，爱，惊，惧，恶。\n",
            "文本如下：看你把自己折腾的这么难受，我的确挺难受的。\n",
            "答案是：哀\n",
            "正确答案是: 恶\n"
          ]
        },
        {
          "name": "stderr",
          "output_type": "stream",
          "text": [
            "100%|██████████| 100/100 [01:22<00:00,  1.21it/s]"
          ]
        },
        {
          "name": "stdout",
          "output_type": "stream",
          "text": [
            "请分析给定文本的情感，并从以下选项中选择一个：乐，哀，怒，爱，惊，惧，恶。\n",
            "文本如下：[国旗][国旗]诚心招募[笑哈哈]掏、宝、间、职，会购物即可，骗子，坑货勿扰[江南style]，当天结，概不拖欠，详情可咨询[好激动]，掏宝卖家也可以[江南style]找我。你们懂的~！[花心]真实可靠~！[国旗][国旗]有兴趣可以联系我，qq是877280779，谢谢\n",
            "答案是：爱\n",
            "正确答案是: 爱\n",
            "Accuracy: 0.4\n"
          ]
        },
        {
          "name": "stderr",
          "output_type": "stream",
          "text": [
            "\n"
          ]
        }
      ],
      "source": [
        "# 测试规模\n",
        "test_num = 100\n",
        "# 回答正确的次数\n",
        "right_answer = 0\n",
        "\n",
        "# 测试\n",
        "for i in tqdm(range(1000, 1000 + test_num)):\n",
        "    prompt = question + texts[i] + answer + \"[MASK]\"\n",
        "\n",
        "    unmasker = pipeline('fill-mask', model='bert_zh_7_retrained', tokenizer=tokenizer)\n",
        "    output = unmasker(prompt)\n",
        "\n",
        "    # 获取最后一词\n",
        "    predict_emotion = output[0]['token_str']\n",
        "    # 打印填空结果\n",
        "    print(question + texts[i] + answer + predict_emotion)\n",
        "    \n",
        "    # 对比正确结果计算准确率\n",
        "    if (predict_emotion == emotions[i]): \n",
        "        right_answer += 1\n",
        "    # 打印正确结果\n",
        "    print(\"正确答案是:\", emotions[i])\n",
        "\n",
        "#打印准确率\n",
        "print(\"Accuracy:\", right_answer * 1.0 / test_num)"
      ]
    }
  ],
  "metadata": {
    "colab": {
      "provenance": []
    },
    "kernelspec": {
      "display_name": "Python 3",
      "name": "python3"
    },
    "language_info": {
      "codemirror_mode": {
        "name": "ipython",
        "version": 3
      },
      "file_extension": ".py",
      "mimetype": "text/x-python",
      "name": "python",
      "nbconvert_exporter": "python",
      "pygments_lexer": "ipython3",
      "version": "3.11.8"
    }
  },
  "nbformat": 4,
  "nbformat_minor": 0
}
