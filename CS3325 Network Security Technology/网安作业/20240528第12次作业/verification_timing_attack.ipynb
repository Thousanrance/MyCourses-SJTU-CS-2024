{
 "cells": [
  {
   "cell_type": "code",
   "execution_count": 12,
   "metadata": {},
   "outputs": [],
   "source": [
    "# Server类\n",
    "class Server: \n",
    "    def __init__(self):\n",
    "        # 真实密码\n",
    "        self.real_pwd = \"520030910281\" # 12位\n",
    "\n",
    "    def verify(self, input_pwd):\n",
    "        for i in range(len(self.real_pwd)):\n",
    "            if self.real_pwd[i] != input_pwd[i]:\n",
    "                # 模拟验证时延\n",
    "                return i\n",
    "        # 最长验证时延\n",
    "        return len(self.real_pwd)"
   ]
  },
  {
   "cell_type": "code",
   "execution_count": 13,
   "metadata": {},
   "outputs": [
    {
     "name": "stdout",
     "output_type": "stream",
     "text": [
      "Guessed Password: 520030910281\n",
      "Attack Success!\n"
     ]
    }
   ],
   "source": [
    "# 初始化Server\n",
    "server = Server()\n",
    "\n",
    "def timing_attack(server):\n",
    "    pwd = '0000000000000000' # 16位，多数情况下的密码最长位数，比如微信、wifi密码\n",
    "    last_passed = -1 # 上一次的正确位数\n",
    "    for i in range(len(pwd)):\n",
    "        try_pwd = pwd\n",
    "        max_passed = last_passed # 本轮最大猜对位数\n",
    "        for j in range(10):\n",
    "            # 第i位为j的尝试\n",
    "            try_list = list(try_pwd)\n",
    "            try_list[i] = str(j)\n",
    "            try_pwd = ''.join(try_list)\n",
    "            # 验证得到时延\n",
    "            delay = server.verify(try_pwd)\n",
    "            # 如果这一位猜对得到本轮最大猜对位数\n",
    "            if delay > i:\n",
    "                max_passed = i\n",
    "                break\n",
    "        # 如果本轮猜对位数大于上一轮说明还没有猜完\n",
    "        if last_passed < max_passed:\n",
    "            last_passed = max_passed\n",
    "            pwd = try_pwd\n",
    "        else:\n",
    "            # 如果本轮猜对位数等于上一轮说明已经猜完\n",
    "            pwd = pwd[0: max_passed + 1]\n",
    "            break\n",
    "    print(\"Guessed Password:\", pwd)\n",
    "    if pwd == server.real_pwd:\n",
    "        print('Attack Success!')\n",
    "    else:\n",
    "        print('Attack Failed!')\n",
    "\n",
    "# 攻击\n",
    "timing_attack(server)"
   ]
  },
  {
   "cell_type": "code",
   "execution_count": 14,
   "metadata": {},
   "outputs": [],
   "source": [
    "import random"
   ]
  },
  {
   "cell_type": "code",
   "execution_count": 15,
   "metadata": {},
   "outputs": [],
   "source": [
    "# Safe_Server类：利用随机时延抵御验证时间攻击\n",
    "class Safe_Server: \n",
    "    def __init__(self):\n",
    "        # 真实密码\n",
    "        self.real_pwd = \"520030910281\" # 12位\n",
    "\n",
    "    def verify(self, input_pwd):\n",
    "        for i in range(len(self.real_pwd)):\n",
    "            if self.real_pwd[i] != input_pwd[i]:\n",
    "                # 验证时延 + 随机等待一个时延\n",
    "                return i + random.randint(16 - i, 32 - i)\n",
    "        # 最长验证时延\n",
    "        return len(self.real_pwd)"
   ]
  },
  {
   "cell_type": "code",
   "execution_count": 16,
   "metadata": {},
   "outputs": [
    {
     "name": "stdout",
     "output_type": "stream",
     "text": [
      "Guessed Password: 0000000000000000\n",
      "Attack Failed!\n"
     ]
    }
   ],
   "source": [
    "# 随机种子\n",
    "random.seed(520030910281)\n",
    "\n",
    "# 初始化服务器\n",
    "safe_server = Safe_Server()\n",
    "\n",
    "# 尝试攻击\n",
    "timing_attack(safe_server)"
   ]
  }
 ],
 "metadata": {
  "kernelspec": {
   "display_name": "base",
   "language": "python",
   "name": "python3"
  },
  "language_info": {
   "codemirror_mode": {
    "name": "ipython",
    "version": 3
   },
   "file_extension": ".py",
   "mimetype": "text/x-python",
   "name": "python",
   "nbconvert_exporter": "python",
   "pygments_lexer": "ipython3",
   "version": "3.11.8"
  }
 },
 "nbformat": 4,
 "nbformat_minor": 2
}
