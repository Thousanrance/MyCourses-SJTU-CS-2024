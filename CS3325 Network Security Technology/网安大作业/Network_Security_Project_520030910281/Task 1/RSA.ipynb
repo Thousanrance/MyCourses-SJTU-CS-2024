{
 "cells": [
  {
   "cell_type": "code",
   "execution_count": 16,
   "metadata": {},
   "outputs": [],
   "source": [
    "import random\n",
    "from binascii import a2b_hex, b2a_hex"
   ]
  },
  {
   "cell_type": "code",
   "execution_count": 17,
   "metadata": {},
   "outputs": [],
   "source": [
    "# 1000以内的素数\n",
    "small_primes = [2, 3, 5, 7, 11, 13, 17, 19, 23, 29, 31, 37, 41, 43, 47, 53, 59, 61, 67, 71, 73, 79, 83, 89, 97, 101,\n",
    "                    103, 107, 109, 113, 127, 131, 137, 139, 149, 151, 157, 163, 167, 173, 179, 181, 191, 193, 197, 199,\n",
    "                    211, 223, 227, 229, 233, 239, 241, 251, 257, 263, 269, 271, 277, 281, 283, 293, 307, 311, 313, 317,\n",
    "                    331, 337, 347, 349, 353, 359, 367, 373, 379, 383, 389, 397, 401, 409, 419, 421, 431, 433, 439, 443,\n",
    "                    449, 457, 461, 463, 467, 479, 487, 491, 499, 503, 509, 521, 523, 541, 547, 557, 563, 569, 571, 577,\n",
    "                    587, 593, 599, 601, 607, 613, 617, 619, 631, 641, 643, 647, 653, 659, 661, 673, 677, 683, 691, 701,\n",
    "                    709, 719, 727, 733, 739, 743, 751, 757, 761, 769, 773, 787, 797, 809, 811, 821, 823, 827, 829, 839,\n",
    "                    853, 857, 859, 863, 877, 881, 883, 887, 907, 911, 919, 929, 937, 941, 947, 953, 967, 971, 977, 983,\n",
    "                    991, 997]"
   ]
  },
  {
   "cell_type": "code",
   "execution_count": 18,
   "metadata": {},
   "outputs": [
    {
     "name": "stdout",
     "output_type": "stream",
     "text": [
      "True\n",
      "False\n"
     ]
    }
   ],
   "source": [
    "# Miller Rabin算法 判断一个给定的大数是否为素数\n",
    "def miller_rabin(num, safe_k=1024):\n",
    "    # num - 1 = 2^s * t\n",
    "    s = 0\n",
    "    t = num - 1\n",
    "    while t % 2 == 0:\n",
    "        s += 1\n",
    "        t //= 2\n",
    "    \n",
    "    for _ in range(safe_k):\n",
    "        b = random.randint(2, num - 2)\n",
    "        r = pow(b, t, num)\n",
    "        if r == 1 or r == num - 1:\n",
    "            continue\n",
    "        for _ in range(s - 1):\n",
    "            r = pow(r, 2, num)\n",
    "            if r == num - 1:\n",
    "                break\n",
    "        else:\n",
    "            return False\n",
    "                \n",
    "    return True\n",
    "\n",
    "# 测试\n",
    "print(miller_rabin(997))\n",
    "print(miller_rabin(998))"
   ]
  },
  {
   "cell_type": "code",
   "execution_count": 19,
   "metadata": {},
   "outputs": [
    {
     "name": "stdout",
     "output_type": "stream",
     "text": [
      "True\n",
      "False\n"
     ]
    }
   ],
   "source": [
    "# 判断一个给定的数是否为素数\n",
    "def is_prime(num):\n",
    "    if num < 2: \n",
    "        return False\n",
    "    if num in small_primes:\n",
    "        return True\n",
    "    for prime in small_primes:\n",
    "        if num % prime == 0:\n",
    "            return False\n",
    "    return miller_rabin(num)\n",
    "\n",
    "# 测试\n",
    "print(is_prime(1009))\n",
    "print(is_prime(1010))"
   ]
  },
  {
   "cell_type": "code",
   "execution_count": 20,
   "metadata": {},
   "outputs": [
    {
     "name": "stdout",
     "output_type": "stream",
     "text": [
      "13143602335870395894589676837319383080512065326426019140889379853611636125970594949741812018171876981243398556183701333815674223748621600899892631619838101\n"
     ]
    }
   ],
   "source": [
    "# 生成一个指定（二进制）位数的素数\n",
    "def gen_prime(size=1024):\n",
    "    while True:\n",
    "        num = random.randrange(2 ** (size - 1), 2 ** size)\n",
    "        if is_prime(num):\n",
    "            return num\n",
    "\n",
    "# 测试\n",
    "print(gen_prime(512))"
   ]
  },
  {
   "cell_type": "code",
   "execution_count": 21,
   "metadata": {},
   "outputs": [
    {
     "name": "stdout",
     "output_type": "stream",
     "text": [
      "3\n",
      "1\n"
     ]
    }
   ],
   "source": [
    "# 欧几里得算法（辗转相除） 求两个数的最大公因数\n",
    "def gcd(a, b):\n",
    "    remainder = a % b\n",
    "    while remainder:\n",
    "        a = b\n",
    "        b = remainder\n",
    "        remainder = a % b\n",
    "    return b\n",
    "\n",
    "# 测试\n",
    "print(gcd(3, 27))\n",
    "print(gcd(911, 999))"
   ]
  },
  {
   "cell_type": "code",
   "execution_count": 22,
   "metadata": {},
   "outputs": [
    {
     "name": "stdout",
     "output_type": "stream",
     "text": [
      "806\n"
     ]
    }
   ],
   "source": [
    "# 拓展欧几里得算法 求模逆元(a ^ -1) % b\n",
    "def ext_euclid(a, b):\n",
    "    if b == 0:\n",
    "        return 1, 0\n",
    "    else:\n",
    "        x, y = ext_euclid(b, a % b)\n",
    "        x, y = y, (x - (a // b) * y)\n",
    "        return x, y\n",
    "    \n",
    "def mod_inverse(a, b):\n",
    "    return ext_euclid(a, b)[0] % b\n",
    "# 测试\n",
    "print(mod_inverse(911, 999))"
   ]
  },
  {
   "cell_type": "code",
   "execution_count": 23,
   "metadata": {},
   "outputs": [
    {
     "name": "stdout",
     "output_type": "stream",
     "text": [
      "1\n",
      "5\n"
     ]
    }
   ],
   "source": [
    "# 快速幂取余算法 求(a ^ b) % n\n",
    "def fast_exp_mod(a, b, n):\n",
    "    res = 1\n",
    "    while b != 0:\n",
    "        if b & 1:\n",
    "            res = (res * a) % n\n",
    "        b >>= 1\n",
    "        a = pow(a, 2, n)\n",
    "    return res\n",
    "\n",
    "# 测试\n",
    "print(fast_exp_mod(2, 10, 11))\n",
    "print(fast_exp_mod(11, 15, 13))"
   ]
  },
  {
   "cell_type": "code",
   "execution_count": 24,
   "metadata": {},
   "outputs": [],
   "source": [
    "# 写文件\n",
    "def write_file(content, path):\n",
    "    with open(path, 'w') as f:\n",
    "        f.write(content)\n",
    "    f.close()"
   ]
  },
  {
   "cell_type": "code",
   "execution_count": 25,
   "metadata": {},
   "outputs": [
    {
     "name": "stdout",
     "output_type": "stream",
     "text": [
      "((143408990504848755636628003269322480418088265046452760833397699049329975293521906156150242954590734007093354446207804013475830019340608861971643453970481896745598016985517125409764915607314670169667741890726074098312349604281235954672160102538258164315751330339457035167711827351363746820631898618394418920091, 39257892088264007283706281789340293123404725731181522904488796201630781676384736914959623558694767494207982222490788813049360375538163761675891847952675598871417777061948296452120337884565735644979614033528707621782658730213322360932990623944474990956806515789356063346395611483628257210533123347203948288365), (143408990504848755636628003269322480418088265046452760833397699049329975293521906156150242954590734007093354446207804013475830019340608861971643453970481896745598016985517125409764915607314670169667741890726074098312349604281235954672160102538258164315751330339457035167711827351363746820631898618394418920091, 143064587863178823887439009913486427668018944654352883380207556325324653893285145892890111622221814657903164506670003228827127299261884058824927640272062973627551295966259700454308447108704132383718874412511618855828383810386167611827353735884067065638131325886389824904371391092105078431288995206038527696357))\n"
     ]
    }
   ],
   "source": [
    "# RSA密钥生成\n",
    "def RSA_KeyGen(size=1024):\n",
    "    # 生成大素数p q，计算N\n",
    "    p = 1\n",
    "    q = 1\n",
    "    N = p * q\n",
    "    while N.bit_length() != size:\n",
    "        p = gen_prime(size // 2)\n",
    "        q = gen_prime(size - size // 2)\n",
    "        N = p * q\n",
    "    # 计算φ(N)\n",
    "    phi_N = (p - 1)*(q - 1)\n",
    "    # 选择与φ(N)互素的正整数e\n",
    "    e = 1\n",
    "    while True:\n",
    "        e = random.randrange(3, phi_N)\n",
    "        if gcd(e, phi_N) == 1:\n",
    "            break\n",
    "    # 生成公钥对\n",
    "    pk = (N, e)\n",
    "    # 计算d，生成私钥对\n",
    "    d = mod_inverse(e, phi_N)\n",
    "    sk = (N, d)\n",
    "\n",
    "    # 写入文件\n",
    "    write_file(str(N), 'RSA_Moduler.txt')\n",
    "    write_file(str(p), 'RSA_p.txt')\n",
    "    write_file(str(q), 'RSA_q.txt')\n",
    "    write_file(str(pk), 'RSA_Public_Key.txt')\n",
    "    write_file(str(sk), 'RSA_Secret_Key.txt')\n",
    "\n",
    "    return pk, sk\n",
    "\n",
    "# 测试\n",
    "print(RSA_KeyGen(1024))"
   ]
  },
  {
   "cell_type": "code",
   "execution_count": 26,
   "metadata": {},
   "outputs": [],
   "source": [
    "# 加密\n",
    "def RSA_Enc(pk, m): \n",
    "    m_bytes = bytes(m, encoding='utf-8')\n",
    "    m_hex_str = int(b2a_hex(m_bytes), 16)\n",
    "    c = fast_exp_mod(m_hex_str, pk[1], pk[0]) # c = (m ^ e) % N\n",
    "    return c"
   ]
  },
  {
   "cell_type": "code",
   "execution_count": 27,
   "metadata": {},
   "outputs": [],
   "source": [
    "# 解密\n",
    "def RSA_Dec(sk, c): \n",
    "    m = fast_exp_mod(c, sk[1], sk[0])  # m = (c ^ d) % N\n",
    "    m_int = a2b_hex(hex(m)[2:])\n",
    "    m_str = str(m_int, encoding='utf-8')\n",
    "    return m_str"
   ]
  },
  {
   "cell_type": "code",
   "execution_count": 28,
   "metadata": {},
   "outputs": [],
   "source": [
    "# 读文件\n",
    "def read_file(path):\n",
    "    with open(path, 'r') as f:\n",
    "        content = f.read()\n",
    "    f.close()\n",
    "    return content"
   ]
  },
  {
   "cell_type": "code",
   "execution_count": 29,
   "metadata": {},
   "outputs": [
    {
     "name": "stdout",
     "output_type": "stream",
     "text": [
      "Raw Message: Hello RSA!\n",
      "Encrypted Message: 0x1d94d3d354b81fd295ed3d83ae4a6a1619bec9179925c56a77afeceed0ad598e96175c1ffefe8b6bd1d2d9d7c25b51456380b713daf781e04645a078bdcf18a47c38bdc56d53339089d68ee1834072864583ce6aa8807a93a7b5bb22ced32adb352e1588ccd0d1a2fc193ee1ac7d313a65bc7d541e752701ac6388e5db24a971\n",
      "Decrypted Message: Hello RSA!\n"
     ]
    }
   ],
   "source": [
    "# 随机种子\n",
    "random.seed(520030910281)\n",
    "# 生成公私钥对\n",
    "size = 1024\n",
    "pk, sk = RSA_KeyGen(size)\n",
    "\n",
    "# 明文消息\n",
    "plain_msg = read_file('Raw_Message.txt')\n",
    "print(\"Raw Message:\", plain_msg)\n",
    "\n",
    "# 加密\n",
    "cipher_msg = RSA_Enc(pk, plain_msg)\n",
    "print('Encrypted Message:', hex(cipher_msg))\n",
    "write_file(hex(cipher_msg), 'Encrypted_Message.txt')\n",
    "\n",
    "# 解密\n",
    "decipher_msg = RSA_Dec(sk, cipher_msg)\n",
    "print(\"Decrypted Message:\", decipher_msg)"
   ]
  }
 ],
 "metadata": {
  "kernelspec": {
   "display_name": "base",
   "language": "python",
   "name": "python3"
  },
  "language_info": {
   "codemirror_mode": {
    "name": "ipython",
    "version": 3
   },
   "file_extension": ".py",
   "mimetype": "text/x-python",
   "name": "python",
   "nbconvert_exporter": "python",
   "pygments_lexer": "ipython3",
   "version": "3.11.8"
  }
 },
 "nbformat": 4,
 "nbformat_minor": 2
}
