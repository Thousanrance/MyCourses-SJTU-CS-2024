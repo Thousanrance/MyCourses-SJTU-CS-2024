{
 "cells": [
  {
   "cell_type": "code",
   "execution_count": 17,
   "metadata": {},
   "outputs": [],
   "source": [
    "import random\n",
    "from binascii import a2b_hex, b2a_hex\n",
    "from Crypto.Cipher import AES"
   ]
  },
  {
   "cell_type": "code",
   "execution_count": 18,
   "metadata": {},
   "outputs": [
    {
     "name": "stdout",
     "output_type": "stream",
     "text": [
      "1\n",
      "5\n"
     ]
    }
   ],
   "source": [
    "# 快速幂取余算法 求(a ^ b) % n\n",
    "def fast_exp_mod(a, b, n):\n",
    "    res = 1\n",
    "    while b != 0:\n",
    "        if b & 1:\n",
    "            res = (res * a) % n\n",
    "        b >>= 1\n",
    "        a = pow(a, 2, n)\n",
    "    return res\n",
    "\n",
    "# 测试\n",
    "print(fast_exp_mod(2, 10, 11))\n",
    "print(fast_exp_mod(11, 15, 13))"
   ]
  },
  {
   "cell_type": "code",
   "execution_count": 19,
   "metadata": {},
   "outputs": [],
   "source": [
    "# 读文件\n",
    "def read_file(path):\n",
    "    with open(path, 'r') as f:\n",
    "        content = f.read()\n",
    "    f.close()\n",
    "    return content"
   ]
  },
  {
   "cell_type": "code",
   "execution_count": 20,
   "metadata": {},
   "outputs": [],
   "source": [
    "# 写文件\n",
    "def write_file(content, path):\n",
    "    with open(path, 'w') as f:\n",
    "        f.write(content)\n",
    "    f.close()"
   ]
  },
  {
   "cell_type": "code",
   "execution_count": 21,
   "metadata": {},
   "outputs": [],
   "source": [
    "# 加密\n",
    "def RSA_Enc(pk, m): \n",
    "    c = fast_exp_mod(m, pk[1], pk[0]) # c = (m ^ e) % N\n",
    "    return c"
   ]
  },
  {
   "cell_type": "code",
   "execution_count": 22,
   "metadata": {},
   "outputs": [],
   "source": [
    "# 解密\n",
    "def RSA_Dec(sk, c): \n",
    "    m = fast_exp_mod(c, sk[1], sk[0]) # m = (c ^ d) % N\n",
    "    return m"
   ]
  },
  {
   "cell_type": "code",
   "execution_count": 23,
   "metadata": {},
   "outputs": [],
   "source": [
    "# WUP类\n",
    "class WUP:\n",
    "    def __init__(self, request=\"\", key=\"\"):\n",
    "        # AES加密的 WUP Request\n",
    "        self.aes_en_wup = request\n",
    "        # RSA加密的 AES密钥\n",
    "        self.rsa_en_aes_key = key "
   ]
  },
  {
   "cell_type": "code",
   "execution_count": 24,
   "metadata": {},
   "outputs": [],
   "source": [
    "# Client类\n",
    "class Client:\n",
    "    def __init__(self):\n",
    "        # RSA公钥\n",
    "        self.rsa_pk = eval(read_file('RSA_Public_Key.txt'))\n",
    "        # 生成AES密钥\n",
    "        self.aes_key = random.randrange(2 ** 127, 2 ** 128)\n",
    "        write_file(hex(self.aes_key), 'AES_Key.txt')\n",
    "    \n",
    "    def send_message(self, msg):\n",
    "        # WUP Request写入文件\n",
    "        write_file(hex(int(msg.encode('utf-8').hex(), 16)), 'WUP_Request.txt')\n",
    "        # 为AES加密补齐位数\n",
    "        while len(msg) % 16 != 0:\n",
    "            msg += '\\0'\n",
    "\n",
    "        # AES加密 WUP Request\n",
    "        AES_Cryptor = AES.new(a2b_hex(hex(self.aes_key)[2:]), AES.MODE_ECB)\n",
    "        aes_en_wup = b2a_hex(AES_Cryptor.encrypt(msg.encode('utf-8')))\n",
    "        \n",
    "        # RSA加密 AES密钥\n",
    "        rsa_en_aes_key = RSA_Enc(self.rsa_pk, self.aes_key)\n",
    "        \n",
    "        # AES加密的 WUP Request写入文件\n",
    "        write_file(hex(int(aes_en_wup.hex(), 16)), \"AES_Encrypted_WUP.txt\")\n",
    "        # History Message（包括AES加密的 WUP Request和RSA加密的 AES密钥）写入文件\n",
    "        write_file(hex(int(aes_en_wup.hex(), 16)) + '\\n' + hex(rsa_en_aes_key), 'History_Message.txt')\n",
    "\n",
    "        # 发送WUP报文\n",
    "        w = WUP(aes_en_wup, rsa_en_aes_key)\n",
    "        return w"
   ]
  },
  {
   "cell_type": "code",
   "execution_count": 25,
   "metadata": {},
   "outputs": [],
   "source": [
    "class Server:\n",
    "    def __init__(self):\n",
    "        # RSA公钥\n",
    "        self.rsa_pk = eval(read_file('RSA_Public_Key.txt'))\n",
    "        # RSA私钥\n",
    "        self.rsa_sk = eval(read_file('RSA_Secret_Key.txt'))\n",
    "        # AES密钥，初始尚未收到\n",
    "        self.aes_key = 0\n",
    "\n",
    "    def receive_message(self, w):\n",
    "        # RSA私钥解密 WUP报文中的 AES密钥\n",
    "        aes_key = bin(RSA_Dec(self.rsa_sk, w.rsa_en_aes_key))[-128:]\n",
    "        aes_key = int(aes_key, 2)\n",
    "\n",
    "        # 补齐位数\n",
    "        aes_key_string = \"\"\n",
    "        for i in hex(aes_key)[2:]:\n",
    "            aes_key_string += i\n",
    "        while len(aes_key_string) < 32:\n",
    "            aes_key_string = \"0\" + aes_key_string\n",
    "        self.aes_key = a2b_hex(aes_key_string)\n",
    "        \n",
    "        # AES密钥解密 WUP报文中的 WUP Request\n",
    "        AES_Decrypter = AES.new(self.aes_key, AES.MODE_ECB)\n",
    "        plain_message = b2a_hex(AES_Decrypter.decrypt(a2b_hex(w.aes_en_wup)))\n",
    "        \n",
    "        return plain_message"
   ]
  },
  {
   "cell_type": "code",
   "execution_count": 26,
   "metadata": {},
   "outputs": [
    {
     "name": "stdout",
     "output_type": "stream",
     "text": [
      "Sample Request\u0000\u0000\n"
     ]
    }
   ],
   "source": [
    "# 随机种子\n",
    "random.seed(520030910281)\n",
    "\n",
    "# 初始化\n",
    "client = Client()\n",
    "server = Server()\n",
    "\n",
    "# WUP Request\n",
    "request = \"Sample Request\"\n",
    "# Client发送WUP获得历史消息\n",
    "history_message = client.send_message(request)\n",
    "\n",
    "# Server收到消息，返回解密的WUP Request\n",
    "print(str(a2b_hex(server.receive_message(history_message)), encoding='utf-8'))"
   ]
  },
  {
   "cell_type": "code",
   "execution_count": 27,
   "metadata": {},
   "outputs": [
    {
     "name": "stdout",
     "output_type": "stream",
     "text": [
      "Attack Success!\n",
      "History Message Request: Sample Request\n",
      "AES Key: 0xb65160645fd3d71e7f21aed0e7d08e0f\n"
     ]
    }
   ],
   "source": [
    "# CCA2攻击过程\n",
    "def CCA2_Attack(server, history_msg):\n",
    "    # 已知RSA公钥\n",
    "    rsa_pk = eval(read_file('RSA_Public_Key.txt'))\n",
    "\n",
    "    # 要猜测的AES密钥，128-bit\n",
    "    current_key = 0\n",
    "    # 迭代128次\n",
    "    for ite in range(128, 0, -1):\n",
    "        # 本次猜测密钥\n",
    "        test_key = int(current_key >> 1) + (1 << 127)\n",
    "\n",
    "        # 填充用 WUP Request\n",
    "        pad_request = 'whatever'\n",
    "        while len(pad_request) % 16 != 0:\n",
    "            pad_request += '\\0'\n",
    "\n",
    "        # 用猜测的AES密钥加密 WUP Request\n",
    "        AES_Cryptor = AES.new(a2b_hex(hex(test_key)[2:]), AES.MODE_ECB)\n",
    "        aes_en_wup = str(b2a_hex(AES_Cryptor.encrypt(pad_request.encode('utf-8'))), encoding='utf-8')\n",
    "\n",
    "        # 用C（RSA公钥加密后的AES密钥）和 RSA公钥 计算 C_b\n",
    "        factor = fast_exp_mod(2, (ite - 1) * rsa_pk[1], rsa_pk[0])\n",
    "        rsa_en_aes_key = fast_exp_mod(history_msg.rsa_en_aes_key * factor, 1, rsa_pk[0])\n",
    "\n",
    "        # 构造WUP发送给Server，得到回复\n",
    "        w = WUP(aes_en_wup, rsa_en_aes_key)\n",
    "        response = server.receive_message(w)\n",
    "\n",
    "        # 如果WUP Request解密成功说明该位猜测正确，否则取反\n",
    "        if response == b2a_hex(bytes(pad_request, encoding='utf-8')):\n",
    "            current_key = test_key\n",
    "        else:\n",
    "            test_key = int(current_key >> 1)\n",
    "            current_key = test_key\n",
    "    \n",
    "    # 用最终猜得的AES密钥解密History Message中的WUP Request\n",
    "    AES_Decrypter = AES.new(a2b_hex(hex(current_key)[2:]), AES.MODE_ECB)\n",
    "    plain_msg = str(AES_Decrypter.decrypt(a2b_hex(history_message.aes_en_wup)), encoding='utf-8')\n",
    "    plain_msg = plain_msg.rstrip('\\0')\n",
    "\n",
    "    # 验证，与client最初生成的AES密钥一致则攻击成功\n",
    "    if current_key == client.aes_key:\n",
    "        print(\"Attack Success!\")\n",
    "        print('History Message Request:', plain_msg)\n",
    "        print('AES Key:', hex(current_key))\n",
    "    else:\n",
    "        print(\"Attack Fail!\")\n",
    "        print('Guessed AES Key:', current_key)\n",
    "    \n",
    "# 实施攻击\n",
    "CCA2_Attack(server, history_message)"
   ]
  }
 ],
 "metadata": {
  "kernelspec": {
   "display_name": "base",
   "language": "python",
   "name": "python3"
  },
  "language_info": {
   "codemirror_mode": {
    "name": "ipython",
    "version": 3
   },
   "file_extension": ".py",
   "mimetype": "text/x-python",
   "name": "python",
   "nbconvert_exporter": "python",
   "pygments_lexer": "ipython3",
   "version": "3.11.8"
  }
 },
 "nbformat": 4,
 "nbformat_minor": 2
}
