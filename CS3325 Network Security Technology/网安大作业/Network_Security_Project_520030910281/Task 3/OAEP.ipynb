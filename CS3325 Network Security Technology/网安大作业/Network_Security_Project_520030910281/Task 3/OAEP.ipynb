{
 "cells": [
  {
   "cell_type": "code",
   "execution_count": 117,
   "metadata": {},
   "outputs": [],
   "source": [
    "import random\n",
    "from binascii import a2b_hex, b2a_hex\n",
    "import hashlib\n",
    "from Crypto.Cipher import AES"
   ]
  },
  {
   "cell_type": "code",
   "execution_count": 118,
   "metadata": {},
   "outputs": [
    {
     "name": "stdout",
     "output_type": "stream",
     "text": [
      "1\n",
      "5\n"
     ]
    }
   ],
   "source": [
    "# 快速幂取余算法 求(a ^ b) % n\n",
    "def fast_exp_mod(a, b, n):\n",
    "    res = 1\n",
    "    while b != 0:\n",
    "        if b & 1:\n",
    "            res = (res * a) % n\n",
    "        b >>= 1\n",
    "        a = pow(a, 2, n)\n",
    "    return res\n",
    "\n",
    "# 测试\n",
    "print(fast_exp_mod(2, 10, 11))\n",
    "print(fast_exp_mod(11, 15, 13))"
   ]
  },
  {
   "cell_type": "code",
   "execution_count": 119,
   "metadata": {},
   "outputs": [],
   "source": [
    "# 读文件\n",
    "def read_file(path):\n",
    "    with open(path, 'r') as f:\n",
    "        content = f.read()\n",
    "    f.close()\n",
    "    return content"
   ]
  },
  {
   "cell_type": "code",
   "execution_count": 120,
   "metadata": {},
   "outputs": [],
   "source": [
    "# 写文件\n",
    "def write_file(content, path):\n",
    "    with open(path, 'w') as f:\n",
    "        f.write(content)\n",
    "    f.close()"
   ]
  },
  {
   "cell_type": "code",
   "execution_count": 121,
   "metadata": {},
   "outputs": [],
   "source": [
    "# 加密\n",
    "def RSA_Enc(pk, m): \n",
    "    c = fast_exp_mod(m, pk[1], pk[0]) # c = (m ^ e) % N\n",
    "    return c"
   ]
  },
  {
   "cell_type": "code",
   "execution_count": 122,
   "metadata": {},
   "outputs": [],
   "source": [
    "# 解密\n",
    "def RSA_Dec(sk, c): \n",
    "    m = fast_exp_mod(c, sk[1], sk[0]) # m = (c ^ d) % N\n",
    "    return m"
   ]
  },
  {
   "cell_type": "code",
   "execution_count": 123,
   "metadata": {},
   "outputs": [],
   "source": [
    "# OAEP-RSA加密\n",
    "def OAEP_RSA_Enc(m, pk, k0=512):\n",
    "    # 字符串转ascii码\n",
    "    encoded_m = hex(int(m.encode('utf-8').hex(), 16))\n",
    "    int_m = int(encoded_m, 16)\n",
    "\n",
    "    # 计算k1，注意填充后结果不能超过N\n",
    "    k1 = pk[0].bit_length() - int_m.bit_length() - k0 - 1\n",
    "    \n",
    "    # OAEP填充\n",
    "    r = random.randrange(1 << (k0 - 1), (1 << k0) - 1)\n",
    "    write_file(str(r), 'Random_Number.txt')\n",
    "    g_r = hashlib.sha512(hex(r).encode('utf-8'))\n",
    "    x = int(int_m << k1) ^ int(g_r.hexdigest(), 16)\n",
    "    h_x = hashlib.sha512(hex(x).encode('utf-8'))\n",
    "    y = r ^ int(h_x.hexdigest(), 16)\n",
    "    padded_m = (x << k0) + y\n",
    "    write_file(hex(padded_m), 'Message_After_Padding.txt')\n",
    "\n",
    "    # RSA公钥加密填充后结果\n",
    "    return RSA_Enc(pk, padded_m), k1"
   ]
  },
  {
   "cell_type": "code",
   "execution_count": 124,
   "metadata": {},
   "outputs": [],
   "source": [
    "# OAEP-RSA解密\n",
    "def OAEP_RSA_Dec(c, sk, k1, k0=512):\n",
    "    # RSA私钥解密填充后结果\n",
    "    padded_m = RSA_Dec(sk, c)\n",
    "\n",
    "    # OAEP还原\n",
    "    y = padded_m % (1 << k0)\n",
    "    x = padded_m >> k0\n",
    "    h_x = hashlib.sha512(hex(x).encode('utf-8'))\n",
    "    r = y ^ int(h_x.hexdigest(), 16)\n",
    "    g_r = hashlib.sha512(hex(r).encode('utf-8'))\n",
    "    int_m = x ^ int(g_r.hexdigest(), 16)\n",
    "    \n",
    "    # ascii码转字符串\n",
    "    encoded_m = a2b_hex(hex(int_m >> k1)[2:])\n",
    "    m = str(encoded_m, encoding='utf-8')\n",
    "\n",
    "    return m"
   ]
  },
  {
   "cell_type": "code",
   "execution_count": 125,
   "metadata": {},
   "outputs": [
    {
     "name": "stdout",
     "output_type": "stream",
     "text": [
      "Raw Message: Sample Message\n",
      "Encrypted Message: 0x359b53c11e93c51f0677c0890a567d8c98053bd511a2263126d415fa5cca2fa6381e4f6ed7e0ad02ffd81d53753dae411702ada8c9535d7601a04d7bd0732185ef90f4769e0bea0c9e5e075e62164f6e506fa5baa5e803f16a2354c77a4a07a97557ef6901f6c82d80916f0af09b2ffcd455986d44a1bd0019c8df65a24cd96b\n",
      "Decrypted Message: Sample Message\n"
     ]
    }
   ],
   "source": [
    "# 随机种子\n",
    "random.seed(520030910281)\n",
    "\n",
    "# RSA公钥\n",
    "pk = eval(read_file('RSA_Public_Key.txt'))\n",
    "# RSA私钥\n",
    "sk = eval(read_file('RSA_Secret_Key.txt'))\n",
    "\n",
    "# 明文消息\n",
    "plain_msg = \"Sample Message\"\n",
    "print('Raw Message:', plain_msg)\n",
    "\n",
    "# 加密\n",
    "cipher_msg, k1 = OAEP_RSA_Enc(plain_msg, pk)\n",
    "print('Encrypted Message:', hex(cipher_msg))\n",
    "write_file(hex(cipher_msg), 'Encrypted_Message.txt')\n",
    "\n",
    "# 解密\n",
    "decipher_msg = OAEP_RSA_Dec(cipher_msg, sk, k1)\n",
    "print(\"Decrypted Message:\", decipher_msg)"
   ]
  }
 ],
 "metadata": {
  "kernelspec": {
   "display_name": "base",
   "language": "python",
   "name": "python3"
  },
  "language_info": {
   "codemirror_mode": {
    "name": "ipython",
    "version": 3
   },
   "file_extension": ".py",
   "mimetype": "text/x-python",
   "name": "python",
   "nbconvert_exporter": "python",
   "pygments_lexer": "ipython3",
   "version": "3.11.8"
  }
 },
 "nbformat": 4,
 "nbformat_minor": 2
}
